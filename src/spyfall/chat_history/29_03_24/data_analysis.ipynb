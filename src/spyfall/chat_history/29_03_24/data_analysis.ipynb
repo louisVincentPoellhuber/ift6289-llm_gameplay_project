{
 "cells": [
  {
   "cell_type": "code",
   "execution_count": 2,
   "metadata": {},
   "outputs": [
    {
     "name": "stdout",
     "output_type": "stream",
     "text": [
      "Loaded 40 JSON files.\n"
     ]
    }
   ],
   "source": [
    "import os\n",
    "import json\n",
    "\n",
    "def read_jsons_from_directory(directory_path):\n",
    "    all_jsons = []\n",
    "    # List all files in the given directory\n",
    "    for filename in os.listdir(directory_path):\n",
    "        if filename.endswith(\".json\"):  # Ensures only JSON files are read\n",
    "            file_path = os.path.join(directory_path, filename)\n",
    "            with open(file_path, 'r', encoding='utf-8') as file:\n",
    "                # Load JSON content and add it to the list\n",
    "                all_jsons.append(json.load(file))\n",
    "    return all_jsons\n",
    "\n",
    "# Replace 'your_directory_path' with the path to your directory containing JSON files\n",
    "directory_path = '.'\n",
    "jsons_list = read_jsons_from_directory(directory_path)\n",
    "\n",
    "# You can now work with 'jsons_list' which contains all the JSON data\n",
    "print(f\"Loaded {len(jsons_list)} JSON files.\")\n"
   ]
  },
  {
   "cell_type": "code",
   "execution_count": 3,
   "metadata": {},
   "outputs": [
    {
     "name": "stdout",
     "output_type": "stream",
     "text": [
      "end_condition                  EE  RLE  SPYLOOSES  SPYWINS\n",
      "prompt_version                                            \n",
      "baseline                        0   10          0        0\n",
      "remember_bracket_format         0    1          4        5\n",
      "remember_json_guessing_format   7    1          2        0\n",
      "remember_sentence_format        0    2          3        5\n"
     ]
    }
   ],
   "source": [
    "import pandas as pd\n",
    "\n",
    "# Assuming jsons_list is already populated with the JSON objects\n",
    "data_for_df = []\n",
    "\n",
    "# Extracting the relevant information from each JSON object\n",
    "for game in jsons_list:\n",
    "    prompt_version = game[\"disposition\"][\"prompt_version\"]\n",
    "    end_condition = game[\"metrics\"][\"end_condition\"]\n",
    "    data_for_df.append({\"prompt_version\": prompt_version, \"end_condition\": end_condition})\n",
    "\n",
    "# Creating a DataFrame\n",
    "df = pd.DataFrame(data_for_df)\n",
    "\n",
    "# Aggregating to count different end_conditions for each prompt_version\n",
    "result_df = df.groupby(['prompt_version', 'end_condition']).size().unstack(fill_value=0)\n",
    "\n",
    "print(result_df)\n",
    "\n"
   ]
  },
  {
   "cell_type": "code",
   "execution_count": 1,
   "metadata": {},
   "outputs": [
    {
     "name": "stdout",
     "output_type": "stream",
     "text": [
      "Exported messages to ./spyfall_remember_json_guessing_format_2024_03_30_15_17_59.txt\n",
      "Exported messages to ./spyfall_baseline_2024_03_30_15_22_21.txt\n",
      "Exported messages to ./spyfall_baseline_2024_03_29_16_13_57.txt\n",
      "Exported messages to ./spyfall_remember_bracket_format_2024_03_30_10_51_58.txt\n",
      "Exported messages to ./spyfall_remember_json_guessing_format_2024_03_29_16_24_53.txt\n",
      "Exported messages to ./spyfall_baseline_2024_03_29_16_12_37.txt\n",
      "Exported messages to ./spyfall_remember_json_guessing_format_2024_03_29_16_25_48.txt\n",
      "Exported messages to ./spyfall_remember_sentence_format_2024_03_29_16_48_56.txt\n",
      "Exported messages to ./spyfall_remember_json_guessing_format_2024_03_29_16_22_51.txt\n",
      "Exported messages to ./spyfall_remember_sentence_format_2024_03_29_16_41_06.txt\n",
      "Exported messages to ./spyfall_baseline_2024_03_29_16_14_23.txt\n",
      "Exported messages to ./spyfall_remember_json_guessing_format_2024_03_29_16_19_24.txt\n",
      "Exported messages to ./spyfall_remember_sentence_format_2024_03_29_16_48_10.txt\n",
      "Exported messages to ./spyfall_baseline_2024_03_29_16_13_30.txt\n",
      "Exported messages to ./spyfall_remember_sentence_format_2024_03_30_11_26_12.txt\n",
      "Exported messages to ./spyfall_remember_json_guessing_format_2024_03_30_15_18_41.txt\n",
      "Exported messages to ./spyfall_baseline_2024_03_29_16_12_11.txt\n",
      "Exported messages to ./spyfall_remember_sentence_format_2024_03_29_16_43_00.txt\n",
      "Exported messages to ./spyfall_remember_bracket_format_2024_03_29_17_04_46.txt\n",
      "Exported messages to ./spyfall_remember_sentence_format_2024_03_29_16_46_16.txt\n",
      "Exported messages to ./spyfall_remember_json_guessing_format_2024_03_29_16_20_03.txt\n",
      "Exported messages to ./spyfall_remember_bracket_format_2024_03_29_17_06_41.txt\n",
      "Exported messages to ./spyfall_remember_sentence_format_2024_03_29_16_57_01.txt\n",
      "Exported messages to ./spyfall_remember_bracket_format_2024_03_29_17_10_09.txt\n",
      "Exported messages to ./spyfall_baseline_2024_03_29_16_11_19.txt\n",
      "Exported messages to ./spyfall_remember_sentence_format_2024_03_29_16_52_58.txt\n",
      "Exported messages to ./spyfall_baseline_2024_03_29_16_15_17.txt\n",
      "Exported messages to ./spyfall_remember_json_guessing_format_2024_03_29_16_21_54.txt\n",
      "Exported messages to ./spyfall_baseline_2024_03_29_16_13_04.txt\n",
      "Exported messages to ./spyfall_remember_bracket_format_2024_03_29_17_07_31.txt\n",
      "Exported messages to ./spyfall_remember_bracket_format_2024_03_29_17_02_49.txt\n",
      "Exported messages to ./spyfall_remember_bracket_format_2024_03_29_17_12_28.txt\n",
      "Exported messages to ./spyfall_remember_json_guessing_format_2024_03_29_16_21_04.txt\n",
      "Exported messages to ./spyfall_baseline_2024_03_29_16_11_45.txt\n",
      "Exported messages to ./spyfall_remember_bracket_format_2024_03_30_10_54_35.txt\n",
      "Exported messages to ./spyfall_remember_json_guessing_format_2024_03_29_16_23_54.txt\n",
      "Exported messages to ./spyfall_remember_sentence_format_2024_03_29_16_43_45.txt\n",
      "Exported messages to ./spyfall_remember_bracket_format_2024_03_29_17_15_01.txt\n",
      "Exported messages to ./spyfall_remember_sentence_format_2024_03_29_16_54_20.txt\n",
      "Exported messages to ./spyfall_remember_bracket_format_2024_03_29_17_19_14.txt\n"
     ]
    }
   ],
   "source": [
    "import os\n",
    "import json\n",
    "\n",
    "def parse_messages_and_export(directory_path):\n",
    "    # Iterate through each file in the directory\n",
    "    for filename in os.listdir(directory_path):\n",
    "        if filename.endswith(\".json\"):\n",
    "            file_path = os.path.join(directory_path, filename)\n",
    "            \n",
    "            # Read JSON file\n",
    "            with open(file_path, 'r', encoding='utf-8') as file:\n",
    "                data = json.load(file)\n",
    "            \n",
    "            # Extract messages and format them\n",
    "            formatted_messages = \"\"\n",
    "            for message in data[\"messages\"]:\n",
    "                agent_name = message[\"agent_name\"]\n",
    "                content = message[\"content\"]\n",
    "                visible_to = message.get(\"visible_to\", \"all\")  # Default to 'all' if not specified\n",
    "                if not isinstance(visible_to, str):  # Convert list to comma-separated string if necessary\n",
    "                    visible_to = \", \".join(visible_to)\n",
    "                formatted_messages += f\"{agent_name} [{visible_to}]: '{content}'\\n\\n\"\n",
    "            \n",
    "            # Define the output text file name (same as JSON but with .txt extension)\n",
    "            output_filename = os.path.splitext(filename)[0] + \".txt\"\n",
    "            output_file_path = os.path.join(directory_path, output_filename)\n",
    "            \n",
    "            # Write the formatted messages to a text file\n",
    "            with open(output_file_path, 'w', encoding='utf-8') as outfile:\n",
    "                outfile.write(formatted_messages)\n",
    "            \n",
    "            print(f\"Exported messages to {output_file_path}\")\n",
    "\n",
    "# Replace 'your_directory_path' with the path to your directory containing JSON files\n",
    "directory_path = '.'\n",
    "parse_messages_and_export(directory_path)\n"
   ]
  },
  {
   "cell_type": "code",
   "execution_count": 5,
   "metadata": {},
   "outputs": [
    {
     "name": "stdout",
     "output_type": "stream",
     "text": [
      "             Prompt Version  Number of Files Mentioning Words\n",
      "0  remember_sentence_format                                 4\n",
      "1   remember_bracket_format                                 2\n"
     ]
    }
   ],
   "source": [
    "import os\n",
    "import json\n",
    "import pandas as pd\n",
    "\n",
    "def count_files_with_word_mentions(directory_path):\n",
    "    # Initialize a dictionary to hold the count of files mentioning the words for each prompt_version\n",
    "    prompt_version_counts = {}\n",
    "\n",
    "    for filename in os.listdir(directory_path):\n",
    "        if filename.endswith(\".json\"):\n",
    "            file_path = os.path.join(directory_path, filename)\n",
    "\n",
    "            with open(file_path, 'r', encoding='utf-8') as file:\n",
    "                game_data = json.load(file)\n",
    "                prompt_version = game_data[\"disposition\"][\"prompt_version\"]\n",
    "                words = []\n",
    "\n",
    "                # Extract words\n",
    "                for message in game_data[\"messages\"]:\n",
    "                    content = message[\"content\"]\n",
    "                    if content and content.startswith(\"Your word is:\"):\n",
    "                        word = content.split(\": \")[1].split(\".\")[0]\n",
    "                        words.append(word)\n",
    "                \n",
    "                # Check for mentions of these words in other messages\n",
    "                mentioned = False\n",
    "                for message in game_data[\"messages\"]:\n",
    "                    content = message[\"content\"]\n",
    "                    if content:\n",
    "                        for word in words:\n",
    "                            if word in content and not content.startswith(\"Your word is:\"):\n",
    "                                mentioned = True\n",
    "                                break\n",
    "                    if mentioned:\n",
    "                        break\n",
    "\n",
    "                if mentioned:\n",
    "                    if prompt_version in prompt_version_counts:\n",
    "                        prompt_version_counts[prompt_version] += 1\n",
    "                    else:\n",
    "                        prompt_version_counts[prompt_version] = 1\n",
    "\n",
    "    # Convert the dictionary to a DataFrame for easy handling and visualization\n",
    "    df_counts = pd.DataFrame(list(prompt_version_counts.items()), columns=['Prompt Version', 'Number of Files Mentioning Words'])\n",
    "\n",
    "    return df_counts\n",
    "\n",
    "# Replace 'your_directory_path' with the path to your directory containing JSON files\n",
    "directory_path = '.'\n",
    "df_file_mentions = count_files_with_word_mentions(directory_path)\n",
    "\n",
    "# Display the DataFrame\n",
    "print(df_file_mentions)\n"
   ]
  },
  {
   "cell_type": "code",
   "execution_count": 6,
   "metadata": {},
   "outputs": [
    {
     "name": "stdout",
     "output_type": "stream",
     "text": [
      "                  prompt_version  average_count\n",
      "0                       baseline            1.0\n",
      "1        remember_bracket_format            3.7\n",
      "2  remember_json_guessing_format            1.5\n",
      "3       remember_sentence_format            3.6\n"
     ]
    }
   ],
   "source": [
    "import os\n",
    "import json\n",
    "import pandas as pd\n",
    "\n",
    "def calculate_average_describing_stage_mentions(directory_path):\n",
    "    # Data structure to hold counts of the specific message per prompt_version\n",
    "    data = []\n",
    "\n",
    "    for filename in os.listdir(directory_path):\n",
    "        if filename.endswith(\".json\"):\n",
    "            file_path = os.path.join(directory_path, filename)\n",
    "\n",
    "            with open(file_path, 'r', encoding='utf-8') as file:\n",
    "                game_data = json.load(file)\n",
    "                prompt_version = game_data[\"disposition\"][\"prompt_version\"]\n",
    "\n",
    "                # Count occurrences of the specific message in this file, ensuring content is not None\n",
    "                message_count = sum(1 for message in game_data[\"messages\"]\n",
    "                                    if message[\"content\"] and message[\"content\"].startswith(\"Host: Now it's the describing stage\"))\n",
    "\n",
    "                data.append({\"prompt_version\": prompt_version, \"message_count\": message_count})\n",
    "\n",
    "    # Convert data to a DataFrame\n",
    "    df = pd.DataFrame(data)\n",
    "\n",
    "    # Group by prompt_version and calculate the average message count\n",
    "    result_df = df.groupby('prompt_version')['message_count'].mean().reset_index(name='average_count')\n",
    "\n",
    "    return result_df\n",
    "\n",
    "# Replace 'your_directory_path' with the path to your directory containing JSON files\n",
    "directory_path = '.'\n",
    "avg_describing_stage_mentions = calculate_average_describing_stage_mentions(directory_path)\n",
    "\n",
    "# Display the result\n",
    "print(avg_describing_stage_mentions)\n"
   ]
  }
 ],
 "metadata": {
  "kernelspec": {
   "display_name": "nlpgame-env",
   "language": "python",
   "name": "python3"
  },
  "language_info": {
   "codemirror_mode": {
    "name": "ipython",
    "version": 3
   },
   "file_extension": ".py",
   "mimetype": "text/x-python",
   "name": "python",
   "nbconvert_exporter": "python",
   "pygments_lexer": "ipython3",
   "version": "3.9.undefined"
  }
 },
 "nbformat": 4,
 "nbformat_minor": 2
}
