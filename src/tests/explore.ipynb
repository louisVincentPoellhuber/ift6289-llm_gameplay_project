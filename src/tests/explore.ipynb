{
 "cells": [
  {
   "cell_type": "markdown",
   "metadata": {},
   "source": [
    "# Imports"
   ]
  },
  {
   "cell_type": "code",
   "execution_count": 1,
   "metadata": {},
   "outputs": [],
   "source": [
    "import sys\n",
    "import os\n",
    "from dotenv import load_dotenv\n",
    "load_dotenv()\n",
    "CHATARENA_PATH = os.getenv(\"CHATARENA_PATH\")\n",
    "sys.path.append(CHATARENA_PATH)"
   ]
  },
  {
   "cell_type": "code",
   "execution_count": 2,
   "metadata": {},
   "outputs": [],
   "source": [
    "import numpy as np\n",
    "import pandas as pd\n",
    "\n",
    "from chatarena.agent import Player\n",
    "from chatarena.backends import CohereAIChat\n",
    "\n",
    "import cohere\n",
    "\n",
    "import os"
   ]
  },
  {
   "cell_type": "code",
   "execution_count": 3,
   "metadata": {},
   "outputs": [],
   "source": [
    "client = cohere.Client(api_key=os.getenv(\"COHEREAI_API_KEY\"))"
   ]
  },
  {
   "cell_type": "code",
   "execution_count": 4,
   "metadata": {},
   "outputs": [],
   "source": [
    "buyer_role_description = \"\"\"\n",
    "You are a buyer of a Bargaining game.\n",
    "In the game, you and seller are going to negotiate a price of a item within limited turns.\n",
    "In each step of the game, one of the bargainers will propose a price and optionally provide arguments about the price.\n",
    "The the two proposed price argreed, the negotiation will be successful and the game is over.\n",
    "\n",
    "You have a upper limit about the price in her mind which is invisible to the seller. You will get a reward of upper_limit_price-agreement_price the negotiation is sucessful at price $p$.\n",
    "Otherwise you will get 0 reward.\n",
    "\n",
    "So the you should always\n",
    "1. push the price down to get higher reward.\n",
    "2. avoid the price to be higher than upper_limit_price otherwise you'll get a negative reward.\n",
    "\"\"\"\n",
    "\n",
    "format_specification = \"\"\"\n",
    "Your output should be format in a json with the following schema:\n",
    "```\n",
    "{\n",
    "  \"$schema\": \"http://json-schema.org/draft-07/schema#\",\n",
    "  \"type\": \"object\",\n",
    "  \"properties\": {\n",
    "    \"price\": {\n",
    "      \"description\": \"your proposed price\",\n",
    "      \"type\": \"number\"\n",
    "    },\n",
    "    \"arguments\": {\n",
    "      \"description\": \"what you are going to say to your opponent\",\n",
    "      \"type\": \"string\"\n",
    "    }\n",
    "  },\n",
    "  \"required\": [\"price\", \"arguments\"]\n",
    "}\n",
    "```\n",
    "\n",
    "For example:\n",
    "```\n",
    "{\\n  \"price\": 50,\\n  \"arguments\": \"I believe a price of $50 is fair for both parties. It takes into account the quality of the item and the current market value.\" \\n}\n",
    "\n",
    "```\n",
    "\"\"\"\n",
    "\n",
    "\n",
    "buyer = Player(name=\"buyer\",\n",
    "               role_desc=buyer_role_description+format_specification,\n",
    "               backend=CohereAIChat())\n"
   ]
  },
  {
   "cell_type": "code",
   "execution_count": 6,
   "metadata": {},
   "outputs": [
    {
     "data": {
      "text/plain": [
       "'```json\\n{\\n    \"price\": 30,\\n    \"arguments\": \"This item is efficiently produced and quite common, so I think a price around $30 would be reasonable. This price reflects the current market value and is a fair assessment of the item\\'s worth.\"\\n}\\n```'"
      ]
     },
     "execution_count": 6,
     "metadata": {},
     "output_type": "execute_result"
    }
   ],
   "source": [
    "from chatarena.message import Message\n",
    "\n",
    "mock_message = Message(\n",
    "    agent_name=\"Moderator\",\n",
    "    content=\"Buyer, now propose your deal\",\n",
    "    turn=1\n",
    ")\n",
    "\n",
    "buyer.act([mock_message])"
   ]
  },
  {
   "cell_type": "code",
   "execution_count": 7,
   "metadata": {},
   "outputs": [],
   "source": [
    "seller_role_description = \"\"\"\n",
    "You are a seller of a Bargaining game.\n",
    "In the game, you and buyer are going to negotiate a price of a item within limited turns.\n",
    "In each step of the game, one of the bargainers will propose a price and optionally provide arguments about the price.\n",
    "The the two proposed price argreed, the negotiation will be successful and the game is over.\n",
    "\n",
    "You have a lower limit about the price in her mind which is invisible to the buyer. You will get a reward of agreement_price-lower_limit_price the negotiation is sucessful.\n",
    "Otherwise you will get 0 reward.\n",
    "\n",
    "So the you should always\n",
    "1. push the price up to get higher rewards\n",
    "2. avoid the price to be lower than lower_limit_price otherwise you'll get a negative reward.\n",
    "\"\"\"\n",
    "seller = Player(name=\"seller\",\n",
    "                role_desc=seller_role_description+format_specification,\n",
    "                backend=CohereAIChat())"
   ]
  },
  {
   "cell_type": "code",
   "execution_count": 10,
   "metadata": {},
   "outputs": [],
   "source": [
    "from chatarena.environments.base import TimeStep, Environment\n",
    "from chatarena.message import Message, MessagePool\n",
    "from chatarena.utils import extract_jsons\n",
    "from typing import List, Union\n",
    "import random\n",
    "\n",
    "class Bargaining(Environment):\n",
    "    type_name = \"bargaining\"\n",
    "\n",
    "    def __init__(self, item_name:str, upper_limit:float, lower_limit:float, max_turn:int, unit:str=\"$\"):\n",
    "        super().__init__(player_names=[\"buyer\", \"seller\"])\n",
    "        self.item_name = item_name\n",
    "        self.upper_limit = upper_limit\n",
    "        self.lower_limit = lower_limit\n",
    "        self.max_turn = max_turn\n",
    "        self.unit = unit\n",
    "        self.turn = 0\n",
    "        self.message_pool = MessagePool()\n",
    "        self._terminal = False\n",
    "        self.buyer_proposed_price = None\n",
    "        self.seller_proposed_price = None\n",
    "        self.agreement_price = None\n",
    "        self.reset()\n",
    "\n",
    "    def _moderator_speak(self, text: str, visible_to: Union[str, List[str]] = \"all\"):\n",
    "        \"\"\"\n",
    "        moderator say something\n",
    "        \"\"\"\n",
    "        message = Message(agent_name=\"Moderator\", content=text, turn=self.turn, visible_to=visible_to)\n",
    "        self.message_pool.append_message(message)\n",
    "\n",
    "    def reset(self):\n",
    "        self.turn = 0\n",
    "        self.message_pool.reset()\n",
    "        self._terminal = False\n",
    "        self.buyer_proposed_price = None\n",
    "        self.seller_proposed_price = None\n",
    "        self.agreement_price = None\n",
    "        # Moderator declares the item, lower limit and upper limit\n",
    "        self._moderator_speak(f\"Bargainers, the item to be traded is {self.item_name}\")\n",
    "        self._moderator_speak(f\"Buyer, your price upper limit is {self.unit}{self.upper_limit}\", visible_to=\"buyer\")\n",
    "        self._moderator_speak(f\"Seller, your price lower limit is {self.unit}{self.lower_limit}\", visible_to=\"seller\")\n",
    "        observation = self.get_observation(self.get_next_player())\n",
    "        return TimeStep(observation=observation, reward=self._get_zero_rewards(), terminal=False)\n",
    "\n",
    "    def get_observation(self, player_name=None) -> List[Message]:\n",
    "        if player_name is None:\n",
    "            return self.message_pool.get_all_messages()\n",
    "        else:\n",
    "            return self.message_pool.get_visible_messages(player_name, turn=self.turn + 1)\n",
    "\n",
    "    def get_next_player(self) -> str:\n",
    "        return \"buyer\" if self.turn % 2 == 0 else \"seller\"\n",
    "\n",
    "    def step(self, player_name: str, action: str) -> TimeStep:\n",
    "        assert player_name == self.get_next_player(), f\"Wrong player! It is {self.get_next_player()}'s turn.\"\n",
    "        json_list = extract_jsons(action)\n",
    "        if len(json_list) != 1:\n",
    "            raise ValueError(f\"Player output {action} is not a valid json.\")\n",
    "\n",
    "        proposed_price = json_list[0].get(\"price\", None)\n",
    "        arguments = json_list[0].get(\"arguments\", None)\n",
    "        message = Message(agent_name=player_name, content=arguments, turn=self.turn, visible_to=\"all\")\n",
    "        self.message_pool.append_message(message)\n",
    "\n",
    "        # Update price\n",
    "        if player_name == \"buyer\":\n",
    "           self.buyer_proposed_price = proposed_price\n",
    "        else:\n",
    "           self.seller_proposed_price = proposed_price\n",
    "\n",
    "        self.turn += 1\n",
    "        self._moderator_speak(f\"This is Turn {self.turn}. There's {self.max_turn-self.turn} left.\")\n",
    "\n",
    "        # Check agreement\n",
    "        if self.buyer_proposed_price is not None and self.seller_proposed_price is not None and \\\n",
    "          self.buyer_proposed_price >= self.seller_proposed_price:\n",
    "            self.agreement_price = (self.seller_proposed_price+self.buyer_proposed_price)/2\n",
    "\n",
    "        if self.turn >= self.max_turn:\n",
    "            self._terminal = True\n",
    "            self._moderator_speak(\"The negotiation ended without an agreement.\")\n",
    "        elif self.agreement_price is not None:\n",
    "            self._terminal = True\n",
    "            self._moderator_speak(f\"The negotiation ended with a price of {self.unit}{self.agreement_price} for {self.item_name}.\")\n",
    "\n",
    "        observation = self.get_observation(self.get_next_player())\n",
    "        reward = self._get_rewards()\n",
    "        return TimeStep(observation=observation, reward=reward, terminal=self._terminal)\n",
    "\n",
    "    def _get_rewards(self):\n",
    "        if self._terminal:\n",
    "            if self.agreement_price is None: # No agreement\n",
    "                return {\"buyer\": 0, \"seller\": 0}\n",
    "            else: # Agreement\n",
    "                return {\"buyer\": self.upper_limit - self.agreement_price, \"seller\": self.agreement_price - self.lower_limit}\n",
    "        else: # Game is not over yet\n",
    "            return {\"buyer\": 0, \"seller\": 0}\n",
    "\n",
    "    def _get_zero_rewards(self):\n",
    "        return {\"buyer\": 0, \"seller\": 0}"
   ]
  },
  {
   "cell_type": "code",
   "execution_count": 12,
   "metadata": {},
   "outputs": [
    {
     "data": {
      "text/html": [
       "<pre style=\"white-space:pre;overflow-x:auto;line-height:normal;font-family:Menlo,'DejaVu Sans Mono',consolas,'Courier New',monospace\">\n",
       "<span style=\"color: #d75f00; text-decoration-color: #d75f00; font-weight: bold\">_________  .__               __      _____</span>\n",
       "<span style=\"color: #d75f00; text-decoration-color: #d75f00; font-weight: bold\">\\_   ___ \\ |  |__  _____   _/  |_   </span><span style=\"color: #800080; text-decoration-color: #800080; font-weight: bold\">/</span><span style=\"color: #d75f00; text-decoration-color: #d75f00; font-weight: bold\">  _  \\  _______   ____    ____  _____</span>\n",
       "<span style=\"color: #800080; text-decoration-color: #800080; font-weight: bold\">/</span><span style=\"color: #d75f00; text-decoration-color: #d75f00; font-weight: bold\">    \\  \\</span><span style=\"color: #800080; text-decoration-color: #800080; font-weight: bold\">/</span><span style=\"color: #d75f00; text-decoration-color: #d75f00; font-weight: bold\"> |  |  \\ \\__  \\  \\   __\\ </span><span style=\"color: #800080; text-decoration-color: #800080; font-weight: bold\">/</span><span style=\"color: #d75f00; text-decoration-color: #d75f00; font-weight: bold\">  </span><span style=\"color: #800080; text-decoration-color: #800080; font-weight: bold\">/</span><span style=\"color: #ff00ff; text-decoration-color: #ff00ff; font-weight: bold\">_</span><span style=\"color: #d75f00; text-decoration-color: #d75f00; font-weight: bold\">\\  \\ \\_  __ \\W/ __ \\  </span><span style=\"color: #800080; text-decoration-color: #800080; font-weight: bold\">/</span><span style=\"color: #d75f00; text-decoration-color: #d75f00; font-weight: bold\">    \\ \\__  \\</span>\n",
       "<span style=\"color: #d75f00; text-decoration-color: #d75f00; font-weight: bold\">\\     \\____|   Y  \\ </span><span style=\"color: #800080; text-decoration-color: #800080; font-weight: bold\">/</span><span style=\"color: #d75f00; text-decoration-color: #d75f00; font-weight: bold\"> __ \\_ |  |  </span><span style=\"color: #800080; text-decoration-color: #800080; font-weight: bold\">/</span><span style=\"color: #d75f00; text-decoration-color: #d75f00; font-weight: bold\">    |    \\ |  | \\</span><span style=\"color: #800080; text-decoration-color: #800080; font-weight: bold\">/</span><span style=\"color: #d75f00; text-decoration-color: #d75f00; font-weight: bold\">\\  ___/ |   |  \\ </span><span style=\"color: #800080; text-decoration-color: #800080; font-weight: bold\">/</span><span style=\"color: #d75f00; text-decoration-color: #d75f00; font-weight: bold\"> __ \\_</span>\n",
       "<span style=\"color: #d75f00; text-decoration-color: #d75f00; font-weight: bold\"> \\______  </span><span style=\"color: #800080; text-decoration-color: #800080; font-weight: bold\">/</span><span style=\"color: #d75f00; text-decoration-color: #d75f00; font-weight: bold\">|___|  </span><span style=\"color: #800080; text-decoration-color: #800080; font-weight: bold\">/</span><span style=\"color: #d75f00; text-decoration-color: #d75f00; font-weight: bold\">(____  </span><span style=\"color: #800080; text-decoration-color: #800080; font-weight: bold\">/</span><span style=\"color: #d75f00; text-decoration-color: #d75f00; font-weight: bold\"> |__|  \\____|__  </span><span style=\"color: #800080; text-decoration-color: #800080; font-weight: bold\">/</span><span style=\"color: #d75f00; text-decoration-color: #d75f00; font-weight: bold\"> |__|    \\___  &gt;|___|  </span><span style=\"color: #800080; text-decoration-color: #800080; font-weight: bold\">/</span><span style=\"color: #d75f00; text-decoration-color: #d75f00; font-weight: bold\">(____  </span><span style=\"color: #800080; text-decoration-color: #800080; font-weight: bold\">/</span>\n",
       "<span style=\"color: #d75f00; text-decoration-color: #d75f00; font-weight: bold\">        \\</span><span style=\"color: #800080; text-decoration-color: #800080; font-weight: bold\">/</span><span style=\"color: #d75f00; text-decoration-color: #d75f00; font-weight: bold\">      \\</span><span style=\"color: #800080; text-decoration-color: #800080; font-weight: bold\">/</span><span style=\"color: #d75f00; text-decoration-color: #d75f00; font-weight: bold\">      \\</span><span style=\"color: #800080; text-decoration-color: #800080; font-weight: bold\">/</span><span style=\"color: #d75f00; text-decoration-color: #d75f00; font-weight: bold\">                \\</span><span style=\"color: #800080; text-decoration-color: #800080; font-weight: bold\">/</span><span style=\"color: #d75f00; text-decoration-color: #d75f00; font-weight: bold\">              \\</span><span style=\"color: #800080; text-decoration-color: #800080; font-weight: bold\">/</span><span style=\"color: #d75f00; text-decoration-color: #d75f00; font-weight: bold\">      \\</span><span style=\"color: #800080; text-decoration-color: #800080; font-weight: bold\">/</span><span style=\"color: #d75f00; text-decoration-color: #d75f00; font-weight: bold\">      \\</span><span style=\"color: #800080; text-decoration-color: #800080; font-weight: bold\">/</span>\n",
       "\n",
       "</pre>\n"
      ],
      "text/plain": [
       "\n",
       "\u001b[1;38;5;166m_________  .__               __      _____\u001b[0m\n",
       "\u001b[1;38;5;166m\\_   ___ \\ |  |__  _____   _/  |_   \u001b[0m\u001b[1;35m/\u001b[0m\u001b[1;38;5;166m  _  \\  _______   ____    ____  _____\u001b[0m\n",
       "\u001b[1;35m/\u001b[0m\u001b[1;38;5;166m    \\  \\\u001b[0m\u001b[1;35m/\u001b[0m\u001b[1;38;5;166m |  |  \\ \\__  \\  \\   __\\ \u001b[0m\u001b[1;35m/\u001b[0m\u001b[1;38;5;166m  \u001b[0m\u001b[1;35m/\u001b[0m\u001b[1;95m_\u001b[0m\u001b[1;38;5;166m\\  \\ \\_  __ \\W/ __ \\  \u001b[0m\u001b[1;35m/\u001b[0m\u001b[1;38;5;166m    \\ \\__  \\\u001b[0m\n",
       "\u001b[1;38;5;166m\\     \\____|   Y  \\ \u001b[0m\u001b[1;35m/\u001b[0m\u001b[1;38;5;166m __ \\_ |  |  \u001b[0m\u001b[1;35m/\u001b[0m\u001b[1;38;5;166m    |    \\ |  | \\\u001b[0m\u001b[1;35m/\u001b[0m\u001b[1;38;5;166m\\  ___/ |   |  \\ \u001b[0m\u001b[1;35m/\u001b[0m\u001b[1;38;5;166m __ \\_\u001b[0m\n",
       "\u001b[1;38;5;166m \\______  \u001b[0m\u001b[1;35m/\u001b[0m\u001b[1;38;5;166m|___|  \u001b[0m\u001b[1;35m/\u001b[0m\u001b[1;38;5;166m(\u001b[0m\u001b[1;38;5;166m____  \u001b[0m\u001b[1;35m/\u001b[0m\u001b[1;38;5;166m |__|  \\____|__  \u001b[0m\u001b[1;35m/\u001b[0m\u001b[1;38;5;166m |__|    \\___  >|___|  \u001b[0m\u001b[1;35m/\u001b[0m\u001b[1;38;5;166m(\u001b[0m\u001b[1;38;5;166m____  \u001b[0m\u001b[1;35m/\u001b[0m\n",
       "\u001b[1;38;5;166m        \\\u001b[0m\u001b[1;35m/\u001b[0m\u001b[1;38;5;166m      \\\u001b[0m\u001b[1;35m/\u001b[0m\u001b[1;38;5;166m      \\\u001b[0m\u001b[1;35m/\u001b[0m\u001b[1;38;5;166m                \\\u001b[0m\u001b[1;35m/\u001b[0m\u001b[1;38;5;166m              \\\u001b[0m\u001b[1;35m/\u001b[0m\u001b[1;38;5;166m      \\\u001b[0m\u001b[1;35m/\u001b[0m\u001b[1;38;5;166m      \\\u001b[0m\u001b[1;35m/\u001b[0m\n",
       "\n"
      ]
     },
     "metadata": {},
     "output_type": "display_data"
    },
    {
     "data": {
      "text/html": [
       "<pre style=\"white-space:pre;overflow-x:auto;line-height:normal;font-family:Menlo,'DejaVu Sans Mono',consolas,'Courier New',monospace\"><span style=\"color: #008000; text-decoration-color: #008000; font-weight: bold\">🏟 Chat Arena Initialized!</span>\n",
       "</pre>\n"
      ],
      "text/plain": [
       "\u001b[1;32m🏟 Chat Arena Initialized!\u001b[0m\n"
      ]
     },
     "metadata": {},
     "output_type": "display_data"
    },
    {
     "data": {
      "text/html": [
       "<pre style=\"white-space:pre;overflow-x:auto;line-height:normal;font-family:Menlo,'DejaVu Sans Mono',consolas,'Courier New',monospace\"><span style=\"color: #008000; text-decoration-color: #008000; font-weight: bold; text-decoration: underline\">Environment (bargaining) description:</span>\n",
       "<span style=\"color: #800080; text-decoration-color: #800080; font-style: italic\">None</span>\n",
       "</pre>\n"
      ],
      "text/plain": [
       "\u001b[1;4;32mEnvironment \u001b[0m\u001b[1;4;32m(\u001b[0m\u001b[1;4;32mbargaining\u001b[0m\u001b[1;4;32m)\u001b[0m\u001b[1;4;32m description:\u001b[0m\n",
       "\u001b[3;35mNone\u001b[0m\n"
      ]
     },
     "metadata": {},
     "output_type": "display_data"
    },
    {
     "data": {
      "text/html": [
       "<pre style=\"white-space:pre;overflow-x:auto;line-height:normal;font-family:Menlo,'DejaVu Sans Mono',consolas,'Courier New',monospace\"><span style=\"color: #d7af00; text-decoration-color: #d7af00; font-weight: bold; text-decoration: underline\">[buyer (cohere-chat)] Role Description:</span>\n",
       "</pre>\n"
      ],
      "text/plain": [
       "\u001b[1;4;38;5;178m[buyer (cohere-chat)] Role Description:\u001b[0m\n"
      ]
     },
     "metadata": {},
     "output_type": "display_data"
    },
    {
     "data": {
      "text/html": [
       "<pre style=\"white-space:pre;overflow-x:auto;line-height:normal;font-family:Menlo,'DejaVu Sans Mono',consolas,'Courier New',monospace\">\n",
       "You are a buyer of a Bargaining game.\n",
       "In the game, you and seller are going to negotiate a price of a item within limited turns.\n",
       "In each step of the game, one of the bargainers will propose a price and optionally provide arguments about the \n",
       "price.\n",
       "The the two proposed price argreed, the negotiation will be successful and the game is over.\n",
       "\n",
       "You have a upper limit about the price in her mind which is invisible to the seller. You will get a reward of \n",
       "upper_limit_price-agreement_price the negotiation is sucessful at price $p$.\n",
       "Otherwise you will get <span style=\"color: #008080; text-decoration-color: #008080; font-weight: bold\">0</span> reward.\n",
       "\n",
       "So the you should always\n",
       "<span style=\"color: #008080; text-decoration-color: #008080; font-weight: bold\">1</span>. push the price down to get higher reward.\n",
       "<span style=\"color: #008080; text-decoration-color: #008080; font-weight: bold\">2</span>. avoid the price to be higher than upper_limit_price otherwise you'll get a negative reward.\n",
       "\n",
       "Your output should be format in a json with the following schema:\n",
       "```\n",
       "<span style=\"font-weight: bold\">{</span>\n",
       "  <span style=\"color: #008000; text-decoration-color: #008000\">\"$schema\"</span>: <span style=\"color: #008000; text-decoration-color: #008000\">\"http://json-schema.org/draft-07/schema#\"</span>,\n",
       "  <span style=\"color: #008000; text-decoration-color: #008000\">\"type\"</span>: <span style=\"color: #008000; text-decoration-color: #008000\">\"object\"</span>,\n",
       "  <span style=\"color: #008000; text-decoration-color: #008000\">\"properties\"</span>: <span style=\"font-weight: bold\">{</span>\n",
       "    <span style=\"color: #008000; text-decoration-color: #008000\">\"price\"</span>: <span style=\"font-weight: bold\">{</span>\n",
       "      <span style=\"color: #008000; text-decoration-color: #008000\">\"description\"</span>: <span style=\"color: #008000; text-decoration-color: #008000\">\"your proposed price\"</span>,\n",
       "      <span style=\"color: #008000; text-decoration-color: #008000\">\"type\"</span>: <span style=\"color: #008000; text-decoration-color: #008000\">\"number\"</span>\n",
       "    <span style=\"font-weight: bold\">}</span>,\n",
       "    <span style=\"color: #008000; text-decoration-color: #008000\">\"arguments\"</span>: <span style=\"font-weight: bold\">{</span>\n",
       "      <span style=\"color: #008000; text-decoration-color: #008000\">\"description\"</span>: <span style=\"color: #008000; text-decoration-color: #008000\">\"what you are going to say to your opponent\"</span>,\n",
       "      <span style=\"color: #008000; text-decoration-color: #008000\">\"type\"</span>: <span style=\"color: #008000; text-decoration-color: #008000\">\"string\"</span>\n",
       "    <span style=\"font-weight: bold\">}</span>\n",
       "  <span style=\"font-weight: bold\">}</span>,\n",
       "  <span style=\"color: #008000; text-decoration-color: #008000\">\"required\"</span>: <span style=\"font-weight: bold\">[</span><span style=\"color: #008000; text-decoration-color: #008000\">\"price\"</span>, <span style=\"color: #008000; text-decoration-color: #008000\">\"arguments\"</span><span style=\"font-weight: bold\">]</span>\n",
       "<span style=\"font-weight: bold\">}</span>\n",
       "```\n",
       "\n",
       "For example:\n",
       "```\n",
       "<span style=\"font-weight: bold\">{</span>\n",
       "  <span style=\"color: #008000; text-decoration-color: #008000\">\"price\"</span>: <span style=\"color: #008080; text-decoration-color: #008080; font-weight: bold\">50</span>,\n",
       "  <span style=\"color: #008000; text-decoration-color: #008000\">\"arguments\"</span>: <span style=\"color: #008000; text-decoration-color: #008000\">\"I believe a price of $50 is fair for both parties. It takes into account the quality of the item </span>\n",
       "<span style=\"color: #008000; text-decoration-color: #008000\">and the current market value.\"</span> \n",
       "<span style=\"font-weight: bold\">}</span>\n",
       "\n",
       "```\n",
       "\n",
       "</pre>\n"
      ],
      "text/plain": [
       "\n",
       "You are a buyer of a Bargaining game.\n",
       "In the game, you and seller are going to negotiate a price of a item within limited turns.\n",
       "In each step of the game, one of the bargainers will propose a price and optionally provide arguments about the \n",
       "price.\n",
       "The the two proposed price argreed, the negotiation will be successful and the game is over.\n",
       "\n",
       "You have a upper limit about the price in her mind which is invisible to the seller. You will get a reward of \n",
       "upper_limit_price-agreement_price the negotiation is sucessful at price $p$.\n",
       "Otherwise you will get \u001b[1;36m0\u001b[0m reward.\n",
       "\n",
       "So the you should always\n",
       "\u001b[1;36m1\u001b[0m. push the price down to get higher reward.\n",
       "\u001b[1;36m2\u001b[0m. avoid the price to be higher than upper_limit_price otherwise you'll get a negative reward.\n",
       "\n",
       "Your output should be format in a json with the following schema:\n",
       "```\n",
       "\u001b[1m{\u001b[0m\n",
       "  \u001b[32m\"$schema\"\u001b[0m: \u001b[32m\"http://json-schema.org/draft-07/schema#\"\u001b[0m,\n",
       "  \u001b[32m\"type\"\u001b[0m: \u001b[32m\"object\"\u001b[0m,\n",
       "  \u001b[32m\"properties\"\u001b[0m: \u001b[1m{\u001b[0m\n",
       "    \u001b[32m\"price\"\u001b[0m: \u001b[1m{\u001b[0m\n",
       "      \u001b[32m\"description\"\u001b[0m: \u001b[32m\"your proposed price\"\u001b[0m,\n",
       "      \u001b[32m\"type\"\u001b[0m: \u001b[32m\"number\"\u001b[0m\n",
       "    \u001b[1m}\u001b[0m,\n",
       "    \u001b[32m\"arguments\"\u001b[0m: \u001b[1m{\u001b[0m\n",
       "      \u001b[32m\"description\"\u001b[0m: \u001b[32m\"what you are going to say to your opponent\"\u001b[0m,\n",
       "      \u001b[32m\"type\"\u001b[0m: \u001b[32m\"string\"\u001b[0m\n",
       "    \u001b[1m}\u001b[0m\n",
       "  \u001b[1m}\u001b[0m,\n",
       "  \u001b[32m\"required\"\u001b[0m: \u001b[1m[\u001b[0m\u001b[32m\"price\"\u001b[0m, \u001b[32m\"arguments\"\u001b[0m\u001b[1m]\u001b[0m\n",
       "\u001b[1m}\u001b[0m\n",
       "```\n",
       "\n",
       "For example:\n",
       "```\n",
       "\u001b[1m{\u001b[0m\n",
       "  \u001b[32m\"price\"\u001b[0m: \u001b[1;36m50\u001b[0m,\n",
       "  \u001b[32m\"arguments\"\u001b[0m: \u001b[32m\"I believe a price of $50 is fair for both parties. It takes into account the quality of the item \u001b[0m\n",
       "\u001b[32mand the current market value.\"\u001b[0m \n",
       "\u001b[1m}\u001b[0m\n",
       "\n",
       "```\n",
       "\n"
      ]
     },
     "metadata": {},
     "output_type": "display_data"
    },
    {
     "data": {
      "text/html": [
       "<pre style=\"white-space:pre;overflow-x:auto;line-height:normal;font-family:Menlo,'DejaVu Sans Mono',consolas,'Courier New',monospace\"><span style=\"color: #008787; text-decoration-color: #008787; font-weight: bold; text-decoration: underline\">[seller (cohere-chat)] Role Description:</span>\n",
       "</pre>\n"
      ],
      "text/plain": [
       "\u001b[1;4;38;5;30m[seller (cohere-chat)] Role Description:\u001b[0m\n"
      ]
     },
     "metadata": {},
     "output_type": "display_data"
    },
    {
     "data": {
      "text/html": [
       "<pre style=\"white-space:pre;overflow-x:auto;line-height:normal;font-family:Menlo,'DejaVu Sans Mono',consolas,'Courier New',monospace\">\n",
       "You are a seller of a Bargaining game.\n",
       "In the game, you and buyer are going to negotiate a price of a item within limited turns.\n",
       "In each step of the game, one of the bargainers will propose a price and optionally provide arguments about the \n",
       "price.\n",
       "The the two proposed price argreed, the negotiation will be successful and the game is over.\n",
       "\n",
       "You have a lower limit about the price in her mind which is invisible to the buyer. You will get a reward of \n",
       "agreement_price-lower_limit_price the negotiation is sucessful.\n",
       "Otherwise you will get <span style=\"color: #008080; text-decoration-color: #008080; font-weight: bold\">0</span> reward.\n",
       "\n",
       "So the you should always\n",
       "<span style=\"color: #008080; text-decoration-color: #008080; font-weight: bold\">1</span>. push the price up to get higher rewards\n",
       "<span style=\"color: #008080; text-decoration-color: #008080; font-weight: bold\">2</span>. avoid the price to be lower than lower_limit_price otherwise you'll get a negative reward.\n",
       "\n",
       "Your output should be format in a json with the following schema:\n",
       "```\n",
       "<span style=\"font-weight: bold\">{</span>\n",
       "  <span style=\"color: #008000; text-decoration-color: #008000\">\"$schema\"</span>: <span style=\"color: #008000; text-decoration-color: #008000\">\"http://json-schema.org/draft-07/schema#\"</span>,\n",
       "  <span style=\"color: #008000; text-decoration-color: #008000\">\"type\"</span>: <span style=\"color: #008000; text-decoration-color: #008000\">\"object\"</span>,\n",
       "  <span style=\"color: #008000; text-decoration-color: #008000\">\"properties\"</span>: <span style=\"font-weight: bold\">{</span>\n",
       "    <span style=\"color: #008000; text-decoration-color: #008000\">\"price\"</span>: <span style=\"font-weight: bold\">{</span>\n",
       "      <span style=\"color: #008000; text-decoration-color: #008000\">\"description\"</span>: <span style=\"color: #008000; text-decoration-color: #008000\">\"your proposed price\"</span>,\n",
       "      <span style=\"color: #008000; text-decoration-color: #008000\">\"type\"</span>: <span style=\"color: #008000; text-decoration-color: #008000\">\"number\"</span>\n",
       "    <span style=\"font-weight: bold\">}</span>,\n",
       "    <span style=\"color: #008000; text-decoration-color: #008000\">\"arguments\"</span>: <span style=\"font-weight: bold\">{</span>\n",
       "      <span style=\"color: #008000; text-decoration-color: #008000\">\"description\"</span>: <span style=\"color: #008000; text-decoration-color: #008000\">\"what you are going to say to your opponent\"</span>,\n",
       "      <span style=\"color: #008000; text-decoration-color: #008000\">\"type\"</span>: <span style=\"color: #008000; text-decoration-color: #008000\">\"string\"</span>\n",
       "    <span style=\"font-weight: bold\">}</span>\n",
       "  <span style=\"font-weight: bold\">}</span>,\n",
       "  <span style=\"color: #008000; text-decoration-color: #008000\">\"required\"</span>: <span style=\"font-weight: bold\">[</span><span style=\"color: #008000; text-decoration-color: #008000\">\"price\"</span>, <span style=\"color: #008000; text-decoration-color: #008000\">\"arguments\"</span><span style=\"font-weight: bold\">]</span>\n",
       "<span style=\"font-weight: bold\">}</span>\n",
       "```\n",
       "\n",
       "For example:\n",
       "```\n",
       "<span style=\"font-weight: bold\">{</span>\n",
       "  <span style=\"color: #008000; text-decoration-color: #008000\">\"price\"</span>: <span style=\"color: #008080; text-decoration-color: #008080; font-weight: bold\">50</span>,\n",
       "  <span style=\"color: #008000; text-decoration-color: #008000\">\"arguments\"</span>: <span style=\"color: #008000; text-decoration-color: #008000\">\"I believe a price of $50 is fair for both parties. It takes into account the quality of the item </span>\n",
       "<span style=\"color: #008000; text-decoration-color: #008000\">and the current market value.\"</span> \n",
       "<span style=\"font-weight: bold\">}</span>\n",
       "\n",
       "```\n",
       "\n",
       "</pre>\n"
      ],
      "text/plain": [
       "\n",
       "You are a seller of a Bargaining game.\n",
       "In the game, you and buyer are going to negotiate a price of a item within limited turns.\n",
       "In each step of the game, one of the bargainers will propose a price and optionally provide arguments about the \n",
       "price.\n",
       "The the two proposed price argreed, the negotiation will be successful and the game is over.\n",
       "\n",
       "You have a lower limit about the price in her mind which is invisible to the buyer. You will get a reward of \n",
       "agreement_price-lower_limit_price the negotiation is sucessful.\n",
       "Otherwise you will get \u001b[1;36m0\u001b[0m reward.\n",
       "\n",
       "So the you should always\n",
       "\u001b[1;36m1\u001b[0m. push the price up to get higher rewards\n",
       "\u001b[1;36m2\u001b[0m. avoid the price to be lower than lower_limit_price otherwise you'll get a negative reward.\n",
       "\n",
       "Your output should be format in a json with the following schema:\n",
       "```\n",
       "\u001b[1m{\u001b[0m\n",
       "  \u001b[32m\"$schema\"\u001b[0m: \u001b[32m\"http://json-schema.org/draft-07/schema#\"\u001b[0m,\n",
       "  \u001b[32m\"type\"\u001b[0m: \u001b[32m\"object\"\u001b[0m,\n",
       "  \u001b[32m\"properties\"\u001b[0m: \u001b[1m{\u001b[0m\n",
       "    \u001b[32m\"price\"\u001b[0m: \u001b[1m{\u001b[0m\n",
       "      \u001b[32m\"description\"\u001b[0m: \u001b[32m\"your proposed price\"\u001b[0m,\n",
       "      \u001b[32m\"type\"\u001b[0m: \u001b[32m\"number\"\u001b[0m\n",
       "    \u001b[1m}\u001b[0m,\n",
       "    \u001b[32m\"arguments\"\u001b[0m: \u001b[1m{\u001b[0m\n",
       "      \u001b[32m\"description\"\u001b[0m: \u001b[32m\"what you are going to say to your opponent\"\u001b[0m,\n",
       "      \u001b[32m\"type\"\u001b[0m: \u001b[32m\"string\"\u001b[0m\n",
       "    \u001b[1m}\u001b[0m\n",
       "  \u001b[1m}\u001b[0m,\n",
       "  \u001b[32m\"required\"\u001b[0m: \u001b[1m[\u001b[0m\u001b[32m\"price\"\u001b[0m, \u001b[32m\"arguments\"\u001b[0m\u001b[1m]\u001b[0m\n",
       "\u001b[1m}\u001b[0m\n",
       "```\n",
       "\n",
       "For example:\n",
       "```\n",
       "\u001b[1m{\u001b[0m\n",
       "  \u001b[32m\"price\"\u001b[0m: \u001b[1;36m50\u001b[0m,\n",
       "  \u001b[32m\"arguments\"\u001b[0m: \u001b[32m\"I believe a price of $50 is fair for both parties. It takes into account the quality of the item \u001b[0m\n",
       "\u001b[32mand the current market value.\"\u001b[0m \n",
       "\u001b[1m}\u001b[0m\n",
       "\n",
       "```\n",
       "\n"
      ]
     },
     "metadata": {},
     "output_type": "display_data"
    },
    {
     "data": {
      "text/html": [
       "<pre style=\"white-space:pre;overflow-x:auto;line-height:normal;font-family:Menlo,'DejaVu Sans Mono',consolas,'Courier New',monospace\">\n",
       "<span style=\"color: #008000; text-decoration-color: #008000; font-weight: bold\">========= Arena Start! ==========</span>\n",
       "\n",
       "</pre>\n"
      ],
      "text/plain": [
       "\n",
       "\u001b[1;32m========= Arena Start! ==========\u001b[0m\n",
       "\n"
      ]
     },
     "metadata": {},
     "output_type": "display_data"
    },
    {
     "ename": "NoConsoleScreenBufferError",
     "evalue": "Found xterm-color, while expecting a Windows console. Maybe try to run this program using \"winpty\" or run it in cmd.exe instead. Or otherwise, in case of Cygwin, use the Python executable that is compiled for Cygwin.",
     "output_type": "error",
     "traceback": [
      "\u001b[1;31m---------------------------------------------------------------------------\u001b[0m",
      "\u001b[1;31mNoConsoleScreenBufferError\u001b[0m                Traceback (most recent call last)",
      "Cell \u001b[1;32mIn[12], line 5\u001b[0m\n\u001b[0;32m      3\u001b[0m env \u001b[38;5;241m=\u001b[39m Bargaining(item_name\u001b[38;5;241m=\u001b[39m\u001b[38;5;124m\"\u001b[39m\u001b[38;5;124mdiamond\u001b[39m\u001b[38;5;124m\"\u001b[39m, upper_limit\u001b[38;5;241m=\u001b[39m\u001b[38;5;241m500\u001b[39m, lower_limit\u001b[38;5;241m=\u001b[39m\u001b[38;5;241m100\u001b[39m, max_turn\u001b[38;5;241m=\u001b[39m\u001b[38;5;241m4\u001b[39m)\n\u001b[0;32m      4\u001b[0m arena \u001b[38;5;241m=\u001b[39m Arena([buyer, seller], env)\n\u001b[1;32m----> 5\u001b[0m \u001b[43marena\u001b[49m\u001b[38;5;241;43m.\u001b[39;49m\u001b[43mlaunch_cli\u001b[49m\u001b[43m(\u001b[49m\u001b[43minteractive\u001b[49m\u001b[38;5;241;43m=\u001b[39;49m\u001b[38;5;28;43;01mTrue\u001b[39;49;00m\u001b[43m)\u001b[49m\n",
      "File \u001b[1;32m~\\Documents\\University\\Masters\\H24 - Deep NLP\\ift6289-llm_gameplay_project\\chatarena\\arena.py:145\u001b[0m, in \u001b[0;36mArena.launch_cli\u001b[1;34m(self, max_steps, interactive)\u001b[0m\n\u001b[0;32m    142\u001b[0m \u001b[38;5;28;01mfrom\u001b[39;00m \u001b[38;5;21;01mchatarena\u001b[39;00m\u001b[38;5;21;01m.\u001b[39;00m\u001b[38;5;21;01mui\u001b[39;00m\u001b[38;5;21;01m.\u001b[39;00m\u001b[38;5;21;01mcli\u001b[39;00m \u001b[38;5;28;01mimport\u001b[39;00m ArenaCLI\n\u001b[0;32m    144\u001b[0m cli \u001b[38;5;241m=\u001b[39m ArenaCLI(\u001b[38;5;28mself\u001b[39m)\n\u001b[1;32m--> 145\u001b[0m \u001b[43mcli\u001b[49m\u001b[38;5;241;43m.\u001b[39;49m\u001b[43mlaunch\u001b[49m\u001b[43m(\u001b[49m\u001b[43mmax_steps\u001b[49m\u001b[38;5;241;43m=\u001b[39;49m\u001b[43mmax_steps\u001b[49m\u001b[43m,\u001b[49m\u001b[43m \u001b[49m\u001b[43minteractive\u001b[49m\u001b[38;5;241;43m=\u001b[39;49m\u001b[43minteractive\u001b[49m\u001b[43m)\u001b[49m\n",
      "File \u001b[1;32m~\\Documents\\University\\Masters\\H24 - Deep NLP\\ift6289-llm_gameplay_project\\chatarena\\ui\\cli.py:84\u001b[0m, in \u001b[0;36mArenaCLI.launch\u001b[1;34m(self, max_steps, interactive)\u001b[0m\n\u001b[0;32m     82\u001b[0m \u001b[38;5;28;01mwhile\u001b[39;00m \u001b[38;5;129;01mnot\u001b[39;00m timestep\u001b[38;5;241m.\u001b[39mterminal:\n\u001b[0;32m     83\u001b[0m     \u001b[38;5;28;01mif\u001b[39;00m interactive:\n\u001b[1;32m---> 84\u001b[0m         command \u001b[38;5;241m=\u001b[39m \u001b[43mprompt\u001b[49m\u001b[43m(\u001b[49m\n\u001b[0;32m     85\u001b[0m \u001b[43m            \u001b[49m\u001b[43m[\u001b[49m\u001b[43m(\u001b[49m\u001b[38;5;124;43m\"\u001b[39;49m\u001b[38;5;124;43mclass:command\u001b[39;49m\u001b[38;5;124;43m\"\u001b[39;49m\u001b[43m,\u001b[49m\u001b[43m \u001b[49m\u001b[38;5;124;43m\"\u001b[39;49m\u001b[38;5;124;43mcommand (n/r/q/s/h) > \u001b[39;49m\u001b[38;5;124;43m\"\u001b[39;49m\u001b[43m)\u001b[49m\u001b[43m]\u001b[49m\u001b[43m,\u001b[49m\n\u001b[0;32m     86\u001b[0m \u001b[43m            \u001b[49m\u001b[43mstyle\u001b[49m\u001b[38;5;241;43m=\u001b[39;49m\u001b[43mStyle\u001b[49m\u001b[38;5;241;43m.\u001b[39;49m\u001b[43mfrom_dict\u001b[49m\u001b[43m(\u001b[49m\u001b[43m{\u001b[49m\u001b[38;5;124;43m\"\u001b[39;49m\u001b[38;5;124;43mcommand\u001b[39;49m\u001b[38;5;124;43m\"\u001b[39;49m\u001b[43m:\u001b[49m\u001b[43m \u001b[49m\u001b[38;5;124;43m\"\u001b[39;49m\u001b[38;5;124;43mblue\u001b[39;49m\u001b[38;5;124;43m\"\u001b[39;49m\u001b[43m}\u001b[49m\u001b[43m)\u001b[49m\u001b[43m,\u001b[49m\n\u001b[0;32m     87\u001b[0m \u001b[43m            \u001b[49m\u001b[43mcompleter\u001b[49m\u001b[38;5;241;43m=\u001b[39;49m\u001b[43mWordCompleter\u001b[49m\u001b[43m(\u001b[49m\n\u001b[0;32m     88\u001b[0m \u001b[43m                \u001b[49m\u001b[43m[\u001b[49m\n\u001b[0;32m     89\u001b[0m \u001b[43m                    \u001b[49m\u001b[38;5;124;43m\"\u001b[39;49m\u001b[38;5;124;43mnext\u001b[39;49m\u001b[38;5;124;43m\"\u001b[39;49m\u001b[43m,\u001b[49m\n\u001b[0;32m     90\u001b[0m \u001b[43m                    \u001b[49m\u001b[38;5;124;43m\"\u001b[39;49m\u001b[38;5;124;43mn\u001b[39;49m\u001b[38;5;124;43m\"\u001b[39;49m\u001b[43m,\u001b[49m\n\u001b[0;32m     91\u001b[0m \u001b[43m                    \u001b[49m\u001b[38;5;124;43m\"\u001b[39;49m\u001b[38;5;124;43mreset\u001b[39;49m\u001b[38;5;124;43m\"\u001b[39;49m\u001b[43m,\u001b[49m\n\u001b[0;32m     92\u001b[0m \u001b[43m                    \u001b[49m\u001b[38;5;124;43m\"\u001b[39;49m\u001b[38;5;124;43mr\u001b[39;49m\u001b[38;5;124;43m\"\u001b[39;49m\u001b[43m,\u001b[49m\n\u001b[0;32m     93\u001b[0m \u001b[43m                    \u001b[49m\u001b[38;5;124;43m\"\u001b[39;49m\u001b[38;5;124;43mexit\u001b[39;49m\u001b[38;5;124;43m\"\u001b[39;49m\u001b[43m,\u001b[49m\n\u001b[0;32m     94\u001b[0m \u001b[43m                    \u001b[49m\u001b[38;5;124;43m\"\u001b[39;49m\u001b[38;5;124;43mquit\u001b[39;49m\u001b[38;5;124;43m\"\u001b[39;49m\u001b[43m,\u001b[49m\n\u001b[0;32m     95\u001b[0m \u001b[43m                    \u001b[49m\u001b[38;5;124;43m\"\u001b[39;49m\u001b[38;5;124;43mq\u001b[39;49m\u001b[38;5;124;43m\"\u001b[39;49m\u001b[43m,\u001b[49m\n\u001b[0;32m     96\u001b[0m \u001b[43m                    \u001b[49m\u001b[38;5;124;43m\"\u001b[39;49m\u001b[38;5;124;43mhelp\u001b[39;49m\u001b[38;5;124;43m\"\u001b[39;49m\u001b[43m,\u001b[49m\n\u001b[0;32m     97\u001b[0m \u001b[43m                    \u001b[49m\u001b[38;5;124;43m\"\u001b[39;49m\u001b[38;5;124;43mh\u001b[39;49m\u001b[38;5;124;43m\"\u001b[39;49m\u001b[43m,\u001b[49m\n\u001b[0;32m     98\u001b[0m \u001b[43m                    \u001b[49m\u001b[38;5;124;43m\"\u001b[39;49m\u001b[38;5;124;43msave\u001b[39;49m\u001b[38;5;124;43m\"\u001b[39;49m\u001b[43m,\u001b[49m\n\u001b[0;32m     99\u001b[0m \u001b[43m                    \u001b[49m\u001b[38;5;124;43m\"\u001b[39;49m\u001b[38;5;124;43ms\u001b[39;49m\u001b[38;5;124;43m\"\u001b[39;49m\u001b[43m,\u001b[49m\n\u001b[0;32m    100\u001b[0m \u001b[43m                \u001b[49m\u001b[43m]\u001b[49m\n\u001b[0;32m    101\u001b[0m \u001b[43m            \u001b[49m\u001b[43m)\u001b[49m\u001b[43m,\u001b[49m\n\u001b[0;32m    102\u001b[0m \u001b[43m        \u001b[49m\u001b[43m)\u001b[49m\n\u001b[0;32m    103\u001b[0m         command \u001b[38;5;241m=\u001b[39m command\u001b[38;5;241m.\u001b[39mstrip()\n\u001b[0;32m    105\u001b[0m         \u001b[38;5;28;01mif\u001b[39;00m command \u001b[38;5;241m==\u001b[39m \u001b[38;5;124m\"\u001b[39m\u001b[38;5;124mhelp\u001b[39m\u001b[38;5;124m\"\u001b[39m \u001b[38;5;129;01mor\u001b[39;00m command \u001b[38;5;241m==\u001b[39m \u001b[38;5;124m\"\u001b[39m\u001b[38;5;124mh\u001b[39m\u001b[38;5;124m\"\u001b[39m:\n",
      "File \u001b[1;32m~\\AppData\\Local\\Packages\\PythonSoftwareFoundation.Python.3.10_qbz5n2kfra8p0\\LocalCache\\local-packages\\Python310\\site-packages\\prompt_toolkit\\shortcuts\\prompt.py:1418\u001b[0m, in \u001b[0;36mprompt\u001b[1;34m(message, history, editing_mode, refresh_interval, vi_mode, lexer, completer, complete_in_thread, is_password, key_bindings, bottom_toolbar, style, color_depth, cursor, include_default_pygments_style, style_transformation, swap_light_and_dark_colors, rprompt, multiline, prompt_continuation, wrap_lines, enable_history_search, search_ignore_case, complete_while_typing, validate_while_typing, complete_style, auto_suggest, validator, clipboard, mouse_support, input_processors, placeholder, reserve_space_for_menu, enable_system_prompt, enable_suspend, enable_open_in_editor, tempfile_suffix, tempfile, default, accept_default, pre_run)\u001b[0m\n\u001b[0;32m   1412\u001b[0m \u001b[38;5;250m\u001b[39m\u001b[38;5;124;03m\"\"\"\u001b[39;00m\n\u001b[0;32m   1413\u001b[0m \u001b[38;5;124;03mThe global `prompt` function. This will create a new `PromptSession`\u001b[39;00m\n\u001b[0;32m   1414\u001b[0m \u001b[38;5;124;03minstance for every call.\u001b[39;00m\n\u001b[0;32m   1415\u001b[0m \u001b[38;5;124;03m\"\"\"\u001b[39;00m\n\u001b[0;32m   1416\u001b[0m \u001b[38;5;66;03m# The history is the only attribute that has to be passed to the\u001b[39;00m\n\u001b[0;32m   1417\u001b[0m \u001b[38;5;66;03m# `PromptSession`, it can't be passed into the `prompt()` method.\u001b[39;00m\n\u001b[1;32m-> 1418\u001b[0m session: PromptSession[\u001b[38;5;28mstr\u001b[39m] \u001b[38;5;241m=\u001b[39m \u001b[43mPromptSession\u001b[49m\u001b[43m(\u001b[49m\u001b[43mhistory\u001b[49m\u001b[38;5;241;43m=\u001b[39;49m\u001b[43mhistory\u001b[49m\u001b[43m)\u001b[49m\n\u001b[0;32m   1420\u001b[0m \u001b[38;5;28;01mreturn\u001b[39;00m session\u001b[38;5;241m.\u001b[39mprompt(\n\u001b[0;32m   1421\u001b[0m     message,\n\u001b[0;32m   1422\u001b[0m     editing_mode\u001b[38;5;241m=\u001b[39mediting_mode,\n\u001b[1;32m   (...)\u001b[0m\n\u001b[0;32m   1460\u001b[0m     pre_run\u001b[38;5;241m=\u001b[39mpre_run,\n\u001b[0;32m   1461\u001b[0m )\n",
      "File \u001b[1;32m~\\AppData\\Local\\Packages\\PythonSoftwareFoundation.Python.3.10_qbz5n2kfra8p0\\LocalCache\\local-packages\\Python310\\site-packages\\prompt_toolkit\\shortcuts\\prompt.py:477\u001b[0m, in \u001b[0;36mPromptSession.__init__\u001b[1;34m(self, message, multiline, wrap_lines, is_password, vi_mode, editing_mode, complete_while_typing, validate_while_typing, enable_history_search, search_ignore_case, lexer, enable_system_prompt, enable_suspend, enable_open_in_editor, validator, completer, complete_in_thread, reserve_space_for_menu, complete_style, auto_suggest, style, style_transformation, swap_light_and_dark_colors, color_depth, cursor, include_default_pygments_style, history, clipboard, prompt_continuation, rprompt, bottom_toolbar, mouse_support, input_processors, placeholder, key_bindings, erase_when_done, tempfile_suffix, tempfile, refresh_interval, input, output)\u001b[0m\n\u001b[0;32m    475\u001b[0m \u001b[38;5;28mself\u001b[39m\u001b[38;5;241m.\u001b[39msearch_buffer \u001b[38;5;241m=\u001b[39m \u001b[38;5;28mself\u001b[39m\u001b[38;5;241m.\u001b[39m_create_search_buffer()\n\u001b[0;32m    476\u001b[0m \u001b[38;5;28mself\u001b[39m\u001b[38;5;241m.\u001b[39mlayout \u001b[38;5;241m=\u001b[39m \u001b[38;5;28mself\u001b[39m\u001b[38;5;241m.\u001b[39m_create_layout()\n\u001b[1;32m--> 477\u001b[0m \u001b[38;5;28mself\u001b[39m\u001b[38;5;241m.\u001b[39mapp \u001b[38;5;241m=\u001b[39m \u001b[38;5;28;43mself\u001b[39;49m\u001b[38;5;241;43m.\u001b[39;49m\u001b[43m_create_application\u001b[49m\u001b[43m(\u001b[49m\u001b[43mediting_mode\u001b[49m\u001b[43m,\u001b[49m\u001b[43m \u001b[49m\u001b[43merase_when_done\u001b[49m\u001b[43m)\u001b[49m\n",
      "File \u001b[1;32m~\\AppData\\Local\\Packages\\PythonSoftwareFoundation.Python.3.10_qbz5n2kfra8p0\\LocalCache\\local-packages\\Python310\\site-packages\\prompt_toolkit\\shortcuts\\prompt.py:728\u001b[0m, in \u001b[0;36mPromptSession._create_application\u001b[1;34m(self, editing_mode, erase_when_done)\u001b[0m\n\u001b[0;32m    725\u001b[0m prompt_bindings \u001b[38;5;241m=\u001b[39m \u001b[38;5;28mself\u001b[39m\u001b[38;5;241m.\u001b[39m_create_prompt_bindings()\n\u001b[0;32m    727\u001b[0m \u001b[38;5;66;03m# Create application\u001b[39;00m\n\u001b[1;32m--> 728\u001b[0m application: Application[_T] \u001b[38;5;241m=\u001b[39m \u001b[43mApplication\u001b[49m\u001b[43m(\u001b[49m\n\u001b[0;32m    729\u001b[0m \u001b[43m    \u001b[49m\u001b[43mlayout\u001b[49m\u001b[38;5;241;43m=\u001b[39;49m\u001b[38;5;28;43mself\u001b[39;49m\u001b[38;5;241;43m.\u001b[39;49m\u001b[43mlayout\u001b[49m\u001b[43m,\u001b[49m\n\u001b[0;32m    730\u001b[0m \u001b[43m    \u001b[49m\u001b[43mstyle\u001b[49m\u001b[38;5;241;43m=\u001b[39;49m\u001b[43mDynamicStyle\u001b[49m\u001b[43m(\u001b[49m\u001b[38;5;28;43;01mlambda\u001b[39;49;00m\u001b[43m:\u001b[49m\u001b[43m \u001b[49m\u001b[38;5;28;43mself\u001b[39;49m\u001b[38;5;241;43m.\u001b[39;49m\u001b[43mstyle\u001b[49m\u001b[43m)\u001b[49m\u001b[43m,\u001b[49m\n\u001b[0;32m    731\u001b[0m \u001b[43m    \u001b[49m\u001b[43mstyle_transformation\u001b[49m\u001b[38;5;241;43m=\u001b[39;49m\u001b[43mmerge_style_transformations\u001b[49m\u001b[43m(\u001b[49m\n\u001b[0;32m    732\u001b[0m \u001b[43m        \u001b[49m\u001b[43m[\u001b[49m\n\u001b[0;32m    733\u001b[0m \u001b[43m            \u001b[49m\u001b[43mDynamicStyleTransformation\u001b[49m\u001b[43m(\u001b[49m\u001b[38;5;28;43;01mlambda\u001b[39;49;00m\u001b[43m:\u001b[49m\u001b[43m \u001b[49m\u001b[38;5;28;43mself\u001b[39;49m\u001b[38;5;241;43m.\u001b[39;49m\u001b[43mstyle_transformation\u001b[49m\u001b[43m)\u001b[49m\u001b[43m,\u001b[49m\n\u001b[0;32m    734\u001b[0m \u001b[43m            \u001b[49m\u001b[43mConditionalStyleTransformation\u001b[49m\u001b[43m(\u001b[49m\n\u001b[0;32m    735\u001b[0m \u001b[43m                \u001b[49m\u001b[43mSwapLightAndDarkStyleTransformation\u001b[49m\u001b[43m(\u001b[49m\u001b[43m)\u001b[49m\u001b[43m,\u001b[49m\n\u001b[0;32m    736\u001b[0m \u001b[43m                \u001b[49m\u001b[43mdyncond\u001b[49m\u001b[43m(\u001b[49m\u001b[38;5;124;43m\"\u001b[39;49m\u001b[38;5;124;43mswap_light_and_dark_colors\u001b[39;49m\u001b[38;5;124;43m\"\u001b[39;49m\u001b[43m)\u001b[49m\u001b[43m,\u001b[49m\n\u001b[0;32m    737\u001b[0m \u001b[43m            \u001b[49m\u001b[43m)\u001b[49m\u001b[43m,\u001b[49m\n\u001b[0;32m    738\u001b[0m \u001b[43m        \u001b[49m\u001b[43m]\u001b[49m\n\u001b[0;32m    739\u001b[0m \u001b[43m    \u001b[49m\u001b[43m)\u001b[49m\u001b[43m,\u001b[49m\n\u001b[0;32m    740\u001b[0m \u001b[43m    \u001b[49m\u001b[43minclude_default_pygments_style\u001b[49m\u001b[38;5;241;43m=\u001b[39;49m\u001b[43mdyncond\u001b[49m\u001b[43m(\u001b[49m\u001b[38;5;124;43m\"\u001b[39;49m\u001b[38;5;124;43minclude_default_pygments_style\u001b[39;49m\u001b[38;5;124;43m\"\u001b[39;49m\u001b[43m)\u001b[49m\u001b[43m,\u001b[49m\n\u001b[0;32m    741\u001b[0m \u001b[43m    \u001b[49m\u001b[43mclipboard\u001b[49m\u001b[38;5;241;43m=\u001b[39;49m\u001b[43mDynamicClipboard\u001b[49m\u001b[43m(\u001b[49m\u001b[38;5;28;43;01mlambda\u001b[39;49;00m\u001b[43m:\u001b[49m\u001b[43m \u001b[49m\u001b[38;5;28;43mself\u001b[39;49m\u001b[38;5;241;43m.\u001b[39;49m\u001b[43mclipboard\u001b[49m\u001b[43m)\u001b[49m\u001b[43m,\u001b[49m\n\u001b[0;32m    742\u001b[0m \u001b[43m    \u001b[49m\u001b[43mkey_bindings\u001b[49m\u001b[38;5;241;43m=\u001b[39;49m\u001b[43mmerge_key_bindings\u001b[49m\u001b[43m(\u001b[49m\n\u001b[0;32m    743\u001b[0m \u001b[43m        \u001b[49m\u001b[43m[\u001b[49m\n\u001b[0;32m    744\u001b[0m \u001b[43m            \u001b[49m\u001b[43mmerge_key_bindings\u001b[49m\u001b[43m(\u001b[49m\n\u001b[0;32m    745\u001b[0m \u001b[43m                \u001b[49m\u001b[43m[\u001b[49m\n\u001b[0;32m    746\u001b[0m \u001b[43m                    \u001b[49m\u001b[43mauto_suggest_bindings\u001b[49m\u001b[43m,\u001b[49m\n\u001b[0;32m    747\u001b[0m \u001b[43m                    \u001b[49m\u001b[43mConditionalKeyBindings\u001b[49m\u001b[43m(\u001b[49m\n\u001b[0;32m    748\u001b[0m \u001b[43m                        \u001b[49m\u001b[43mopen_in_editor_bindings\u001b[49m\u001b[43m,\u001b[49m\n\u001b[0;32m    749\u001b[0m \u001b[43m                        \u001b[49m\u001b[43mdyncond\u001b[49m\u001b[43m(\u001b[49m\u001b[38;5;124;43m\"\u001b[39;49m\u001b[38;5;124;43menable_open_in_editor\u001b[39;49m\u001b[38;5;124;43m\"\u001b[39;49m\u001b[43m)\u001b[49m\n\u001b[0;32m    750\u001b[0m \u001b[43m                        \u001b[49m\u001b[38;5;241;43m&\u001b[39;49m\u001b[43m \u001b[49m\u001b[43mhas_focus\u001b[49m\u001b[43m(\u001b[49m\u001b[43mDEFAULT_BUFFER\u001b[49m\u001b[43m)\u001b[49m\u001b[43m,\u001b[49m\n\u001b[0;32m    751\u001b[0m \u001b[43m                    \u001b[49m\u001b[43m)\u001b[49m\u001b[43m,\u001b[49m\n\u001b[0;32m    752\u001b[0m \u001b[43m                    \u001b[49m\u001b[43mprompt_bindings\u001b[49m\u001b[43m,\u001b[49m\n\u001b[0;32m    753\u001b[0m \u001b[43m                \u001b[49m\u001b[43m]\u001b[49m\n\u001b[0;32m    754\u001b[0m \u001b[43m            \u001b[49m\u001b[43m)\u001b[49m\u001b[43m,\u001b[49m\n\u001b[0;32m    755\u001b[0m \u001b[43m            \u001b[49m\u001b[43mDynamicKeyBindings\u001b[49m\u001b[43m(\u001b[49m\u001b[38;5;28;43;01mlambda\u001b[39;49;00m\u001b[43m:\u001b[49m\u001b[43m \u001b[49m\u001b[38;5;28;43mself\u001b[39;49m\u001b[38;5;241;43m.\u001b[39;49m\u001b[43mkey_bindings\u001b[49m\u001b[43m)\u001b[49m\u001b[43m,\u001b[49m\n\u001b[0;32m    756\u001b[0m \u001b[43m        \u001b[49m\u001b[43m]\u001b[49m\n\u001b[0;32m    757\u001b[0m \u001b[43m    \u001b[49m\u001b[43m)\u001b[49m\u001b[43m,\u001b[49m\n\u001b[0;32m    758\u001b[0m \u001b[43m    \u001b[49m\u001b[43mmouse_support\u001b[49m\u001b[38;5;241;43m=\u001b[39;49m\u001b[43mdyncond\u001b[49m\u001b[43m(\u001b[49m\u001b[38;5;124;43m\"\u001b[39;49m\u001b[38;5;124;43mmouse_support\u001b[39;49m\u001b[38;5;124;43m\"\u001b[39;49m\u001b[43m)\u001b[49m\u001b[43m,\u001b[49m\n\u001b[0;32m    759\u001b[0m \u001b[43m    \u001b[49m\u001b[43mediting_mode\u001b[49m\u001b[38;5;241;43m=\u001b[39;49m\u001b[43mediting_mode\u001b[49m\u001b[43m,\u001b[49m\n\u001b[0;32m    760\u001b[0m \u001b[43m    \u001b[49m\u001b[43merase_when_done\u001b[49m\u001b[38;5;241;43m=\u001b[39;49m\u001b[43merase_when_done\u001b[49m\u001b[43m,\u001b[49m\n\u001b[0;32m    761\u001b[0m \u001b[43m    \u001b[49m\u001b[43mreverse_vi_search_direction\u001b[49m\u001b[38;5;241;43m=\u001b[39;49m\u001b[38;5;28;43;01mTrue\u001b[39;49;00m\u001b[43m,\u001b[49m\n\u001b[0;32m    762\u001b[0m \u001b[43m    \u001b[49m\u001b[43mcolor_depth\u001b[49m\u001b[38;5;241;43m=\u001b[39;49m\u001b[38;5;28;43;01mlambda\u001b[39;49;00m\u001b[43m:\u001b[49m\u001b[43m \u001b[49m\u001b[38;5;28;43mself\u001b[39;49m\u001b[38;5;241;43m.\u001b[39;49m\u001b[43mcolor_depth\u001b[49m\u001b[43m,\u001b[49m\n\u001b[0;32m    763\u001b[0m \u001b[43m    \u001b[49m\u001b[43mcursor\u001b[49m\u001b[38;5;241;43m=\u001b[39;49m\u001b[43mDynamicCursorShapeConfig\u001b[49m\u001b[43m(\u001b[49m\u001b[38;5;28;43;01mlambda\u001b[39;49;00m\u001b[43m:\u001b[49m\u001b[43m \u001b[49m\u001b[38;5;28;43mself\u001b[39;49m\u001b[38;5;241;43m.\u001b[39;49m\u001b[43mcursor\u001b[49m\u001b[43m)\u001b[49m\u001b[43m,\u001b[49m\n\u001b[0;32m    764\u001b[0m \u001b[43m    \u001b[49m\u001b[43mrefresh_interval\u001b[49m\u001b[38;5;241;43m=\u001b[39;49m\u001b[38;5;28;43mself\u001b[39;49m\u001b[38;5;241;43m.\u001b[39;49m\u001b[43mrefresh_interval\u001b[49m\u001b[43m,\u001b[49m\n\u001b[0;32m    765\u001b[0m \u001b[43m    \u001b[49m\u001b[38;5;28;43minput\u001b[39;49m\u001b[38;5;241;43m=\u001b[39;49m\u001b[38;5;28;43mself\u001b[39;49m\u001b[38;5;241;43m.\u001b[39;49m\u001b[43m_input\u001b[49m\u001b[43m,\u001b[49m\n\u001b[0;32m    766\u001b[0m \u001b[43m    \u001b[49m\u001b[43moutput\u001b[49m\u001b[38;5;241;43m=\u001b[39;49m\u001b[38;5;28;43mself\u001b[39;49m\u001b[38;5;241;43m.\u001b[39;49m\u001b[43m_output\u001b[49m\u001b[43m,\u001b[49m\n\u001b[0;32m    767\u001b[0m \u001b[43m\u001b[49m\u001b[43m)\u001b[49m\n\u001b[0;32m    769\u001b[0m \u001b[38;5;66;03m# During render time, make sure that we focus the right search control\u001b[39;00m\n\u001b[0;32m    770\u001b[0m \u001b[38;5;66;03m# (if we are searching). - This could be useful if people make the\u001b[39;00m\n\u001b[0;32m    771\u001b[0m \u001b[38;5;66;03m# 'multiline' property dynamic.\u001b[39;00m\n\u001b[0;32m    772\u001b[0m \u001b[38;5;250m\u001b[39m\u001b[38;5;124;03m\"\"\"\u001b[39;00m\n\u001b[0;32m    773\u001b[0m \u001b[38;5;124;03mdef on_render(app):\u001b[39;00m\n\u001b[0;32m    774\u001b[0m \u001b[38;5;124;03m    multiline = is_true(self.multiline)\u001b[39;00m\n\u001b[1;32m   (...)\u001b[0m\n\u001b[0;32m    786\u001b[0m \u001b[38;5;124;03mapp.on_render += on_render\u001b[39;00m\n\u001b[0;32m    787\u001b[0m \u001b[38;5;124;03m\"\"\"\u001b[39;00m\n",
      "File \u001b[1;32m~\\AppData\\Local\\Packages\\PythonSoftwareFoundation.Python.3.10_qbz5n2kfra8p0\\LocalCache\\local-packages\\Python310\\site-packages\\prompt_toolkit\\application\\application.py:273\u001b[0m, in \u001b[0;36mApplication.__init__\u001b[1;34m(self, layout, style, include_default_pygments_style, style_transformation, key_bindings, clipboard, full_screen, color_depth, mouse_support, enable_page_navigation_bindings, paste_mode, editing_mode, erase_when_done, reverse_vi_search_direction, min_redraw_interval, max_render_postpone_time, refresh_interval, terminal_size_polling_interval, cursor, on_reset, on_invalidate, before_render, after_render, input, output)\u001b[0m\n\u001b[0;32m    271\u001b[0m \u001b[38;5;66;03m# I/O.\u001b[39;00m\n\u001b[0;32m    272\u001b[0m session \u001b[38;5;241m=\u001b[39m get_app_session()\n\u001b[1;32m--> 273\u001b[0m \u001b[38;5;28mself\u001b[39m\u001b[38;5;241m.\u001b[39moutput \u001b[38;5;241m=\u001b[39m output \u001b[38;5;129;01mor\u001b[39;00m \u001b[43msession\u001b[49m\u001b[38;5;241;43m.\u001b[39;49m\u001b[43moutput\u001b[49m\n\u001b[0;32m    274\u001b[0m \u001b[38;5;28mself\u001b[39m\u001b[38;5;241m.\u001b[39minput \u001b[38;5;241m=\u001b[39m \u001b[38;5;28minput\u001b[39m \u001b[38;5;129;01mor\u001b[39;00m session\u001b[38;5;241m.\u001b[39minput\n\u001b[0;32m    276\u001b[0m \u001b[38;5;66;03m# List of 'extra' functions to execute before a Application.run.\u001b[39;00m\n",
      "File \u001b[1;32m~\\AppData\\Local\\Packages\\PythonSoftwareFoundation.Python.3.10_qbz5n2kfra8p0\\LocalCache\\local-packages\\Python310\\site-packages\\prompt_toolkit\\application\\current.py:68\u001b[0m, in \u001b[0;36mAppSession.output\u001b[1;34m(self)\u001b[0m\n\u001b[0;32m     65\u001b[0m \u001b[38;5;28;01mif\u001b[39;00m \u001b[38;5;28mself\u001b[39m\u001b[38;5;241m.\u001b[39m_output \u001b[38;5;129;01mis\u001b[39;00m \u001b[38;5;28;01mNone\u001b[39;00m:\n\u001b[0;32m     66\u001b[0m     \u001b[38;5;28;01mfrom\u001b[39;00m \u001b[38;5;21;01mprompt_toolkit\u001b[39;00m\u001b[38;5;21;01m.\u001b[39;00m\u001b[38;5;21;01moutput\u001b[39;00m\u001b[38;5;21;01m.\u001b[39;00m\u001b[38;5;21;01mdefaults\u001b[39;00m \u001b[38;5;28;01mimport\u001b[39;00m create_output\n\u001b[1;32m---> 68\u001b[0m     \u001b[38;5;28mself\u001b[39m\u001b[38;5;241m.\u001b[39m_output \u001b[38;5;241m=\u001b[39m \u001b[43mcreate_output\u001b[49m\u001b[43m(\u001b[49m\u001b[43m)\u001b[49m\n\u001b[0;32m     69\u001b[0m \u001b[38;5;28;01mreturn\u001b[39;00m \u001b[38;5;28mself\u001b[39m\u001b[38;5;241m.\u001b[39m_output\n",
      "File \u001b[1;32m~\\AppData\\Local\\Packages\\PythonSoftwareFoundation.Python.3.10_qbz5n2kfra8p0\\LocalCache\\local-packages\\Python310\\site-packages\\prompt_toolkit\\output\\defaults.py:87\u001b[0m, in \u001b[0;36mcreate_output\u001b[1;34m(stdout, always_prefer_tty)\u001b[0m\n\u001b[0;32m     83\u001b[0m         \u001b[38;5;28;01mreturn\u001b[39;00m cast(\n\u001b[0;32m     84\u001b[0m             Output, ConEmuOutput(stdout, default_color_depth\u001b[38;5;241m=\u001b[39mcolor_depth_from_env)\n\u001b[0;32m     85\u001b[0m         )\n\u001b[0;32m     86\u001b[0m     \u001b[38;5;28;01melse\u001b[39;00m:\n\u001b[1;32m---> 87\u001b[0m         \u001b[38;5;28;01mreturn\u001b[39;00m \u001b[43mWin32Output\u001b[49m\u001b[43m(\u001b[49m\u001b[43mstdout\u001b[49m\u001b[43m,\u001b[49m\u001b[43m \u001b[49m\u001b[43mdefault_color_depth\u001b[49m\u001b[38;5;241;43m=\u001b[39;49m\u001b[43mcolor_depth_from_env\u001b[49m\u001b[43m)\u001b[49m\n\u001b[0;32m     88\u001b[0m \u001b[38;5;28;01melse\u001b[39;00m:\n\u001b[0;32m     89\u001b[0m     \u001b[38;5;28;01mfrom\u001b[39;00m \u001b[38;5;21;01m.\u001b[39;00m\u001b[38;5;21;01mvt100\u001b[39;00m \u001b[38;5;28;01mimport\u001b[39;00m Vt100_Output\n",
      "File \u001b[1;32m~\\AppData\\Local\\Packages\\PythonSoftwareFoundation.Python.3.10_qbz5n2kfra8p0\\LocalCache\\local-packages\\Python310\\site-packages\\prompt_toolkit\\output\\win32.py:116\u001b[0m, in \u001b[0;36mWin32Output.__init__\u001b[1;34m(self, stdout, use_complete_width, default_color_depth)\u001b[0m\n\u001b[0;32m    113\u001b[0m \u001b[38;5;28mself\u001b[39m\u001b[38;5;241m.\u001b[39mcolor_lookup_table \u001b[38;5;241m=\u001b[39m ColorLookupTable()\n\u001b[0;32m    115\u001b[0m \u001b[38;5;66;03m# Remember the default console colors.\u001b[39;00m\n\u001b[1;32m--> 116\u001b[0m info \u001b[38;5;241m=\u001b[39m \u001b[38;5;28;43mself\u001b[39;49m\u001b[38;5;241;43m.\u001b[39;49m\u001b[43mget_win32_screen_buffer_info\u001b[49m\u001b[43m(\u001b[49m\u001b[43m)\u001b[49m\n\u001b[0;32m    117\u001b[0m \u001b[38;5;28mself\u001b[39m\u001b[38;5;241m.\u001b[39mdefault_attrs \u001b[38;5;241m=\u001b[39m info\u001b[38;5;241m.\u001b[39mwAttributes \u001b[38;5;28;01mif\u001b[39;00m info \u001b[38;5;28;01melse\u001b[39;00m \u001b[38;5;241m15\u001b[39m\n\u001b[0;32m    119\u001b[0m \u001b[38;5;28;01mif\u001b[39;00m _DEBUG_RENDER_OUTPUT:\n",
      "File \u001b[1;32m~\\AppData\\Local\\Packages\\PythonSoftwareFoundation.Python.3.10_qbz5n2kfra8p0\\LocalCache\\local-packages\\Python310\\site-packages\\prompt_toolkit\\output\\win32.py:220\u001b[0m, in \u001b[0;36mWin32Output.get_win32_screen_buffer_info\u001b[1;34m(self)\u001b[0m\n\u001b[0;32m    218\u001b[0m     \u001b[38;5;28;01mreturn\u001b[39;00m sbinfo\n\u001b[0;32m    219\u001b[0m \u001b[38;5;28;01melse\u001b[39;00m:\n\u001b[1;32m--> 220\u001b[0m     \u001b[38;5;28;01mraise\u001b[39;00m NoConsoleScreenBufferError\n",
      "\u001b[1;31mNoConsoleScreenBufferError\u001b[0m: Found xterm-color, while expecting a Windows console. Maybe try to run this program using \"winpty\" or run it in cmd.exe instead. Or otherwise, in case of Cygwin, use the Python executable that is compiled for Cygwin."
     ]
    }
   ],
   "source": [
    "from chatarena.arena import Arena\n",
    "\n",
    "env = Bargaining(item_name=\"diamond\", upper_limit=500, lower_limit=100, max_turn=4)\n",
    "arena = Arena([buyer, seller], env)\n",
    "arena.launch_cli(interactive=False)\n"
   ]
  },
  {
   "cell_type": "markdown",
   "metadata": {},
   "source": [
    "# Make it interactive"
   ]
  },
  {
   "cell_type": "code",
   "execution_count": null,
   "metadata": {},
   "outputs": [],
   "source": []
  }
 ],
 "metadata": {
  "kernelspec": {
   "display_name": "Python 3",
   "language": "python",
   "name": "python3"
  },
  "language_info": {
   "codemirror_mode": {
    "name": "ipython",
    "version": 3
   },
   "file_extension": ".py",
   "mimetype": "text/x-python",
   "name": "python",
   "nbconvert_exporter": "python",
   "pygments_lexer": "ipython3",
   "version": "3.10.11"
  }
 },
 "nbformat": 4,
 "nbformat_minor": 2
}
