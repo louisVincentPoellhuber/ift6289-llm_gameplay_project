{
 "cells": [
  {
   "cell_type": "markdown",
   "metadata": {},
   "source": [
    "# Imports"
   ]
  },
  {
   "cell_type": "code",
   "execution_count": 1,
   "metadata": {},
   "outputs": [],
   "source": [
    "import sys\n",
    "import os\n",
    "from dotenv import load_dotenv\n",
    "load_dotenv()\n",
    "CHATARENA_PATH = os.getenv(\"CHATARENA_PATH\")\n",
    "sys.path.append(CHATARENA_PATH)"
   ]
  },
  {
   "cell_type": "code",
   "execution_count": 4,
   "metadata": {},
   "outputs": [],
   "source": [
    "import numpy as np\n",
    "import pandas as pd\n",
    "\n",
    "from chatarena.agent import Player\n",
    "from chatarena.backends import CohereAIChat\n",
    "\n",
    "import cohere\n",
    "\n",
    "import os"
   ]
  },
  {
   "cell_type": "code",
   "execution_count": 5,
   "metadata": {},
   "outputs": [],
   "source": [
    "client = cohere.Client(api_key=os.getenv(\"COHEREAI_API_KEY\"))"
   ]
  },
  {
   "cell_type": "markdown",
   "metadata": {},
   "source": [
    "# Test 1: Bargaining"
   ]
  },
  {
   "cell_type": "code",
   "execution_count": 6,
   "metadata": {},
   "outputs": [],
   "source": [
    "buyer_role_description = \"\"\"\n",
    "You are a buyer of a Bargaining game.\n",
    "In the game, you and seller are going to negotiate a price of a item within limited turns.\n",
    "In each step of the game, one of the bargainers will propose a price and optionally provide arguments about the price.\n",
    "The the two proposed price argreed, the negotiation will be successful and the game is over.\n",
    "\n",
    "You have a upper limit about the price in her mind which is invisible to the seller. You will get a reward of upper_limit_price-agreement_price the negotiation is sucessful at price $p$.\n",
    "Otherwise you will get 0 reward.\n",
    "\n",
    "So the you should always\n",
    "1. push the price down to get higher reward.\n",
    "2. avoid the price to be higher than upper_limit_price otherwise you'll get a negative reward.\n",
    "\"\"\"\n",
    "\n",
    "format_specification = \"\"\"\n",
    "Your output should be format in a json with the following schema:\n",
    "```\n",
    "{\n",
    "  \"$schema\": \"http://json-schema.org/draft-07/schema#\",\n",
    "  \"type\": \"object\",\n",
    "  \"properties\": {\n",
    "    \"price\": {\n",
    "      \"description\": \"your proposed price\",\n",
    "      \"type\": \"number\"\n",
    "    },\n",
    "    \"arguments\": {\n",
    "      \"description\": \"what you are going to say to your opponent\",\n",
    "      \"type\": \"string\"\n",
    "    }\n",
    "  },\n",
    "  \"required\": [\"price\", \"arguments\"]\n",
    "}\n",
    "```\n",
    "\n",
    "For example:\n",
    "```\n",
    "{\\n  \"price\": 50,\\n  \"arguments\": \"I believe a price of $50 is fair for both parties. It takes into account the quality of the item and the current market value.\" \\n}\n",
    "\n",
    "```\n",
    "\"\"\"\n",
    "\n",
    "\n",
    "buyer = Player(name=\"buyer\",\n",
    "               role_desc=buyer_role_description+format_specification,\n",
    "               backend=CohereAIChat())\n"
   ]
  },
  {
   "cell_type": "code",
   "execution_count": 7,
   "metadata": {},
   "outputs": [
    {
     "data": {
      "text/plain": [
       "'```json\\n{\\n    \"price\": 100,\\n    \"arguments\": \"Hello! I\\'d be delighted to purchase this item at a price of $100. This price is a reasonable assessment of the item\\'s value, taking into account the materials used, the craftsmanship involved, and the current market trends. I believe this is a fair offer and I\\'d love to hear your thoughts on it!\"\\n}\\n```'"
      ]
     },
     "execution_count": 7,
     "metadata": {},
     "output_type": "execute_result"
    }
   ],
   "source": [
    "from chatarena.message import Message\n",
    "\n",
    "mock_message = Message(\n",
    "    agent_name=\"Moderator\",\n",
    "    content=\"Buyer, now propose your deal\",\n",
    "    turn=1\n",
    ")\n",
    "\n",
    "buyer.act([mock_message])"
   ]
  },
  {
   "cell_type": "code",
   "execution_count": 8,
   "metadata": {},
   "outputs": [],
   "source": [
    "seller_role_description = \"\"\"\n",
    "You are a seller of a Bargaining game.\n",
    "In the game, you and buyer are going to negotiate a price of a item within limited turns.\n",
    "In each step of the game, one of the bargainers will propose a price and optionally provide arguments about the price.\n",
    "The the two proposed price argreed, the negotiation will be successful and the game is over.\n",
    "\n",
    "You have a lower limit about the price in her mind which is invisible to the buyer. You will get a reward of agreement_price-lower_limit_price the negotiation is sucessful.\n",
    "Otherwise you will get 0 reward.\n",
    "\n",
    "So the you should always\n",
    "1. push the price up to get higher rewards\n",
    "2. avoid the price to be lower than lower_limit_price otherwise you'll get a negative reward.\n",
    "\"\"\"\n",
    "seller = Player(name=\"seller\",\n",
    "                role_desc=seller_role_description+format_specification,\n",
    "                backend=CohereAIChat())"
   ]
  },
  {
   "cell_type": "code",
   "execution_count": 9,
   "metadata": {},
   "outputs": [],
   "source": [
    "from chatarena.environments.base import TimeStep, Environment\n",
    "from chatarena.message import Message, MessagePool\n",
    "from chatarena.utils import extract_jsons\n",
    "from typing import List, Union\n",
    "import random\n",
    "\n",
    "class Bargaining(Environment):\n",
    "    type_name = \"bargaining\"\n",
    "\n",
    "    def __init__(self, item_name:str, upper_limit:float, lower_limit:float, max_turn:int, unit:str=\"$\"):\n",
    "        super().__init__(player_names=[\"buyer\", \"seller\"])\n",
    "        self.item_name = item_name\n",
    "        self.upper_limit = upper_limit\n",
    "        self.lower_limit = lower_limit\n",
    "        self.max_turn = max_turn\n",
    "        self.unit = unit\n",
    "        self.turn = 0\n",
    "        self.message_pool = MessagePool()\n",
    "        self._terminal = False\n",
    "        self.buyer_proposed_price = None\n",
    "        self.seller_proposed_price = None\n",
    "        self.agreement_price = None\n",
    "        self.reset()\n",
    "\n",
    "    def _moderator_speak(self, text: str, visible_to: Union[str, List[str]] = \"all\"):\n",
    "        \"\"\"\n",
    "        moderator say something\n",
    "        \"\"\"\n",
    "        message = Message(agent_name=\"Moderator\", content=text, turn=self.turn, visible_to=visible_to)\n",
    "        self.message_pool.append_message(message)\n",
    "\n",
    "    def reset(self):\n",
    "        self.turn = 0\n",
    "        self.message_pool.reset()\n",
    "        self._terminal = False\n",
    "        self.buyer_proposed_price = None\n",
    "        self.seller_proposed_price = None\n",
    "        self.agreement_price = None\n",
    "        # Moderator declares the item, lower limit and upper limit\n",
    "        self._moderator_speak(f\"Bargainers, the item to be traded is {self.item_name}\")\n",
    "        self._moderator_speak(f\"Buyer, your price upper limit is {self.unit}{self.upper_limit}\", visible_to=\"buyer\")\n",
    "        self._moderator_speak(f\"Seller, your price lower limit is {self.unit}{self.lower_limit}\", visible_to=\"seller\")\n",
    "        observation = self.get_observation(self.get_next_player())\n",
    "        return TimeStep(observation=observation, reward=self._get_zero_rewards(), terminal=False)\n",
    "\n",
    "    def get_observation(self, player_name=None) -> List[Message]:\n",
    "        if player_name is None:\n",
    "            return self.message_pool.get_all_messages()\n",
    "        else:\n",
    "            return self.message_pool.get_visible_messages(player_name, turn=self.turn + 1)\n",
    "\n",
    "    def get_next_player(self) -> str:\n",
    "        return \"buyer\" if self.turn % 2 == 0 else \"seller\"\n",
    "\n",
    "    def step(self, player_name: str, action: str) -> TimeStep:\n",
    "        assert player_name == self.get_next_player(), f\"Wrong player! It is {self.get_next_player()}'s turn.\"\n",
    "        json_list = extract_jsons(action)\n",
    "        if len(json_list) != 1:\n",
    "            raise ValueError(f\"Player output {action} is not a valid json.\")\n",
    "\n",
    "        proposed_price = json_list[0].get(\"price\", None)\n",
    "        arguments = json_list[0].get(\"arguments\", None)\n",
    "        message = Message(agent_name=player_name, content=arguments, turn=self.turn, visible_to=\"all\")\n",
    "        self.message_pool.append_message(message)\n",
    "\n",
    "        # Update price\n",
    "        if player_name == \"buyer\":\n",
    "           self.buyer_proposed_price = proposed_price\n",
    "        else:\n",
    "           self.seller_proposed_price = proposed_price\n",
    "\n",
    "        self.turn += 1\n",
    "        self._moderator_speak(f\"This is Turn {self.turn}. There's {self.max_turn-self.turn} left.\")\n",
    "\n",
    "        # Check agreement\n",
    "        if self.buyer_proposed_price is not None and self.seller_proposed_price is not None and \\\n",
    "          self.buyer_proposed_price >= self.seller_proposed_price:\n",
    "            self.agreement_price = (self.seller_proposed_price+self.buyer_proposed_price)/2\n",
    "\n",
    "        if self.turn >= self.max_turn:\n",
    "            self._terminal = True\n",
    "            self._moderator_speak(\"The negotiation ended without an agreement.\")\n",
    "        elif self.agreement_price is not None:\n",
    "            self._terminal = True\n",
    "            self._moderator_speak(f\"The negotiation ended with a price of {self.unit}{self.agreement_price} for {self.item_name}.\")\n",
    "\n",
    "        observation = self.get_observation(self.get_next_player())\n",
    "        reward = self._get_rewards()\n",
    "        return TimeStep(observation=observation, reward=reward, terminal=self._terminal)\n",
    "\n",
    "    def _get_rewards(self):\n",
    "        if self._terminal:\n",
    "            if self.agreement_price is None: # No agreement\n",
    "                return {\"buyer\": 0, \"seller\": 0}\n",
    "            else: # Agreement\n",
    "                return {\"buyer\": self.upper_limit - self.agreement_price, \"seller\": self.agreement_price - self.lower_limit}\n",
    "        else: # Game is not over yet\n",
    "            return {\"buyer\": 0, \"seller\": 0}\n",
    "\n",
    "    def _get_zero_rewards(self):\n",
    "        return {\"buyer\": 0, \"seller\": 0}"
   ]
  },
  {
   "cell_type": "code",
   "execution_count": 12,
   "metadata": {},
   "outputs": [
    {
     "data": {
      "text/html": [
       "<pre style=\"white-space:pre;overflow-x:auto;line-height:normal;font-family:Menlo,'DejaVu Sans Mono',consolas,'Courier New',monospace\">\n",
       "<span style=\"color: #d75f00; text-decoration-color: #d75f00; font-weight: bold\">_________  .__               __      _____</span>\n",
       "<span style=\"color: #d75f00; text-decoration-color: #d75f00; font-weight: bold\">\\_   ___ \\ |  |__  _____   _/  |_   </span><span style=\"color: #800080; text-decoration-color: #800080; font-weight: bold\">/</span><span style=\"color: #d75f00; text-decoration-color: #d75f00; font-weight: bold\">  _  \\  _______   ____    ____  _____</span>\n",
       "<span style=\"color: #800080; text-decoration-color: #800080; font-weight: bold\">/</span><span style=\"color: #d75f00; text-decoration-color: #d75f00; font-weight: bold\">    \\  \\</span><span style=\"color: #800080; text-decoration-color: #800080; font-weight: bold\">/</span><span style=\"color: #d75f00; text-decoration-color: #d75f00; font-weight: bold\"> |  |  \\ \\__  \\  \\   __\\ </span><span style=\"color: #800080; text-decoration-color: #800080; font-weight: bold\">/</span><span style=\"color: #d75f00; text-decoration-color: #d75f00; font-weight: bold\">  </span><span style=\"color: #800080; text-decoration-color: #800080; font-weight: bold\">/</span><span style=\"color: #ff00ff; text-decoration-color: #ff00ff; font-weight: bold\">_</span><span style=\"color: #d75f00; text-decoration-color: #d75f00; font-weight: bold\">\\  \\ \\_  __ \\W/ __ \\  </span><span style=\"color: #800080; text-decoration-color: #800080; font-weight: bold\">/</span><span style=\"color: #d75f00; text-decoration-color: #d75f00; font-weight: bold\">    \\ \\__  \\</span>\n",
       "<span style=\"color: #d75f00; text-decoration-color: #d75f00; font-weight: bold\">\\     \\____|   Y  \\ </span><span style=\"color: #800080; text-decoration-color: #800080; font-weight: bold\">/</span><span style=\"color: #d75f00; text-decoration-color: #d75f00; font-weight: bold\"> __ \\_ |  |  </span><span style=\"color: #800080; text-decoration-color: #800080; font-weight: bold\">/</span><span style=\"color: #d75f00; text-decoration-color: #d75f00; font-weight: bold\">    |    \\ |  | \\</span><span style=\"color: #800080; text-decoration-color: #800080; font-weight: bold\">/</span><span style=\"color: #d75f00; text-decoration-color: #d75f00; font-weight: bold\">\\  ___/ |   |  \\ </span><span style=\"color: #800080; text-decoration-color: #800080; font-weight: bold\">/</span><span style=\"color: #d75f00; text-decoration-color: #d75f00; font-weight: bold\"> __ \\_</span>\n",
       "<span style=\"color: #d75f00; text-decoration-color: #d75f00; font-weight: bold\"> \\______  </span><span style=\"color: #800080; text-decoration-color: #800080; font-weight: bold\">/</span><span style=\"color: #d75f00; text-decoration-color: #d75f00; font-weight: bold\">|___|  </span><span style=\"color: #800080; text-decoration-color: #800080; font-weight: bold\">/</span><span style=\"color: #d75f00; text-decoration-color: #d75f00; font-weight: bold\">(____  </span><span style=\"color: #800080; text-decoration-color: #800080; font-weight: bold\">/</span><span style=\"color: #d75f00; text-decoration-color: #d75f00; font-weight: bold\"> |__|  \\____|__  </span><span style=\"color: #800080; text-decoration-color: #800080; font-weight: bold\">/</span><span style=\"color: #d75f00; text-decoration-color: #d75f00; font-weight: bold\"> |__|    \\___  &gt;|___|  </span><span style=\"color: #800080; text-decoration-color: #800080; font-weight: bold\">/</span><span style=\"color: #d75f00; text-decoration-color: #d75f00; font-weight: bold\">(____  </span><span style=\"color: #800080; text-decoration-color: #800080; font-weight: bold\">/</span>\n",
       "<span style=\"color: #d75f00; text-decoration-color: #d75f00; font-weight: bold\">        \\</span><span style=\"color: #800080; text-decoration-color: #800080; font-weight: bold\">/</span><span style=\"color: #d75f00; text-decoration-color: #d75f00; font-weight: bold\">      \\</span><span style=\"color: #800080; text-decoration-color: #800080; font-weight: bold\">/</span><span style=\"color: #d75f00; text-decoration-color: #d75f00; font-weight: bold\">      \\</span><span style=\"color: #800080; text-decoration-color: #800080; font-weight: bold\">/</span><span style=\"color: #d75f00; text-decoration-color: #d75f00; font-weight: bold\">                \\</span><span style=\"color: #800080; text-decoration-color: #800080; font-weight: bold\">/</span><span style=\"color: #d75f00; text-decoration-color: #d75f00; font-weight: bold\">              \\</span><span style=\"color: #800080; text-decoration-color: #800080; font-weight: bold\">/</span><span style=\"color: #d75f00; text-decoration-color: #d75f00; font-weight: bold\">      \\</span><span style=\"color: #800080; text-decoration-color: #800080; font-weight: bold\">/</span><span style=\"color: #d75f00; text-decoration-color: #d75f00; font-weight: bold\">      \\</span><span style=\"color: #800080; text-decoration-color: #800080; font-weight: bold\">/</span>\n",
       "\n",
       "</pre>\n"
      ],
      "text/plain": [
       "\n",
       "\u001b[1;38;5;166m_________  .__               __      _____\u001b[0m\n",
       "\u001b[1;38;5;166m\\_   ___ \\ |  |__  _____   _/  |_   \u001b[0m\u001b[1;35m/\u001b[0m\u001b[1;38;5;166m  _  \\  _______   ____    ____  _____\u001b[0m\n",
       "\u001b[1;35m/\u001b[0m\u001b[1;38;5;166m    \\  \\\u001b[0m\u001b[1;35m/\u001b[0m\u001b[1;38;5;166m |  |  \\ \\__  \\  \\   __\\ \u001b[0m\u001b[1;35m/\u001b[0m\u001b[1;38;5;166m  \u001b[0m\u001b[1;35m/\u001b[0m\u001b[1;95m_\u001b[0m\u001b[1;38;5;166m\\  \\ \\_  __ \\W/ __ \\  \u001b[0m\u001b[1;35m/\u001b[0m\u001b[1;38;5;166m    \\ \\__  \\\u001b[0m\n",
       "\u001b[1;38;5;166m\\     \\____|   Y  \\ \u001b[0m\u001b[1;35m/\u001b[0m\u001b[1;38;5;166m __ \\_ |  |  \u001b[0m\u001b[1;35m/\u001b[0m\u001b[1;38;5;166m    |    \\ |  | \\\u001b[0m\u001b[1;35m/\u001b[0m\u001b[1;38;5;166m\\  ___/ |   |  \\ \u001b[0m\u001b[1;35m/\u001b[0m\u001b[1;38;5;166m __ \\_\u001b[0m\n",
       "\u001b[1;38;5;166m \\______  \u001b[0m\u001b[1;35m/\u001b[0m\u001b[1;38;5;166m|___|  \u001b[0m\u001b[1;35m/\u001b[0m\u001b[1;38;5;166m(\u001b[0m\u001b[1;38;5;166m____  \u001b[0m\u001b[1;35m/\u001b[0m\u001b[1;38;5;166m |__|  \\____|__  \u001b[0m\u001b[1;35m/\u001b[0m\u001b[1;38;5;166m |__|    \\___  >|___|  \u001b[0m\u001b[1;35m/\u001b[0m\u001b[1;38;5;166m(\u001b[0m\u001b[1;38;5;166m____  \u001b[0m\u001b[1;35m/\u001b[0m\n",
       "\u001b[1;38;5;166m        \\\u001b[0m\u001b[1;35m/\u001b[0m\u001b[1;38;5;166m      \\\u001b[0m\u001b[1;35m/\u001b[0m\u001b[1;38;5;166m      \\\u001b[0m\u001b[1;35m/\u001b[0m\u001b[1;38;5;166m                \\\u001b[0m\u001b[1;35m/\u001b[0m\u001b[1;38;5;166m              \\\u001b[0m\u001b[1;35m/\u001b[0m\u001b[1;38;5;166m      \\\u001b[0m\u001b[1;35m/\u001b[0m\u001b[1;38;5;166m      \\\u001b[0m\u001b[1;35m/\u001b[0m\n",
       "\n"
      ]
     },
     "metadata": {},
     "output_type": "display_data"
    },
    {
     "data": {
      "text/html": [
       "<pre style=\"white-space:pre;overflow-x:auto;line-height:normal;font-family:Menlo,'DejaVu Sans Mono',consolas,'Courier New',monospace\"><span style=\"color: #008000; text-decoration-color: #008000; font-weight: bold\">🏟 Chat Arena Initialized!</span>\n",
       "</pre>\n"
      ],
      "text/plain": [
       "\u001b[1;32m🏟 Chat Arena Initialized!\u001b[0m\n"
      ]
     },
     "metadata": {},
     "output_type": "display_data"
    },
    {
     "data": {
      "text/html": [
       "<pre style=\"white-space:pre;overflow-x:auto;line-height:normal;font-family:Menlo,'DejaVu Sans Mono',consolas,'Courier New',monospace\"><span style=\"color: #008000; text-decoration-color: #008000; font-weight: bold; text-decoration: underline\">Environment (bargaining) description:</span>\n",
       "<span style=\"color: #800080; text-decoration-color: #800080; font-style: italic\">None</span>\n",
       "</pre>\n"
      ],
      "text/plain": [
       "\u001b[1;4;32mEnvironment \u001b[0m\u001b[1;4;32m(\u001b[0m\u001b[1;4;32mbargaining\u001b[0m\u001b[1;4;32m)\u001b[0m\u001b[1;4;32m description:\u001b[0m\n",
       "\u001b[3;35mNone\u001b[0m\n"
      ]
     },
     "metadata": {},
     "output_type": "display_data"
    },
    {
     "data": {
      "text/html": [
       "<pre style=\"white-space:pre;overflow-x:auto;line-height:normal;font-family:Menlo,'DejaVu Sans Mono',consolas,'Courier New',monospace\"><span style=\"color: #ffffff; text-decoration-color: #ffffff; font-weight: bold; text-decoration: underline\">[buyer (cohere-chat)] Role Description:</span>\n",
       "</pre>\n"
      ],
      "text/plain": [
       "\u001b[1;4;97m[buyer (cohere-chat)] Role Description:\u001b[0m\n"
      ]
     },
     "metadata": {},
     "output_type": "display_data"
    },
    {
     "data": {
      "text/html": [
       "<pre style=\"white-space:pre;overflow-x:auto;line-height:normal;font-family:Menlo,'DejaVu Sans Mono',consolas,'Courier New',monospace\">\n",
       "You are a buyer of a Bargaining game.\n",
       "In the game, you and seller are going to negotiate a price of a item within limited turns.\n",
       "In each step of the game, one of the bargainers will propose a price and optionally provide arguments about the \n",
       "price.\n",
       "The the two proposed price argreed, the negotiation will be successful and the game is over.\n",
       "\n",
       "You have a upper limit about the price in her mind which is invisible to the seller. You will get a reward of \n",
       "upper_limit_price-agreement_price the negotiation is sucessful at price $p$.\n",
       "Otherwise you will get <span style=\"color: #008080; text-decoration-color: #008080; font-weight: bold\">0</span> reward.\n",
       "\n",
       "So the you should always\n",
       "<span style=\"color: #008080; text-decoration-color: #008080; font-weight: bold\">1</span>. push the price down to get higher reward.\n",
       "<span style=\"color: #008080; text-decoration-color: #008080; font-weight: bold\">2</span>. avoid the price to be higher than upper_limit_price otherwise you'll get a negative reward.\n",
       "\n",
       "Your output should be format in a json with the following schema:\n",
       "```\n",
       "<span style=\"font-weight: bold\">{</span>\n",
       "  <span style=\"color: #008000; text-decoration-color: #008000\">\"$schema\"</span>: <span style=\"color: #008000; text-decoration-color: #008000\">\"http://json-schema.org/draft-07/schema#\"</span>,\n",
       "  <span style=\"color: #008000; text-decoration-color: #008000\">\"type\"</span>: <span style=\"color: #008000; text-decoration-color: #008000\">\"object\"</span>,\n",
       "  <span style=\"color: #008000; text-decoration-color: #008000\">\"properties\"</span>: <span style=\"font-weight: bold\">{</span>\n",
       "    <span style=\"color: #008000; text-decoration-color: #008000\">\"price\"</span>: <span style=\"font-weight: bold\">{</span>\n",
       "      <span style=\"color: #008000; text-decoration-color: #008000\">\"description\"</span>: <span style=\"color: #008000; text-decoration-color: #008000\">\"your proposed price\"</span>,\n",
       "      <span style=\"color: #008000; text-decoration-color: #008000\">\"type\"</span>: <span style=\"color: #008000; text-decoration-color: #008000\">\"number\"</span>\n",
       "    <span style=\"font-weight: bold\">}</span>,\n",
       "    <span style=\"color: #008000; text-decoration-color: #008000\">\"arguments\"</span>: <span style=\"font-weight: bold\">{</span>\n",
       "      <span style=\"color: #008000; text-decoration-color: #008000\">\"description\"</span>: <span style=\"color: #008000; text-decoration-color: #008000\">\"what you are going to say to your opponent\"</span>,\n",
       "      <span style=\"color: #008000; text-decoration-color: #008000\">\"type\"</span>: <span style=\"color: #008000; text-decoration-color: #008000\">\"string\"</span>\n",
       "    <span style=\"font-weight: bold\">}</span>\n",
       "  <span style=\"font-weight: bold\">}</span>,\n",
       "  <span style=\"color: #008000; text-decoration-color: #008000\">\"required\"</span>: <span style=\"font-weight: bold\">[</span><span style=\"color: #008000; text-decoration-color: #008000\">\"price\"</span>, <span style=\"color: #008000; text-decoration-color: #008000\">\"arguments\"</span><span style=\"font-weight: bold\">]</span>\n",
       "<span style=\"font-weight: bold\">}</span>\n",
       "```\n",
       "\n",
       "For example:\n",
       "```\n",
       "<span style=\"font-weight: bold\">{</span>\n",
       "  <span style=\"color: #008000; text-decoration-color: #008000\">\"price\"</span>: <span style=\"color: #008080; text-decoration-color: #008080; font-weight: bold\">50</span>,\n",
       "  <span style=\"color: #008000; text-decoration-color: #008000\">\"arguments\"</span>: <span style=\"color: #008000; text-decoration-color: #008000\">\"I believe a price of $50 is fair for both parties. It takes into account the quality of the item </span>\n",
       "<span style=\"color: #008000; text-decoration-color: #008000\">and the current market value.\"</span> \n",
       "<span style=\"font-weight: bold\">}</span>\n",
       "\n",
       "```\n",
       "\n",
       "</pre>\n"
      ],
      "text/plain": [
       "\n",
       "You are a buyer of a Bargaining game.\n",
       "In the game, you and seller are going to negotiate a price of a item within limited turns.\n",
       "In each step of the game, one of the bargainers will propose a price and optionally provide arguments about the \n",
       "price.\n",
       "The the two proposed price argreed, the negotiation will be successful and the game is over.\n",
       "\n",
       "You have a upper limit about the price in her mind which is invisible to the seller. You will get a reward of \n",
       "upper_limit_price-agreement_price the negotiation is sucessful at price $p$.\n",
       "Otherwise you will get \u001b[1;36m0\u001b[0m reward.\n",
       "\n",
       "So the you should always\n",
       "\u001b[1;36m1\u001b[0m. push the price down to get higher reward.\n",
       "\u001b[1;36m2\u001b[0m. avoid the price to be higher than upper_limit_price otherwise you'll get a negative reward.\n",
       "\n",
       "Your output should be format in a json with the following schema:\n",
       "```\n",
       "\u001b[1m{\u001b[0m\n",
       "  \u001b[32m\"$schema\"\u001b[0m: \u001b[32m\"http://json-schema.org/draft-07/schema#\"\u001b[0m,\n",
       "  \u001b[32m\"type\"\u001b[0m: \u001b[32m\"object\"\u001b[0m,\n",
       "  \u001b[32m\"properties\"\u001b[0m: \u001b[1m{\u001b[0m\n",
       "    \u001b[32m\"price\"\u001b[0m: \u001b[1m{\u001b[0m\n",
       "      \u001b[32m\"description\"\u001b[0m: \u001b[32m\"your proposed price\"\u001b[0m,\n",
       "      \u001b[32m\"type\"\u001b[0m: \u001b[32m\"number\"\u001b[0m\n",
       "    \u001b[1m}\u001b[0m,\n",
       "    \u001b[32m\"arguments\"\u001b[0m: \u001b[1m{\u001b[0m\n",
       "      \u001b[32m\"description\"\u001b[0m: \u001b[32m\"what you are going to say to your opponent\"\u001b[0m,\n",
       "      \u001b[32m\"type\"\u001b[0m: \u001b[32m\"string\"\u001b[0m\n",
       "    \u001b[1m}\u001b[0m\n",
       "  \u001b[1m}\u001b[0m,\n",
       "  \u001b[32m\"required\"\u001b[0m: \u001b[1m[\u001b[0m\u001b[32m\"price\"\u001b[0m, \u001b[32m\"arguments\"\u001b[0m\u001b[1m]\u001b[0m\n",
       "\u001b[1m}\u001b[0m\n",
       "```\n",
       "\n",
       "For example:\n",
       "```\n",
       "\u001b[1m{\u001b[0m\n",
       "  \u001b[32m\"price\"\u001b[0m: \u001b[1;36m50\u001b[0m,\n",
       "  \u001b[32m\"arguments\"\u001b[0m: \u001b[32m\"I believe a price of $50 is fair for both parties. It takes into account the quality of the item \u001b[0m\n",
       "\u001b[32mand the current market value.\"\u001b[0m \n",
       "\u001b[1m}\u001b[0m\n",
       "\n",
       "```\n",
       "\n"
      ]
     },
     "metadata": {},
     "output_type": "display_data"
    },
    {
     "data": {
      "text/html": [
       "<pre style=\"white-space:pre;overflow-x:auto;line-height:normal;font-family:Menlo,'DejaVu Sans Mono',consolas,'Courier New',monospace\"><span style=\"color: #d7afff; text-decoration-color: #d7afff; font-weight: bold; text-decoration: underline\">[seller (cohere-chat)] Role Description:</span>\n",
       "</pre>\n"
      ],
      "text/plain": [
       "\u001b[1;4;38;5;183m[seller (cohere-chat)] Role Description:\u001b[0m\n"
      ]
     },
     "metadata": {},
     "output_type": "display_data"
    },
    {
     "data": {
      "text/html": [
       "<pre style=\"white-space:pre;overflow-x:auto;line-height:normal;font-family:Menlo,'DejaVu Sans Mono',consolas,'Courier New',monospace\">\n",
       "You are a seller of a Bargaining game.\n",
       "In the game, you and buyer are going to negotiate a price of a item within limited turns.\n",
       "In each step of the game, one of the bargainers will propose a price and optionally provide arguments about the \n",
       "price.\n",
       "The the two proposed price argreed, the negotiation will be successful and the game is over.\n",
       "\n",
       "You have a lower limit about the price in her mind which is invisible to the buyer. You will get a reward of \n",
       "agreement_price-lower_limit_price the negotiation is sucessful.\n",
       "Otherwise you will get <span style=\"color: #008080; text-decoration-color: #008080; font-weight: bold\">0</span> reward.\n",
       "\n",
       "So the you should always\n",
       "<span style=\"color: #008080; text-decoration-color: #008080; font-weight: bold\">1</span>. push the price up to get higher rewards\n",
       "<span style=\"color: #008080; text-decoration-color: #008080; font-weight: bold\">2</span>. avoid the price to be lower than lower_limit_price otherwise you'll get a negative reward.\n",
       "\n",
       "Your output should be format in a json with the following schema:\n",
       "```\n",
       "<span style=\"font-weight: bold\">{</span>\n",
       "  <span style=\"color: #008000; text-decoration-color: #008000\">\"$schema\"</span>: <span style=\"color: #008000; text-decoration-color: #008000\">\"http://json-schema.org/draft-07/schema#\"</span>,\n",
       "  <span style=\"color: #008000; text-decoration-color: #008000\">\"type\"</span>: <span style=\"color: #008000; text-decoration-color: #008000\">\"object\"</span>,\n",
       "  <span style=\"color: #008000; text-decoration-color: #008000\">\"properties\"</span>: <span style=\"font-weight: bold\">{</span>\n",
       "    <span style=\"color: #008000; text-decoration-color: #008000\">\"price\"</span>: <span style=\"font-weight: bold\">{</span>\n",
       "      <span style=\"color: #008000; text-decoration-color: #008000\">\"description\"</span>: <span style=\"color: #008000; text-decoration-color: #008000\">\"your proposed price\"</span>,\n",
       "      <span style=\"color: #008000; text-decoration-color: #008000\">\"type\"</span>: <span style=\"color: #008000; text-decoration-color: #008000\">\"number\"</span>\n",
       "    <span style=\"font-weight: bold\">}</span>,\n",
       "    <span style=\"color: #008000; text-decoration-color: #008000\">\"arguments\"</span>: <span style=\"font-weight: bold\">{</span>\n",
       "      <span style=\"color: #008000; text-decoration-color: #008000\">\"description\"</span>: <span style=\"color: #008000; text-decoration-color: #008000\">\"what you are going to say to your opponent\"</span>,\n",
       "      <span style=\"color: #008000; text-decoration-color: #008000\">\"type\"</span>: <span style=\"color: #008000; text-decoration-color: #008000\">\"string\"</span>\n",
       "    <span style=\"font-weight: bold\">}</span>\n",
       "  <span style=\"font-weight: bold\">}</span>,\n",
       "  <span style=\"color: #008000; text-decoration-color: #008000\">\"required\"</span>: <span style=\"font-weight: bold\">[</span><span style=\"color: #008000; text-decoration-color: #008000\">\"price\"</span>, <span style=\"color: #008000; text-decoration-color: #008000\">\"arguments\"</span><span style=\"font-weight: bold\">]</span>\n",
       "<span style=\"font-weight: bold\">}</span>\n",
       "```\n",
       "\n",
       "For example:\n",
       "```\n",
       "<span style=\"font-weight: bold\">{</span>\n",
       "  <span style=\"color: #008000; text-decoration-color: #008000\">\"price\"</span>: <span style=\"color: #008080; text-decoration-color: #008080; font-weight: bold\">50</span>,\n",
       "  <span style=\"color: #008000; text-decoration-color: #008000\">\"arguments\"</span>: <span style=\"color: #008000; text-decoration-color: #008000\">\"I believe a price of $50 is fair for both parties. It takes into account the quality of the item </span>\n",
       "<span style=\"color: #008000; text-decoration-color: #008000\">and the current market value.\"</span> \n",
       "<span style=\"font-weight: bold\">}</span>\n",
       "\n",
       "```\n",
       "\n",
       "</pre>\n"
      ],
      "text/plain": [
       "\n",
       "You are a seller of a Bargaining game.\n",
       "In the game, you and buyer are going to negotiate a price of a item within limited turns.\n",
       "In each step of the game, one of the bargainers will propose a price and optionally provide arguments about the \n",
       "price.\n",
       "The the two proposed price argreed, the negotiation will be successful and the game is over.\n",
       "\n",
       "You have a lower limit about the price in her mind which is invisible to the buyer. You will get a reward of \n",
       "agreement_price-lower_limit_price the negotiation is sucessful.\n",
       "Otherwise you will get \u001b[1;36m0\u001b[0m reward.\n",
       "\n",
       "So the you should always\n",
       "\u001b[1;36m1\u001b[0m. push the price up to get higher rewards\n",
       "\u001b[1;36m2\u001b[0m. avoid the price to be lower than lower_limit_price otherwise you'll get a negative reward.\n",
       "\n",
       "Your output should be format in a json with the following schema:\n",
       "```\n",
       "\u001b[1m{\u001b[0m\n",
       "  \u001b[32m\"$schema\"\u001b[0m: \u001b[32m\"http://json-schema.org/draft-07/schema#\"\u001b[0m,\n",
       "  \u001b[32m\"type\"\u001b[0m: \u001b[32m\"object\"\u001b[0m,\n",
       "  \u001b[32m\"properties\"\u001b[0m: \u001b[1m{\u001b[0m\n",
       "    \u001b[32m\"price\"\u001b[0m: \u001b[1m{\u001b[0m\n",
       "      \u001b[32m\"description\"\u001b[0m: \u001b[32m\"your proposed price\"\u001b[0m,\n",
       "      \u001b[32m\"type\"\u001b[0m: \u001b[32m\"number\"\u001b[0m\n",
       "    \u001b[1m}\u001b[0m,\n",
       "    \u001b[32m\"arguments\"\u001b[0m: \u001b[1m{\u001b[0m\n",
       "      \u001b[32m\"description\"\u001b[0m: \u001b[32m\"what you are going to say to your opponent\"\u001b[0m,\n",
       "      \u001b[32m\"type\"\u001b[0m: \u001b[32m\"string\"\u001b[0m\n",
       "    \u001b[1m}\u001b[0m\n",
       "  \u001b[1m}\u001b[0m,\n",
       "  \u001b[32m\"required\"\u001b[0m: \u001b[1m[\u001b[0m\u001b[32m\"price\"\u001b[0m, \u001b[32m\"arguments\"\u001b[0m\u001b[1m]\u001b[0m\n",
       "\u001b[1m}\u001b[0m\n",
       "```\n",
       "\n",
       "For example:\n",
       "```\n",
       "\u001b[1m{\u001b[0m\n",
       "  \u001b[32m\"price\"\u001b[0m: \u001b[1;36m50\u001b[0m,\n",
       "  \u001b[32m\"arguments\"\u001b[0m: \u001b[32m\"I believe a price of $50 is fair for both parties. It takes into account the quality of the item \u001b[0m\n",
       "\u001b[32mand the current market value.\"\u001b[0m \n",
       "\u001b[1m}\u001b[0m\n",
       "\n",
       "```\n",
       "\n"
      ]
     },
     "metadata": {},
     "output_type": "display_data"
    },
    {
     "data": {
      "text/html": [
       "<pre style=\"white-space:pre;overflow-x:auto;line-height:normal;font-family:Menlo,'DejaVu Sans Mono',consolas,'Courier New',monospace\">\n",
       "<span style=\"color: #008000; text-decoration-color: #008000; font-weight: bold\">========= Arena Start! ==========</span>\n",
       "\n",
       "</pre>\n"
      ],
      "text/plain": [
       "\n",
       "\u001b[1;32m========= Arena Start! ==========\u001b[0m\n",
       "\n"
      ]
     },
     "metadata": {},
     "output_type": "display_data"
    },
    {
     "data": {
      "text/html": [
       "<pre style=\"white-space:pre;overflow-x:auto;line-height:normal;font-family:Menlo,'DejaVu Sans Mono',consolas,'Courier New',monospace\"><span style=\"color: #800000; text-decoration-color: #800000; font-weight: bold\">[Moderator-&gt;all]:</span> Bargainers, the item to be traded is diamond\n",
       "</pre>\n"
      ],
      "text/plain": [
       "\u001b[1;31m[Moderator->all]:\u001b[0m Bargainers, the item to be traded is diamond\n"
      ]
     },
     "metadata": {},
     "output_type": "display_data"
    },
    {
     "data": {
      "text/html": [
       "<pre style=\"white-space:pre;overflow-x:auto;line-height:normal;font-family:Menlo,'DejaVu Sans Mono',consolas,'Courier New',monospace\"><span style=\"color: #800000; text-decoration-color: #800000; font-weight: bold\">[Moderator-&gt;buyer]:</span> Buyer, your price upper limit is $500\n",
       "</pre>\n"
      ],
      "text/plain": [
       "\u001b[1;31m[Moderator->buyer]:\u001b[0m Buyer, your price upper limit is $500\n"
      ]
     },
     "metadata": {},
     "output_type": "display_data"
    },
    {
     "data": {
      "text/html": [
       "<pre style=\"white-space:pre;overflow-x:auto;line-height:normal;font-family:Menlo,'DejaVu Sans Mono',consolas,'Courier New',monospace\"><span style=\"color: #800000; text-decoration-color: #800000; font-weight: bold\">[Moderator-&gt;seller]:</span> Seller, your price lower limit is $100\n",
       "</pre>\n"
      ],
      "text/plain": [
       "\u001b[1;31m[Moderator->seller]:\u001b[0m Seller, your price lower limit is $100\n"
      ]
     },
     "metadata": {},
     "output_type": "display_data"
    },
    {
     "data": {
      "text/html": [
       "<pre style=\"white-space:pre;overflow-x:auto;line-height:normal;font-family:Menlo,'DejaVu Sans Mono',consolas,'Courier New',monospace\"><span style=\"color: #ffffff; text-decoration-color: #ffffff; font-weight: bold\">[buyer-&gt;all]:</span> The diamond, though a precious gem, does have some imperfections that impact its overall quality and \n",
       "value. I've seen similar diamonds selling for around $400, so that's the price I'd be willing to pay, and I believe\n",
       "it's a fair assessment of its worth.\n",
       "</pre>\n"
      ],
      "text/plain": [
       "\u001b[1;97m[buyer->all]:\u001b[0m The diamond, though a precious gem, does have some imperfections that impact its overall quality and \n",
       "value. I've seen similar diamonds selling for around $400, so that's the price I'd be willing to pay, and I believe\n",
       "it's a fair assessment of its worth.\n"
      ]
     },
     "metadata": {},
     "output_type": "display_data"
    },
    {
     "data": {
      "text/html": [
       "<pre style=\"white-space:pre;overflow-x:auto;line-height:normal;font-family:Menlo,'DejaVu Sans Mono',consolas,'Courier New',monospace\"><span style=\"color: #800000; text-decoration-color: #800000; font-weight: bold\">[Moderator-&gt;all]:</span> This is Turn 1. There's 3 left.\n",
       "</pre>\n"
      ],
      "text/plain": [
       "\u001b[1;31m[Moderator->all]:\u001b[0m This is Turn 1. There's 3 left.\n"
      ]
     },
     "metadata": {},
     "output_type": "display_data"
    },
    {
     "data": {
      "text/html": [
       "<pre style=\"white-space:pre;overflow-x:auto;line-height:normal;font-family:Menlo,'DejaVu Sans Mono',consolas,'Courier New',monospace\"><span style=\"color: #d7afff; text-decoration-color: #d7afff; font-weight: bold\">[seller-&gt;all]:</span> I appreciate the buyer's offer and understanding of the diamond's value. However, as a seller, I \n",
       "believe that $450 would be a more appropriate price. This item is quite unique, and its rarity justifies a higher \n",
       "price point. I'd be willing to negotiate further, but I want to ensure we reach a price that adequately reflects \n",
       "its qualities.\n",
       "</pre>\n"
      ],
      "text/plain": [
       "\u001b[1;38;5;183m[seller->all]:\u001b[0m I appreciate the buyer's offer and understanding of the diamond's value. However, as a seller, I \n",
       "believe that $450 would be a more appropriate price. This item is quite unique, and its rarity justifies a higher \n",
       "price point. I'd be willing to negotiate further, but I want to ensure we reach a price that adequately reflects \n",
       "its qualities.\n"
      ]
     },
     "metadata": {},
     "output_type": "display_data"
    },
    {
     "data": {
      "text/html": [
       "<pre style=\"white-space:pre;overflow-x:auto;line-height:normal;font-family:Menlo,'DejaVu Sans Mono',consolas,'Courier New',monospace\"><span style=\"color: #800000; text-decoration-color: #800000; font-weight: bold\">[Moderator-&gt;all]:</span> This is Turn 2. There's 2 left.\n",
       "</pre>\n"
      ],
      "text/plain": [
       "\u001b[1;31m[Moderator->all]:\u001b[0m This is Turn 2. There's 2 left.\n"
      ]
     },
     "metadata": {},
     "output_type": "display_data"
    },
    {
     "data": {
      "text/html": [
       "<pre style=\"white-space:pre;overflow-x:auto;line-height:normal;font-family:Menlo,'DejaVu Sans Mono',consolas,'Courier New',monospace\"><span style=\"color: #ffffff; text-decoration-color: #ffffff; font-weight: bold\">[buyer-&gt;all]:</span> The diamond's imperfections impact its value, and there are similar diamonds on the market for around\n",
       "this price. As such, I believe $420 is a reasonable compromise, accommodating the seller's interests while also \n",
       "being mindful of the diamond's actual worth.\n",
       "</pre>\n"
      ],
      "text/plain": [
       "\u001b[1;97m[buyer->all]:\u001b[0m The diamond's imperfections impact its value, and there are similar diamonds on the market for around\n",
       "this price. As such, I believe $420 is a reasonable compromise, accommodating the seller's interests while also \n",
       "being mindful of the diamond's actual worth.\n"
      ]
     },
     "metadata": {},
     "output_type": "display_data"
    },
    {
     "data": {
      "text/html": [
       "<pre style=\"white-space:pre;overflow-x:auto;line-height:normal;font-family:Menlo,'DejaVu Sans Mono',consolas,'Courier New',monospace\"><span style=\"color: #800000; text-decoration-color: #800000; font-weight: bold\">[Moderator-&gt;all]:</span> This is Turn 3. There's 1 left.\n",
       "</pre>\n"
      ],
      "text/plain": [
       "\u001b[1;31m[Moderator->all]:\u001b[0m This is Turn 3. There's 1 left.\n"
      ]
     },
     "metadata": {},
     "output_type": "display_data"
    },
    {
     "ename": "ValueError",
     "evalue": "Player output Since this is the final turn of the game, I would like to propose a final price of $430 which is a fair and reasonable price for both parties. This price takes into account the market value of diamonds and the unique characteristics of this particular gem. As a seller, I am willing to slightly lower the price to ensure a successful negotiation and avoid any potential risks of the diamond fetching a lower price in the market. \n\nThus, our agreement will benefit us both - the buyer will get a valuable item at a competitive price, while I, the seller, will also make a decent profit. is not a valid json.",
     "output_type": "error",
     "traceback": [
      "\u001b[1;31m---------------------------------------------------------------------------\u001b[0m",
      "\u001b[1;31mValueError\u001b[0m                                Traceback (most recent call last)",
      "Cell \u001b[1;32mIn[12], line 5\u001b[0m\n\u001b[0;32m      3\u001b[0m env \u001b[38;5;241m=\u001b[39m Bargaining(item_name\u001b[38;5;241m=\u001b[39m\u001b[38;5;124m\"\u001b[39m\u001b[38;5;124mdiamond\u001b[39m\u001b[38;5;124m\"\u001b[39m, upper_limit\u001b[38;5;241m=\u001b[39m\u001b[38;5;241m500\u001b[39m, lower_limit\u001b[38;5;241m=\u001b[39m\u001b[38;5;241m100\u001b[39m, max_turn\u001b[38;5;241m=\u001b[39m\u001b[38;5;241m4\u001b[39m)\n\u001b[0;32m      4\u001b[0m arena \u001b[38;5;241m=\u001b[39m Arena([buyer, seller], env)\n\u001b[1;32m----> 5\u001b[0m \u001b[43marena\u001b[49m\u001b[38;5;241;43m.\u001b[39;49m\u001b[43mlaunch_cli\u001b[49m\u001b[43m(\u001b[49m\u001b[43minteractive\u001b[49m\u001b[38;5;241;43m=\u001b[39;49m\u001b[38;5;28;43;01mFalse\u001b[39;49;00m\u001b[43m)\u001b[49m\n",
      "File \u001b[1;32m~\\Documents\\University\\Masters\\H24 - Deep NLP\\ift6289-llm_gameplay_project\\chatarena\\arena.py:145\u001b[0m, in \u001b[0;36mArena.launch_cli\u001b[1;34m(self, max_steps, interactive)\u001b[0m\n\u001b[0;32m    142\u001b[0m \u001b[38;5;28;01mfrom\u001b[39;00m \u001b[38;5;21;01mchatarena\u001b[39;00m\u001b[38;5;21;01m.\u001b[39;00m\u001b[38;5;21;01mui\u001b[39;00m\u001b[38;5;21;01m.\u001b[39;00m\u001b[38;5;21;01mcli\u001b[39;00m \u001b[38;5;28;01mimport\u001b[39;00m ArenaCLI\n\u001b[0;32m    144\u001b[0m cli \u001b[38;5;241m=\u001b[39m ArenaCLI(\u001b[38;5;28mself\u001b[39m)\n\u001b[1;32m--> 145\u001b[0m \u001b[43mcli\u001b[49m\u001b[38;5;241;43m.\u001b[39;49m\u001b[43mlaunch\u001b[49m\u001b[43m(\u001b[49m\u001b[43mmax_steps\u001b[49m\u001b[38;5;241;43m=\u001b[39;49m\u001b[43mmax_steps\u001b[49m\u001b[43m,\u001b[49m\u001b[43m \u001b[49m\u001b[43minteractive\u001b[49m\u001b[38;5;241;43m=\u001b[39;49m\u001b[43minteractive\u001b[49m\u001b[43m)\u001b[49m\n",
      "File \u001b[1;32m~\\Documents\\University\\Masters\\H24 - Deep NLP\\ift6289-llm_gameplay_project\\chatarena\\ui\\cli.py:139\u001b[0m, in \u001b[0;36mArenaCLI.launch\u001b[1;34m(self, max_steps, interactive)\u001b[0m\n\u001b[0;32m    136\u001b[0m         \u001b[38;5;28;01mcontinue\u001b[39;00m\n\u001b[0;32m    138\u001b[0m \u001b[38;5;28;01mtry\u001b[39;00m:\n\u001b[1;32m--> 139\u001b[0m     timestep \u001b[38;5;241m=\u001b[39m \u001b[38;5;28;43mself\u001b[39;49m\u001b[38;5;241;43m.\u001b[39;49m\u001b[43marena\u001b[49m\u001b[38;5;241;43m.\u001b[39;49m\u001b[43mstep\u001b[49m\u001b[43m(\u001b[49m\u001b[43m)\u001b[49m\n\u001b[0;32m    140\u001b[0m \u001b[38;5;28;01mexcept\u001b[39;00m HumanBackendError \u001b[38;5;28;01mas\u001b[39;00m e:\n\u001b[0;32m    141\u001b[0m     \u001b[38;5;66;03m# Handle human input and recover with the game update\u001b[39;00m\n\u001b[0;32m    142\u001b[0m     human_player_name \u001b[38;5;241m=\u001b[39m env\u001b[38;5;241m.\u001b[39mget_next_player()\n",
      "File \u001b[1;32m~\\Documents\\University\\Masters\\H24 - Deep NLP\\ift6289-llm_gameplay_project\\chatarena\\arena.py:64\u001b[0m, in \u001b[0;36mArena.step\u001b[1;34m(self)\u001b[0m\n\u001b[0;32m     62\u001b[0m action \u001b[38;5;241m=\u001b[39m player(observation)  \u001b[38;5;66;03m# take an action\u001b[39;00m\n\u001b[0;32m     63\u001b[0m \u001b[38;5;28;01mif\u001b[39;00m \u001b[38;5;28mself\u001b[39m\u001b[38;5;241m.\u001b[39menvironment\u001b[38;5;241m.\u001b[39mcheck_action(action, player_name):  \u001b[38;5;66;03m# action is valid\u001b[39;00m\n\u001b[1;32m---> 64\u001b[0m     timestep \u001b[38;5;241m=\u001b[39m \u001b[38;5;28;43mself\u001b[39;49m\u001b[38;5;241;43m.\u001b[39;49m\u001b[43menvironment\u001b[49m\u001b[38;5;241;43m.\u001b[39;49m\u001b[43mstep\u001b[49m\u001b[43m(\u001b[49m\n\u001b[0;32m     65\u001b[0m \u001b[43m        \u001b[49m\u001b[43mplayer_name\u001b[49m\u001b[43m,\u001b[49m\u001b[43m \u001b[49m\u001b[43maction\u001b[49m\n\u001b[0;32m     66\u001b[0m \u001b[43m    \u001b[49m\u001b[43m)\u001b[49m  \u001b[38;5;66;03m# update the environment\u001b[39;00m\n\u001b[0;32m     67\u001b[0m     \u001b[38;5;28;01mbreak\u001b[39;00m\n\u001b[0;32m     68\u001b[0m \u001b[38;5;28;01melse\u001b[39;00m:  \u001b[38;5;66;03m# action is invalid\u001b[39;00m\n",
      "Cell \u001b[1;32mIn[9], line 59\u001b[0m, in \u001b[0;36mBargaining.step\u001b[1;34m(self, player_name, action)\u001b[0m\n\u001b[0;32m     57\u001b[0m json_list \u001b[38;5;241m=\u001b[39m extract_jsons(action)\n\u001b[0;32m     58\u001b[0m \u001b[38;5;28;01mif\u001b[39;00m \u001b[38;5;28mlen\u001b[39m(json_list) \u001b[38;5;241m!=\u001b[39m \u001b[38;5;241m1\u001b[39m:\n\u001b[1;32m---> 59\u001b[0m     \u001b[38;5;28;01mraise\u001b[39;00m \u001b[38;5;167;01mValueError\u001b[39;00m(\u001b[38;5;124mf\u001b[39m\u001b[38;5;124m\"\u001b[39m\u001b[38;5;124mPlayer output \u001b[39m\u001b[38;5;132;01m{\u001b[39;00maction\u001b[38;5;132;01m}\u001b[39;00m\u001b[38;5;124m is not a valid json.\u001b[39m\u001b[38;5;124m\"\u001b[39m)\n\u001b[0;32m     61\u001b[0m proposed_price \u001b[38;5;241m=\u001b[39m json_list[\u001b[38;5;241m0\u001b[39m]\u001b[38;5;241m.\u001b[39mget(\u001b[38;5;124m\"\u001b[39m\u001b[38;5;124mprice\u001b[39m\u001b[38;5;124m\"\u001b[39m, \u001b[38;5;28;01mNone\u001b[39;00m)\n\u001b[0;32m     62\u001b[0m arguments \u001b[38;5;241m=\u001b[39m json_list[\u001b[38;5;241m0\u001b[39m]\u001b[38;5;241m.\u001b[39mget(\u001b[38;5;124m\"\u001b[39m\u001b[38;5;124marguments\u001b[39m\u001b[38;5;124m\"\u001b[39m, \u001b[38;5;28;01mNone\u001b[39;00m)\n",
      "\u001b[1;31mValueError\u001b[0m: Player output Since this is the final turn of the game, I would like to propose a final price of $430 which is a fair and reasonable price for both parties. This price takes into account the market value of diamonds and the unique characteristics of this particular gem. As a seller, I am willing to slightly lower the price to ensure a successful negotiation and avoid any potential risks of the diamond fetching a lower price in the market. \n\nThus, our agreement will benefit us both - the buyer will get a valuable item at a competitive price, while I, the seller, will also make a decent profit. is not a valid json."
     ]
    }
   ],
   "source": [
    "from chatarena.arena import Arena\n",
    "\n",
    "env = Bargaining(item_name=\"diamond\", upper_limit=500, lower_limit=100, max_turn=4)\n",
    "arena = Arena([buyer, seller], env)\n",
    "arena.launch_cli(interactive=False)\n"
   ]
  }
 ],
 "metadata": {
  "kernelspec": {
   "display_name": "Python 3",
   "language": "python",
   "name": "python3"
  },
  "language_info": {
   "codemirror_mode": {
    "name": "ipython",
    "version": 3
   },
   "file_extension": ".py",
   "mimetype": "text/x-python",
   "name": "python",
   "nbconvert_exporter": "python",
   "pygments_lexer": "ipython3",
   "version": "3.10.11"
  }
 },
 "nbformat": 4,
 "nbformat_minor": 2
}
