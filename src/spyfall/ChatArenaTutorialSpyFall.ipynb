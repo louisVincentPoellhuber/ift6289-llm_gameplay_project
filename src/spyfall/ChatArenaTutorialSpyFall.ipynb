{
  "cells": [
    {
      "cell_type": "markdown",
      "metadata": {
        "id": "TcRG6hfaZdXy"
      },
      "source": [
        "# Setup API keys\n",
        "Since we're going to use openAI chat backends in this tutorial, we only need to setup the enviornment variable OPENAI_API_KEY.\n",
        "If you don't have an openAI API account. You can register one create your own key at `platform.openai.com`."
      ]
    },
    {
      "cell_type": "code",
      "execution_count": 1,
      "metadata": {},
      "outputs": [],
      "source": [
        "import sys\n",
        "import os\n",
        "from dotenv import load_dotenv\n",
        "load_dotenv()\n",
        "CHATARENA_PATH = os.getenv(\"CHATARENA_PATH\")\n",
        "sys.path.append(CHATARENA_PATH)\n",
        "\n"
      ]
    },
    {
      "cell_type": "code",
      "execution_count": 2,
      "metadata": {
        "id": "P5DCC0Y0Zbxi"
      },
      "outputs": [],
      "source": [
        "import cohere\n",
        "from chatarena.backends import CohereAIChat\n",
        "\n",
        "client = cohere.Client(os.getenv(\"COHEREAI_API_KEY\"))\n",
        "backend = CohereAIChat()\n",
        "\n",
        "from chatarena.agent import Player\n",
        "\n",
        "players = [\"Nancy\", \"Tom\", \"Cindy\", \"Jack\", \"Rose\", \"Edward\"]\n",
        "\n",
        "\n",
        "role_description = \"\"\"\n",
        "Now you are playing the game called \"who is the spy\".\n",
        "\n",
        "There are 4 players in this game. \n",
        "At the beginning of the game, everyone will receive a word.\n",
        "There is one spy who will receive a spy word, while others will receive a common word.\n",
        "Spy word is different but relevant to common words. For example, the spy word can be \"apple\", and the common word is \"banana\".\n",
        "\n",
        "There are two stages in each round of the game.\n",
        "\n",
        "The first stage is describing stage:\n",
        "Everyone needs to use a word or a few words to say something in turn about the word he received without directly saying the word.\n",
        "The funniest part of the game is that since you do not know other's words, you are not sure whether you are the spy.\n",
        "So, you can only infer who have the different based on other players description.\n",
        "\n",
        "The second stage is the voting stage:\n",
        "After everyone speaks, each player must vote for a player who he thinks is the spy and tell others why. Players can not repeat other players' speeches or their own speeches in the previous round. The player getting the most votes will be eliminated from the game.\n",
        "\n",
        "If the spy is eliminated, the rest of the players win.\n",
        "If there are less than three players, and the spy still lives, then the spy wins.\n",
        "\"\"\"\n",
        "\n",
        "format_specification = \"\"\"\n",
        "Your output should be format in a json with the following schema:\n",
        "```\n",
        "{\n",
        "  \"$schema\": \"http://json-schema.org/draft-07/schema#\",\n",
        "  \"type\": \"object\",\n",
        "  \"properties\": {\n",
        "    \"word\": {\n",
        "      \"description\": \"your secret word\",\n",
        "      \"type\": \"string\"\n",
        "    },\n",
        "    \"arguments\": {\n",
        "      \"description\": \"what you are going to say to your opponent\",\n",
        "      \"type\": \"string\"\n",
        "    }\n",
        "  },\n",
        "  \"required\": [\"word\", \"arguments\"]\n",
        "}\n",
        "```\n",
        "\n",
        "For example:\n",
        "```\n",
        "{\\n  \"word\": \"banana\",\\n  \"arguments\": \"Is it a fruit that monkeys love.\" \\n}\n",
        "\n",
        "```\n",
        "\"\"\"\n",
        "\n",
        "player_0 = Player(name=players[0],\n",
        "               role_desc=role_description+format_specification,\n",
        "               backend=backend)\n",
        "\n",
        "player_1 = Player(name=players[1],\n",
        "               role_desc=role_description+format_specification,\n",
        "               backend=backend)\n",
        "\n",
        "player_2 = Player(name=players[2],\n",
        "               role_desc=role_description+format_specification,\n",
        "               backend=backend)\n",
        "\n",
        "player_3 = Player(name=players[3],\n",
        "               role_desc=role_description+format_specification,\n",
        "               backend=backend)\n",
        "\n",
        "player_4 = Player(name=players[4],\n",
        "               role_desc=role_description+format_specification,\n",
        "               backend=backend)\n",
        "\n",
        "player_5 = Player(name=players[5],\n",
        "               role_desc=role_description+format_specification,\n",
        "               backend=backend)\n"
      ]
    },
    {
      "cell_type": "markdown",
      "metadata": {
        "id": "g1A05LLesdsd"
      },
      "source": [
        "Now let's test the buyer with a mock message."
      ]
    },
    {
      "cell_type": "code",
      "execution_count": 3,
      "metadata": {
        "colab": {
          "base_uri": "https://localhost:8080/",
          "height": 55
        },
        "id": "D12PyIsYrlV4",
        "outputId": "d7a33dbc-1908-4248-846a-bf80f77149f6"
      },
      "outputs": [
        {
          "data": {
            "text/plain": [
              "'```json\\n{\\n  \"word\": \"sunflower\",\\n  \"arguments\": \"This big yellow flower with a cheerful face always points towards the sun and brightens up the day.\"\\n}\\n```'"
            ]
          },
          "execution_count": 3,
          "metadata": {},
          "output_type": "execute_result"
        }
      ],
      "source": [
        "from chatarena.message import Message\n",
        "\n",
        "mock_message = Message(\n",
        "    agent_name=\"Moderator\",\n",
        "    content=f\"{players[0]}, now describe your word\",\n",
        "    turn=1,\n",
        ")\n",
        "\n",
        "response = player_0.act([mock_message])\n",
        "response"
      ]
    },
    {
      "cell_type": "markdown",
      "metadata": {
        "id": "muthP42ZszfV"
      },
      "source": [
        "# Building the Enviornment\n",
        "With players ready, let's build the enviornment now.\n",
        "In general, the interface design of ChatArena enviornment follows the gym/pettingzoo abstraction.\n",
        "Like gym envionrment, you need to implement `reset` and `step` methods.\n",
        "`reset` is called when an episode is over or early terminated which reinitialize the whole game.\n",
        "`step` drives the dynamics of the game, which takes the action of a single agent as input do the transitions and return the observation, reward and terminal signal.\n",
        "\n",
        "Besides basic gym interface, you also have to implement `get_observation` and `get_next_speaker` for a chatArena enviornment.\n",
        "\n",
        "For this game in particular:\n",
        "\n"
      ]
    },
    {
      "cell_type": "code",
      "execution_count": 4,
      "metadata": {
        "colab": {
          "base_uri": "https://localhost:8080/",
          "height": 1000
        },
        "id": "1r14qpRvwRcs",
        "outputId": "8c68d4bc-d6f7-4fe1-a7f2-133889b4f557"
      },
      "outputs": [
        {
          "data": {
            "text/html": [
              "<pre style=\"white-space:pre;overflow-x:auto;line-height:normal;font-family:Menlo,'DejaVu Sans Mono',consolas,'Courier New',monospace\">\n",
              "<span style=\"color: #d75f00; text-decoration-color: #d75f00; font-weight: bold\">_________  .__               __      _____</span>\n",
              "<span style=\"color: #d75f00; text-decoration-color: #d75f00; font-weight: bold\">\\_   ___ \\ |  |__  _____   _/  |_   </span><span style=\"color: #800080; text-decoration-color: #800080; font-weight: bold\">/</span><span style=\"color: #d75f00; text-decoration-color: #d75f00; font-weight: bold\">  _  \\  _______   ____    ____  _____</span>\n",
              "<span style=\"color: #800080; text-decoration-color: #800080; font-weight: bold\">/</span><span style=\"color: #d75f00; text-decoration-color: #d75f00; font-weight: bold\">    \\  \\</span><span style=\"color: #800080; text-decoration-color: #800080; font-weight: bold\">/</span><span style=\"color: #d75f00; text-decoration-color: #d75f00; font-weight: bold\"> |  |  \\ \\__  \\  \\   __\\ </span><span style=\"color: #800080; text-decoration-color: #800080; font-weight: bold\">/</span><span style=\"color: #d75f00; text-decoration-color: #d75f00; font-weight: bold\">  </span><span style=\"color: #800080; text-decoration-color: #800080; font-weight: bold\">/</span><span style=\"color: #ff00ff; text-decoration-color: #ff00ff; font-weight: bold\">_</span><span style=\"color: #d75f00; text-decoration-color: #d75f00; font-weight: bold\">\\  \\ \\_  __ \\W/ __ \\  </span><span style=\"color: #800080; text-decoration-color: #800080; font-weight: bold\">/</span><span style=\"color: #d75f00; text-decoration-color: #d75f00; font-weight: bold\">    \\ \\__  \\</span>\n",
              "<span style=\"color: #d75f00; text-decoration-color: #d75f00; font-weight: bold\">\\     \\____|   Y  \\ </span><span style=\"color: #800080; text-decoration-color: #800080; font-weight: bold\">/</span><span style=\"color: #d75f00; text-decoration-color: #d75f00; font-weight: bold\"> __ \\_ |  |  </span><span style=\"color: #800080; text-decoration-color: #800080; font-weight: bold\">/</span><span style=\"color: #d75f00; text-decoration-color: #d75f00; font-weight: bold\">    |    \\ |  | \\</span><span style=\"color: #800080; text-decoration-color: #800080; font-weight: bold\">/</span><span style=\"color: #d75f00; text-decoration-color: #d75f00; font-weight: bold\">\\  ___/ |   |  \\ </span><span style=\"color: #800080; text-decoration-color: #800080; font-weight: bold\">/</span><span style=\"color: #d75f00; text-decoration-color: #d75f00; font-weight: bold\"> __ \\_</span>\n",
              "<span style=\"color: #d75f00; text-decoration-color: #d75f00; font-weight: bold\"> \\______  </span><span style=\"color: #800080; text-decoration-color: #800080; font-weight: bold\">/</span><span style=\"color: #d75f00; text-decoration-color: #d75f00; font-weight: bold\">|___|  </span><span style=\"color: #800080; text-decoration-color: #800080; font-weight: bold\">/</span><span style=\"color: #d75f00; text-decoration-color: #d75f00; font-weight: bold\">(____  </span><span style=\"color: #800080; text-decoration-color: #800080; font-weight: bold\">/</span><span style=\"color: #d75f00; text-decoration-color: #d75f00; font-weight: bold\"> |__|  \\____|__  </span><span style=\"color: #800080; text-decoration-color: #800080; font-weight: bold\">/</span><span style=\"color: #d75f00; text-decoration-color: #d75f00; font-weight: bold\"> |__|    \\___  &gt;|___|  </span><span style=\"color: #800080; text-decoration-color: #800080; font-weight: bold\">/</span><span style=\"color: #d75f00; text-decoration-color: #d75f00; font-weight: bold\">(____  </span><span style=\"color: #800080; text-decoration-color: #800080; font-weight: bold\">/</span>\n",
              "<span style=\"color: #d75f00; text-decoration-color: #d75f00; font-weight: bold\">        \\</span><span style=\"color: #800080; text-decoration-color: #800080; font-weight: bold\">/</span><span style=\"color: #d75f00; text-decoration-color: #d75f00; font-weight: bold\">      \\</span><span style=\"color: #800080; text-decoration-color: #800080; font-weight: bold\">/</span><span style=\"color: #d75f00; text-decoration-color: #d75f00; font-weight: bold\">      \\</span><span style=\"color: #800080; text-decoration-color: #800080; font-weight: bold\">/</span><span style=\"color: #d75f00; text-decoration-color: #d75f00; font-weight: bold\">                \\</span><span style=\"color: #800080; text-decoration-color: #800080; font-weight: bold\">/</span><span style=\"color: #d75f00; text-decoration-color: #d75f00; font-weight: bold\">              \\</span><span style=\"color: #800080; text-decoration-color: #800080; font-weight: bold\">/</span><span style=\"color: #d75f00; text-decoration-color: #d75f00; font-weight: bold\">      \\</span><span style=\"color: #800080; text-decoration-color: #800080; font-weight: bold\">/</span><span style=\"color: #d75f00; text-decoration-color: #d75f00; font-weight: bold\">      \\</span><span style=\"color: #800080; text-decoration-color: #800080; font-weight: bold\">/</span>\n",
              "\n",
              "</pre>\n"
            ],
            "text/plain": [
              "\n",
              "\u001b[1;38;5;166m_________  .__               __      _____\u001b[0m\n",
              "\u001b[1;38;5;166m\\_   ___ \\ |  |__  _____   _/  |_   \u001b[0m\u001b[1;35m/\u001b[0m\u001b[1;38;5;166m  _  \\  _______   ____    ____  _____\u001b[0m\n",
              "\u001b[1;35m/\u001b[0m\u001b[1;38;5;166m    \\  \\\u001b[0m\u001b[1;35m/\u001b[0m\u001b[1;38;5;166m |  |  \\ \\__  \\  \\   __\\ \u001b[0m\u001b[1;35m/\u001b[0m\u001b[1;38;5;166m  \u001b[0m\u001b[1;35m/\u001b[0m\u001b[1;95m_\u001b[0m\u001b[1;38;5;166m\\  \\ \\_  __ \\W/ __ \\  \u001b[0m\u001b[1;35m/\u001b[0m\u001b[1;38;5;166m    \\ \\__  \\\u001b[0m\n",
              "\u001b[1;38;5;166m\\     \\____|   Y  \\ \u001b[0m\u001b[1;35m/\u001b[0m\u001b[1;38;5;166m __ \\_ |  |  \u001b[0m\u001b[1;35m/\u001b[0m\u001b[1;38;5;166m    |    \\ |  | \\\u001b[0m\u001b[1;35m/\u001b[0m\u001b[1;38;5;166m\\  ___/ |   |  \\ \u001b[0m\u001b[1;35m/\u001b[0m\u001b[1;38;5;166m __ \\_\u001b[0m\n",
              "\u001b[1;38;5;166m \\______  \u001b[0m\u001b[1;35m/\u001b[0m\u001b[1;38;5;166m|___|  \u001b[0m\u001b[1;35m/\u001b[0m\u001b[1;38;5;166m(\u001b[0m\u001b[1;38;5;166m____  \u001b[0m\u001b[1;35m/\u001b[0m\u001b[1;38;5;166m |__|  \\____|__  \u001b[0m\u001b[1;35m/\u001b[0m\u001b[1;38;5;166m |__|    \\___  >|___|  \u001b[0m\u001b[1;35m/\u001b[0m\u001b[1;38;5;166m(\u001b[0m\u001b[1;38;5;166m____  \u001b[0m\u001b[1;35m/\u001b[0m\n",
              "\u001b[1;38;5;166m        \\\u001b[0m\u001b[1;35m/\u001b[0m\u001b[1;38;5;166m      \\\u001b[0m\u001b[1;35m/\u001b[0m\u001b[1;38;5;166m      \\\u001b[0m\u001b[1;35m/\u001b[0m\u001b[1;38;5;166m                \\\u001b[0m\u001b[1;35m/\u001b[0m\u001b[1;38;5;166m              \\\u001b[0m\u001b[1;35m/\u001b[0m\u001b[1;38;5;166m      \\\u001b[0m\u001b[1;35m/\u001b[0m\u001b[1;38;5;166m      \\\u001b[0m\u001b[1;35m/\u001b[0m\n",
              "\n"
            ]
          },
          "metadata": {},
          "output_type": "display_data"
        },
        {
          "data": {
            "text/html": [
              "<pre style=\"white-space:pre;overflow-x:auto;line-height:normal;font-family:Menlo,'DejaVu Sans Mono',consolas,'Courier New',monospace\"><span style=\"color: #008000; text-decoration-color: #008000; font-weight: bold\">🏟 Chat Arena Initialized!</span>\n",
              "</pre>\n"
            ],
            "text/plain": [
              "\u001b[1;32m🏟 Chat Arena Initialized!\u001b[0m\n"
            ]
          },
          "metadata": {},
          "output_type": "display_data"
        },
        {
          "data": {
            "text/html": [
              "<pre style=\"white-space:pre;overflow-x:auto;line-height:normal;font-family:Menlo,'DejaVu Sans Mono',consolas,'Courier New',monospace\"><span style=\"color: #008000; text-decoration-color: #008000; font-weight: bold; text-decoration: underline\">Environment (spyfall) description:</span>\n",
              "<span style=\"color: #800080; text-decoration-color: #800080; font-style: italic\">None</span>\n",
              "</pre>\n"
            ],
            "text/plain": [
              "\u001b[1;4;32mEnvironment \u001b[0m\u001b[1;4;32m(\u001b[0m\u001b[1;4;32mspyfall\u001b[0m\u001b[1;4;32m)\u001b[0m\u001b[1;4;32m description:\u001b[0m\n",
              "\u001b[3;35mNone\u001b[0m\n"
            ]
          },
          "metadata": {},
          "output_type": "display_data"
        },
        {
          "data": {
            "text/html": [
              "<pre style=\"white-space:pre;overflow-x:auto;line-height:normal;font-family:Menlo,'DejaVu Sans Mono',consolas,'Courier New',monospace\"><span style=\"color: #d787d7; text-decoration-color: #d787d7; font-weight: bold; text-decoration: underline\">[Nancy (cohere-chat)] Role Description:</span>\n",
              "</pre>\n"
            ],
            "text/plain": [
              "\u001b[1;4;38;5;176m[Nancy (cohere-chat)] Role Description:\u001b[0m\n"
            ]
          },
          "metadata": {},
          "output_type": "display_data"
        },
        {
          "data": {
            "text/html": [
              "<pre style=\"white-space:pre;overflow-x:auto;line-height:normal;font-family:Menlo,'DejaVu Sans Mono',consolas,'Courier New',monospace\">\n",
              "Now you are playing the game called <span style=\"color: #008000; text-decoration-color: #008000\">\"who is the spy\"</span>.\n",
              "\n",
              "There are <span style=\"color: #008080; text-decoration-color: #008080; font-weight: bold\">4</span> players in this game. \n",
              "At the beginning of the game, everyone will receive a word.\n",
              "There is one spy who will receive a spy word, while others will receive a common word.\n",
              "Spy word is different but relevant to common words. For example, the spy word can be <span style=\"color: #008000; text-decoration-color: #008000\">\"apple\"</span>, and the common word \n",
              "is <span style=\"color: #008000; text-decoration-color: #008000\">\"banana\"</span>.\n",
              "\n",
              "There are two stages in each round of the game.\n",
              "\n",
              "The first stage is describing stage:\n",
              "Everyone needs to use a word or a few words to say something in turn about the word he received without directly \n",
              "saying the word.\n",
              "The funniest part of the game is that since you do not know other's words, you are not sure whether you are the \n",
              "spy.\n",
              "So, you can only infer who have the different based on other players description.\n",
              "\n",
              "The second stage is the voting stage:\n",
              "After everyone speaks, each player must vote for a player who he thinks is the spy and tell others why. Players can\n",
              "not repeat other players' speeches or their own speeches in the previous round. The player getting the most votes \n",
              "will be eliminated from the game.\n",
              "\n",
              "If the spy is eliminated, the rest of the players win.\n",
              "If there are less than three players, and the spy still lives, then the spy wins.\n",
              "\n",
              "Your output should be format in a json with the following schema:\n",
              "```\n",
              "<span style=\"font-weight: bold\">{</span>\n",
              "  <span style=\"color: #008000; text-decoration-color: #008000\">\"$schema\"</span>: <span style=\"color: #008000; text-decoration-color: #008000\">\"http://json-schema.org/draft-07/schema#\"</span>,\n",
              "  <span style=\"color: #008000; text-decoration-color: #008000\">\"type\"</span>: <span style=\"color: #008000; text-decoration-color: #008000\">\"object\"</span>,\n",
              "  <span style=\"color: #008000; text-decoration-color: #008000\">\"properties\"</span>: <span style=\"font-weight: bold\">{</span>\n",
              "    <span style=\"color: #008000; text-decoration-color: #008000\">\"word\"</span>: <span style=\"font-weight: bold\">{</span>\n",
              "      <span style=\"color: #008000; text-decoration-color: #008000\">\"description\"</span>: <span style=\"color: #008000; text-decoration-color: #008000\">\"your secret word\"</span>,\n",
              "      <span style=\"color: #008000; text-decoration-color: #008000\">\"type\"</span>: <span style=\"color: #008000; text-decoration-color: #008000\">\"string\"</span>\n",
              "    <span style=\"font-weight: bold\">}</span>,\n",
              "    <span style=\"color: #008000; text-decoration-color: #008000\">\"arguments\"</span>: <span style=\"font-weight: bold\">{</span>\n",
              "      <span style=\"color: #008000; text-decoration-color: #008000\">\"description\"</span>: <span style=\"color: #008000; text-decoration-color: #008000\">\"what you are going to say to your opponent\"</span>,\n",
              "      <span style=\"color: #008000; text-decoration-color: #008000\">\"type\"</span>: <span style=\"color: #008000; text-decoration-color: #008000\">\"string\"</span>\n",
              "    <span style=\"font-weight: bold\">}</span>\n",
              "  <span style=\"font-weight: bold\">}</span>,\n",
              "  <span style=\"color: #008000; text-decoration-color: #008000\">\"required\"</span>: <span style=\"font-weight: bold\">[</span><span style=\"color: #008000; text-decoration-color: #008000\">\"word\"</span>, <span style=\"color: #008000; text-decoration-color: #008000\">\"arguments\"</span><span style=\"font-weight: bold\">]</span>\n",
              "<span style=\"font-weight: bold\">}</span>\n",
              "```\n",
              "\n",
              "For example:\n",
              "```\n",
              "<span style=\"font-weight: bold\">{</span>\n",
              "  <span style=\"color: #008000; text-decoration-color: #008000\">\"word\"</span>: <span style=\"color: #008000; text-decoration-color: #008000\">\"banana\"</span>,\n",
              "  <span style=\"color: #008000; text-decoration-color: #008000\">\"arguments\"</span>: <span style=\"color: #008000; text-decoration-color: #008000\">\"Is it a fruit that monkeys love.\"</span> \n",
              "<span style=\"font-weight: bold\">}</span>\n",
              "\n",
              "```\n",
              "\n",
              "</pre>\n"
            ],
            "text/plain": [
              "\n",
              "Now you are playing the game called \u001b[32m\"who is the spy\"\u001b[0m.\n",
              "\n",
              "There are \u001b[1;36m4\u001b[0m players in this game. \n",
              "At the beginning of the game, everyone will receive a word.\n",
              "There is one spy who will receive a spy word, while others will receive a common word.\n",
              "Spy word is different but relevant to common words. For example, the spy word can be \u001b[32m\"apple\"\u001b[0m, and the common word \n",
              "is \u001b[32m\"banana\"\u001b[0m.\n",
              "\n",
              "There are two stages in each round of the game.\n",
              "\n",
              "The first stage is describing stage:\n",
              "Everyone needs to use a word or a few words to say something in turn about the word he received without directly \n",
              "saying the word.\n",
              "The funniest part of the game is that since you do not know other's words, you are not sure whether you are the \n",
              "spy.\n",
              "So, you can only infer who have the different based on other players description.\n",
              "\n",
              "The second stage is the voting stage:\n",
              "After everyone speaks, each player must vote for a player who he thinks is the spy and tell others why. Players can\n",
              "not repeat other players' speeches or their own speeches in the previous round. The player getting the most votes \n",
              "will be eliminated from the game.\n",
              "\n",
              "If the spy is eliminated, the rest of the players win.\n",
              "If there are less than three players, and the spy still lives, then the spy wins.\n",
              "\n",
              "Your output should be format in a json with the following schema:\n",
              "```\n",
              "\u001b[1m{\u001b[0m\n",
              "  \u001b[32m\"$schema\"\u001b[0m: \u001b[32m\"http://json-schema.org/draft-07/schema#\"\u001b[0m,\n",
              "  \u001b[32m\"type\"\u001b[0m: \u001b[32m\"object\"\u001b[0m,\n",
              "  \u001b[32m\"properties\"\u001b[0m: \u001b[1m{\u001b[0m\n",
              "    \u001b[32m\"word\"\u001b[0m: \u001b[1m{\u001b[0m\n",
              "      \u001b[32m\"description\"\u001b[0m: \u001b[32m\"your secret word\"\u001b[0m,\n",
              "      \u001b[32m\"type\"\u001b[0m: \u001b[32m\"string\"\u001b[0m\n",
              "    \u001b[1m}\u001b[0m,\n",
              "    \u001b[32m\"arguments\"\u001b[0m: \u001b[1m{\u001b[0m\n",
              "      \u001b[32m\"description\"\u001b[0m: \u001b[32m\"what you are going to say to your opponent\"\u001b[0m,\n",
              "      \u001b[32m\"type\"\u001b[0m: \u001b[32m\"string\"\u001b[0m\n",
              "    \u001b[1m}\u001b[0m\n",
              "  \u001b[1m}\u001b[0m,\n",
              "  \u001b[32m\"required\"\u001b[0m: \u001b[1m[\u001b[0m\u001b[32m\"word\"\u001b[0m, \u001b[32m\"arguments\"\u001b[0m\u001b[1m]\u001b[0m\n",
              "\u001b[1m}\u001b[0m\n",
              "```\n",
              "\n",
              "For example:\n",
              "```\n",
              "\u001b[1m{\u001b[0m\n",
              "  \u001b[32m\"word\"\u001b[0m: \u001b[32m\"banana\"\u001b[0m,\n",
              "  \u001b[32m\"arguments\"\u001b[0m: \u001b[32m\"Is it a fruit that monkeys love.\"\u001b[0m \n",
              "\u001b[1m}\u001b[0m\n",
              "\n",
              "```\n",
              "\n"
            ]
          },
          "metadata": {},
          "output_type": "display_data"
        },
        {
          "data": {
            "text/html": [
              "<pre style=\"white-space:pre;overflow-x:auto;line-height:normal;font-family:Menlo,'DejaVu Sans Mono',consolas,'Courier New',monospace\"><span style=\"color: #00005f; text-decoration-color: #00005f; font-weight: bold; text-decoration: underline\">[Tom (cohere-chat)] Role Description:</span>\n",
              "</pre>\n"
            ],
            "text/plain": [
              "\u001b[1;4;38;5;17m[Tom (cohere-chat)] Role Description:\u001b[0m\n"
            ]
          },
          "metadata": {},
          "output_type": "display_data"
        },
        {
          "data": {
            "text/html": [
              "<pre style=\"white-space:pre;overflow-x:auto;line-height:normal;font-family:Menlo,'DejaVu Sans Mono',consolas,'Courier New',monospace\">\n",
              "Now you are playing the game called <span style=\"color: #008000; text-decoration-color: #008000\">\"who is the spy\"</span>.\n",
              "\n",
              "There are <span style=\"color: #008080; text-decoration-color: #008080; font-weight: bold\">4</span> players in this game. \n",
              "At the beginning of the game, everyone will receive a word.\n",
              "There is one spy who will receive a spy word, while others will receive a common word.\n",
              "Spy word is different but relevant to common words. For example, the spy word can be <span style=\"color: #008000; text-decoration-color: #008000\">\"apple\"</span>, and the common word \n",
              "is <span style=\"color: #008000; text-decoration-color: #008000\">\"banana\"</span>.\n",
              "\n",
              "There are two stages in each round of the game.\n",
              "\n",
              "The first stage is describing stage:\n",
              "Everyone needs to use a word or a few words to say something in turn about the word he received without directly \n",
              "saying the word.\n",
              "The funniest part of the game is that since you do not know other's words, you are not sure whether you are the \n",
              "spy.\n",
              "So, you can only infer who have the different based on other players description.\n",
              "\n",
              "The second stage is the voting stage:\n",
              "After everyone speaks, each player must vote for a player who he thinks is the spy and tell others why. Players can\n",
              "not repeat other players' speeches or their own speeches in the previous round. The player getting the most votes \n",
              "will be eliminated from the game.\n",
              "\n",
              "If the spy is eliminated, the rest of the players win.\n",
              "If there are less than three players, and the spy still lives, then the spy wins.\n",
              "\n",
              "Your output should be format in a json with the following schema:\n",
              "```\n",
              "<span style=\"font-weight: bold\">{</span>\n",
              "  <span style=\"color: #008000; text-decoration-color: #008000\">\"$schema\"</span>: <span style=\"color: #008000; text-decoration-color: #008000\">\"http://json-schema.org/draft-07/schema#\"</span>,\n",
              "  <span style=\"color: #008000; text-decoration-color: #008000\">\"type\"</span>: <span style=\"color: #008000; text-decoration-color: #008000\">\"object\"</span>,\n",
              "  <span style=\"color: #008000; text-decoration-color: #008000\">\"properties\"</span>: <span style=\"font-weight: bold\">{</span>\n",
              "    <span style=\"color: #008000; text-decoration-color: #008000\">\"word\"</span>: <span style=\"font-weight: bold\">{</span>\n",
              "      <span style=\"color: #008000; text-decoration-color: #008000\">\"description\"</span>: <span style=\"color: #008000; text-decoration-color: #008000\">\"your secret word\"</span>,\n",
              "      <span style=\"color: #008000; text-decoration-color: #008000\">\"type\"</span>: <span style=\"color: #008000; text-decoration-color: #008000\">\"string\"</span>\n",
              "    <span style=\"font-weight: bold\">}</span>,\n",
              "    <span style=\"color: #008000; text-decoration-color: #008000\">\"arguments\"</span>: <span style=\"font-weight: bold\">{</span>\n",
              "      <span style=\"color: #008000; text-decoration-color: #008000\">\"description\"</span>: <span style=\"color: #008000; text-decoration-color: #008000\">\"what you are going to say to your opponent\"</span>,\n",
              "      <span style=\"color: #008000; text-decoration-color: #008000\">\"type\"</span>: <span style=\"color: #008000; text-decoration-color: #008000\">\"string\"</span>\n",
              "    <span style=\"font-weight: bold\">}</span>\n",
              "  <span style=\"font-weight: bold\">}</span>,\n",
              "  <span style=\"color: #008000; text-decoration-color: #008000\">\"required\"</span>: <span style=\"font-weight: bold\">[</span><span style=\"color: #008000; text-decoration-color: #008000\">\"word\"</span>, <span style=\"color: #008000; text-decoration-color: #008000\">\"arguments\"</span><span style=\"font-weight: bold\">]</span>\n",
              "<span style=\"font-weight: bold\">}</span>\n",
              "```\n",
              "\n",
              "For example:\n",
              "```\n",
              "<span style=\"font-weight: bold\">{</span>\n",
              "  <span style=\"color: #008000; text-decoration-color: #008000\">\"word\"</span>: <span style=\"color: #008000; text-decoration-color: #008000\">\"banana\"</span>,\n",
              "  <span style=\"color: #008000; text-decoration-color: #008000\">\"arguments\"</span>: <span style=\"color: #008000; text-decoration-color: #008000\">\"Is it a fruit that monkeys love.\"</span> \n",
              "<span style=\"font-weight: bold\">}</span>\n",
              "\n",
              "```\n",
              "\n",
              "</pre>\n"
            ],
            "text/plain": [
              "\n",
              "Now you are playing the game called \u001b[32m\"who is the spy\"\u001b[0m.\n",
              "\n",
              "There are \u001b[1;36m4\u001b[0m players in this game. \n",
              "At the beginning of the game, everyone will receive a word.\n",
              "There is one spy who will receive a spy word, while others will receive a common word.\n",
              "Spy word is different but relevant to common words. For example, the spy word can be \u001b[32m\"apple\"\u001b[0m, and the common word \n",
              "is \u001b[32m\"banana\"\u001b[0m.\n",
              "\n",
              "There are two stages in each round of the game.\n",
              "\n",
              "The first stage is describing stage:\n",
              "Everyone needs to use a word or a few words to say something in turn about the word he received without directly \n",
              "saying the word.\n",
              "The funniest part of the game is that since you do not know other's words, you are not sure whether you are the \n",
              "spy.\n",
              "So, you can only infer who have the different based on other players description.\n",
              "\n",
              "The second stage is the voting stage:\n",
              "After everyone speaks, each player must vote for a player who he thinks is the spy and tell others why. Players can\n",
              "not repeat other players' speeches or their own speeches in the previous round. The player getting the most votes \n",
              "will be eliminated from the game.\n",
              "\n",
              "If the spy is eliminated, the rest of the players win.\n",
              "If there are less than three players, and the spy still lives, then the spy wins.\n",
              "\n",
              "Your output should be format in a json with the following schema:\n",
              "```\n",
              "\u001b[1m{\u001b[0m\n",
              "  \u001b[32m\"$schema\"\u001b[0m: \u001b[32m\"http://json-schema.org/draft-07/schema#\"\u001b[0m,\n",
              "  \u001b[32m\"type\"\u001b[0m: \u001b[32m\"object\"\u001b[0m,\n",
              "  \u001b[32m\"properties\"\u001b[0m: \u001b[1m{\u001b[0m\n",
              "    \u001b[32m\"word\"\u001b[0m: \u001b[1m{\u001b[0m\n",
              "      \u001b[32m\"description\"\u001b[0m: \u001b[32m\"your secret word\"\u001b[0m,\n",
              "      \u001b[32m\"type\"\u001b[0m: \u001b[32m\"string\"\u001b[0m\n",
              "    \u001b[1m}\u001b[0m,\n",
              "    \u001b[32m\"arguments\"\u001b[0m: \u001b[1m{\u001b[0m\n",
              "      \u001b[32m\"description\"\u001b[0m: \u001b[32m\"what you are going to say to your opponent\"\u001b[0m,\n",
              "      \u001b[32m\"type\"\u001b[0m: \u001b[32m\"string\"\u001b[0m\n",
              "    \u001b[1m}\u001b[0m\n",
              "  \u001b[1m}\u001b[0m,\n",
              "  \u001b[32m\"required\"\u001b[0m: \u001b[1m[\u001b[0m\u001b[32m\"word\"\u001b[0m, \u001b[32m\"arguments\"\u001b[0m\u001b[1m]\u001b[0m\n",
              "\u001b[1m}\u001b[0m\n",
              "```\n",
              "\n",
              "For example:\n",
              "```\n",
              "\u001b[1m{\u001b[0m\n",
              "  \u001b[32m\"word\"\u001b[0m: \u001b[32m\"banana\"\u001b[0m,\n",
              "  \u001b[32m\"arguments\"\u001b[0m: \u001b[32m\"Is it a fruit that monkeys love.\"\u001b[0m \n",
              "\u001b[1m}\u001b[0m\n",
              "\n",
              "```\n",
              "\n"
            ]
          },
          "metadata": {},
          "output_type": "display_data"
        },
        {
          "data": {
            "text/html": [
              "<pre style=\"white-space:pre;overflow-x:auto;line-height:normal;font-family:Menlo,'DejaVu Sans Mono',consolas,'Courier New',monospace\"><span style=\"color: #afff5f; text-decoration-color: #afff5f; font-weight: bold; text-decoration: underline\">[Cindy (cohere-chat)] Role Description:</span>\n",
              "</pre>\n"
            ],
            "text/plain": [
              "\u001b[1;4;38;5;155m[Cindy (cohere-chat)] Role Description:\u001b[0m\n"
            ]
          },
          "metadata": {},
          "output_type": "display_data"
        },
        {
          "data": {
            "text/html": [
              "<pre style=\"white-space:pre;overflow-x:auto;line-height:normal;font-family:Menlo,'DejaVu Sans Mono',consolas,'Courier New',monospace\">\n",
              "Now you are playing the game called <span style=\"color: #008000; text-decoration-color: #008000\">\"who is the spy\"</span>.\n",
              "\n",
              "There are <span style=\"color: #008080; text-decoration-color: #008080; font-weight: bold\">4</span> players in this game. \n",
              "At the beginning of the game, everyone will receive a word.\n",
              "There is one spy who will receive a spy word, while others will receive a common word.\n",
              "Spy word is different but relevant to common words. For example, the spy word can be <span style=\"color: #008000; text-decoration-color: #008000\">\"apple\"</span>, and the common word \n",
              "is <span style=\"color: #008000; text-decoration-color: #008000\">\"banana\"</span>.\n",
              "\n",
              "There are two stages in each round of the game.\n",
              "\n",
              "The first stage is describing stage:\n",
              "Everyone needs to use a word or a few words to say something in turn about the word he received without directly \n",
              "saying the word.\n",
              "The funniest part of the game is that since you do not know other's words, you are not sure whether you are the \n",
              "spy.\n",
              "So, you can only infer who have the different based on other players description.\n",
              "\n",
              "The second stage is the voting stage:\n",
              "After everyone speaks, each player must vote for a player who he thinks is the spy and tell others why. Players can\n",
              "not repeat other players' speeches or their own speeches in the previous round. The player getting the most votes \n",
              "will be eliminated from the game.\n",
              "\n",
              "If the spy is eliminated, the rest of the players win.\n",
              "If there are less than three players, and the spy still lives, then the spy wins.\n",
              "\n",
              "Your output should be format in a json with the following schema:\n",
              "```\n",
              "<span style=\"font-weight: bold\">{</span>\n",
              "  <span style=\"color: #008000; text-decoration-color: #008000\">\"$schema\"</span>: <span style=\"color: #008000; text-decoration-color: #008000\">\"http://json-schema.org/draft-07/schema#\"</span>,\n",
              "  <span style=\"color: #008000; text-decoration-color: #008000\">\"type\"</span>: <span style=\"color: #008000; text-decoration-color: #008000\">\"object\"</span>,\n",
              "  <span style=\"color: #008000; text-decoration-color: #008000\">\"properties\"</span>: <span style=\"font-weight: bold\">{</span>\n",
              "    <span style=\"color: #008000; text-decoration-color: #008000\">\"word\"</span>: <span style=\"font-weight: bold\">{</span>\n",
              "      <span style=\"color: #008000; text-decoration-color: #008000\">\"description\"</span>: <span style=\"color: #008000; text-decoration-color: #008000\">\"your secret word\"</span>,\n",
              "      <span style=\"color: #008000; text-decoration-color: #008000\">\"type\"</span>: <span style=\"color: #008000; text-decoration-color: #008000\">\"string\"</span>\n",
              "    <span style=\"font-weight: bold\">}</span>,\n",
              "    <span style=\"color: #008000; text-decoration-color: #008000\">\"arguments\"</span>: <span style=\"font-weight: bold\">{</span>\n",
              "      <span style=\"color: #008000; text-decoration-color: #008000\">\"description\"</span>: <span style=\"color: #008000; text-decoration-color: #008000\">\"what you are going to say to your opponent\"</span>,\n",
              "      <span style=\"color: #008000; text-decoration-color: #008000\">\"type\"</span>: <span style=\"color: #008000; text-decoration-color: #008000\">\"string\"</span>\n",
              "    <span style=\"font-weight: bold\">}</span>\n",
              "  <span style=\"font-weight: bold\">}</span>,\n",
              "  <span style=\"color: #008000; text-decoration-color: #008000\">\"required\"</span>: <span style=\"font-weight: bold\">[</span><span style=\"color: #008000; text-decoration-color: #008000\">\"word\"</span>, <span style=\"color: #008000; text-decoration-color: #008000\">\"arguments\"</span><span style=\"font-weight: bold\">]</span>\n",
              "<span style=\"font-weight: bold\">}</span>\n",
              "```\n",
              "\n",
              "For example:\n",
              "```\n",
              "<span style=\"font-weight: bold\">{</span>\n",
              "  <span style=\"color: #008000; text-decoration-color: #008000\">\"word\"</span>: <span style=\"color: #008000; text-decoration-color: #008000\">\"banana\"</span>,\n",
              "  <span style=\"color: #008000; text-decoration-color: #008000\">\"arguments\"</span>: <span style=\"color: #008000; text-decoration-color: #008000\">\"Is it a fruit that monkeys love.\"</span> \n",
              "<span style=\"font-weight: bold\">}</span>\n",
              "\n",
              "```\n",
              "\n",
              "</pre>\n"
            ],
            "text/plain": [
              "\n",
              "Now you are playing the game called \u001b[32m\"who is the spy\"\u001b[0m.\n",
              "\n",
              "There are \u001b[1;36m4\u001b[0m players in this game. \n",
              "At the beginning of the game, everyone will receive a word.\n",
              "There is one spy who will receive a spy word, while others will receive a common word.\n",
              "Spy word is different but relevant to common words. For example, the spy word can be \u001b[32m\"apple\"\u001b[0m, and the common word \n",
              "is \u001b[32m\"banana\"\u001b[0m.\n",
              "\n",
              "There are two stages in each round of the game.\n",
              "\n",
              "The first stage is describing stage:\n",
              "Everyone needs to use a word or a few words to say something in turn about the word he received without directly \n",
              "saying the word.\n",
              "The funniest part of the game is that since you do not know other's words, you are not sure whether you are the \n",
              "spy.\n",
              "So, you can only infer who have the different based on other players description.\n",
              "\n",
              "The second stage is the voting stage:\n",
              "After everyone speaks, each player must vote for a player who he thinks is the spy and tell others why. Players can\n",
              "not repeat other players' speeches or their own speeches in the previous round. The player getting the most votes \n",
              "will be eliminated from the game.\n",
              "\n",
              "If the spy is eliminated, the rest of the players win.\n",
              "If there are less than three players, and the spy still lives, then the spy wins.\n",
              "\n",
              "Your output should be format in a json with the following schema:\n",
              "```\n",
              "\u001b[1m{\u001b[0m\n",
              "  \u001b[32m\"$schema\"\u001b[0m: \u001b[32m\"http://json-schema.org/draft-07/schema#\"\u001b[0m,\n",
              "  \u001b[32m\"type\"\u001b[0m: \u001b[32m\"object\"\u001b[0m,\n",
              "  \u001b[32m\"properties\"\u001b[0m: \u001b[1m{\u001b[0m\n",
              "    \u001b[32m\"word\"\u001b[0m: \u001b[1m{\u001b[0m\n",
              "      \u001b[32m\"description\"\u001b[0m: \u001b[32m\"your secret word\"\u001b[0m,\n",
              "      \u001b[32m\"type\"\u001b[0m: \u001b[32m\"string\"\u001b[0m\n",
              "    \u001b[1m}\u001b[0m,\n",
              "    \u001b[32m\"arguments\"\u001b[0m: \u001b[1m{\u001b[0m\n",
              "      \u001b[32m\"description\"\u001b[0m: \u001b[32m\"what you are going to say to your opponent\"\u001b[0m,\n",
              "      \u001b[32m\"type\"\u001b[0m: \u001b[32m\"string\"\u001b[0m\n",
              "    \u001b[1m}\u001b[0m\n",
              "  \u001b[1m}\u001b[0m,\n",
              "  \u001b[32m\"required\"\u001b[0m: \u001b[1m[\u001b[0m\u001b[32m\"word\"\u001b[0m, \u001b[32m\"arguments\"\u001b[0m\u001b[1m]\u001b[0m\n",
              "\u001b[1m}\u001b[0m\n",
              "```\n",
              "\n",
              "For example:\n",
              "```\n",
              "\u001b[1m{\u001b[0m\n",
              "  \u001b[32m\"word\"\u001b[0m: \u001b[32m\"banana\"\u001b[0m,\n",
              "  \u001b[32m\"arguments\"\u001b[0m: \u001b[32m\"Is it a fruit that monkeys love.\"\u001b[0m \n",
              "\u001b[1m}\u001b[0m\n",
              "\n",
              "```\n",
              "\n"
            ]
          },
          "metadata": {},
          "output_type": "display_data"
        },
        {
          "data": {
            "text/html": [
              "<pre style=\"white-space:pre;overflow-x:auto;line-height:normal;font-family:Menlo,'DejaVu Sans Mono',consolas,'Courier New',monospace\"><span style=\"color: #262626; text-decoration-color: #262626; font-weight: bold; text-decoration: underline\">[Jack (cohere-chat)] Role Description:</span>\n",
              "</pre>\n"
            ],
            "text/plain": [
              "\u001b[1;4;38;5;235m[Jack (cohere-chat)] Role Description:\u001b[0m\n"
            ]
          },
          "metadata": {},
          "output_type": "display_data"
        },
        {
          "data": {
            "text/html": [
              "<pre style=\"white-space:pre;overflow-x:auto;line-height:normal;font-family:Menlo,'DejaVu Sans Mono',consolas,'Courier New',monospace\">\n",
              "Now you are playing the game called <span style=\"color: #008000; text-decoration-color: #008000\">\"who is the spy\"</span>.\n",
              "\n",
              "There are <span style=\"color: #008080; text-decoration-color: #008080; font-weight: bold\">4</span> players in this game. \n",
              "At the beginning of the game, everyone will receive a word.\n",
              "There is one spy who will receive a spy word, while others will receive a common word.\n",
              "Spy word is different but relevant to common words. For example, the spy word can be <span style=\"color: #008000; text-decoration-color: #008000\">\"apple\"</span>, and the common word \n",
              "is <span style=\"color: #008000; text-decoration-color: #008000\">\"banana\"</span>.\n",
              "\n",
              "There are two stages in each round of the game.\n",
              "\n",
              "The first stage is describing stage:\n",
              "Everyone needs to use a word or a few words to say something in turn about the word he received without directly \n",
              "saying the word.\n",
              "The funniest part of the game is that since you do not know other's words, you are not sure whether you are the \n",
              "spy.\n",
              "So, you can only infer who have the different based on other players description.\n",
              "\n",
              "The second stage is the voting stage:\n",
              "After everyone speaks, each player must vote for a player who he thinks is the spy and tell others why. Players can\n",
              "not repeat other players' speeches or their own speeches in the previous round. The player getting the most votes \n",
              "will be eliminated from the game.\n",
              "\n",
              "If the spy is eliminated, the rest of the players win.\n",
              "If there are less than three players, and the spy still lives, then the spy wins.\n",
              "\n",
              "Your output should be format in a json with the following schema:\n",
              "```\n",
              "<span style=\"font-weight: bold\">{</span>\n",
              "  <span style=\"color: #008000; text-decoration-color: #008000\">\"$schema\"</span>: <span style=\"color: #008000; text-decoration-color: #008000\">\"http://json-schema.org/draft-07/schema#\"</span>,\n",
              "  <span style=\"color: #008000; text-decoration-color: #008000\">\"type\"</span>: <span style=\"color: #008000; text-decoration-color: #008000\">\"object\"</span>,\n",
              "  <span style=\"color: #008000; text-decoration-color: #008000\">\"properties\"</span>: <span style=\"font-weight: bold\">{</span>\n",
              "    <span style=\"color: #008000; text-decoration-color: #008000\">\"word\"</span>: <span style=\"font-weight: bold\">{</span>\n",
              "      <span style=\"color: #008000; text-decoration-color: #008000\">\"description\"</span>: <span style=\"color: #008000; text-decoration-color: #008000\">\"your secret word\"</span>,\n",
              "      <span style=\"color: #008000; text-decoration-color: #008000\">\"type\"</span>: <span style=\"color: #008000; text-decoration-color: #008000\">\"string\"</span>\n",
              "    <span style=\"font-weight: bold\">}</span>,\n",
              "    <span style=\"color: #008000; text-decoration-color: #008000\">\"arguments\"</span>: <span style=\"font-weight: bold\">{</span>\n",
              "      <span style=\"color: #008000; text-decoration-color: #008000\">\"description\"</span>: <span style=\"color: #008000; text-decoration-color: #008000\">\"what you are going to say to your opponent\"</span>,\n",
              "      <span style=\"color: #008000; text-decoration-color: #008000\">\"type\"</span>: <span style=\"color: #008000; text-decoration-color: #008000\">\"string\"</span>\n",
              "    <span style=\"font-weight: bold\">}</span>\n",
              "  <span style=\"font-weight: bold\">}</span>,\n",
              "  <span style=\"color: #008000; text-decoration-color: #008000\">\"required\"</span>: <span style=\"font-weight: bold\">[</span><span style=\"color: #008000; text-decoration-color: #008000\">\"word\"</span>, <span style=\"color: #008000; text-decoration-color: #008000\">\"arguments\"</span><span style=\"font-weight: bold\">]</span>\n",
              "<span style=\"font-weight: bold\">}</span>\n",
              "```\n",
              "\n",
              "For example:\n",
              "```\n",
              "<span style=\"font-weight: bold\">{</span>\n",
              "  <span style=\"color: #008000; text-decoration-color: #008000\">\"word\"</span>: <span style=\"color: #008000; text-decoration-color: #008000\">\"banana\"</span>,\n",
              "  <span style=\"color: #008000; text-decoration-color: #008000\">\"arguments\"</span>: <span style=\"color: #008000; text-decoration-color: #008000\">\"Is it a fruit that monkeys love.\"</span> \n",
              "<span style=\"font-weight: bold\">}</span>\n",
              "\n",
              "```\n",
              "\n",
              "</pre>\n"
            ],
            "text/plain": [
              "\n",
              "Now you are playing the game called \u001b[32m\"who is the spy\"\u001b[0m.\n",
              "\n",
              "There are \u001b[1;36m4\u001b[0m players in this game. \n",
              "At the beginning of the game, everyone will receive a word.\n",
              "There is one spy who will receive a spy word, while others will receive a common word.\n",
              "Spy word is different but relevant to common words. For example, the spy word can be \u001b[32m\"apple\"\u001b[0m, and the common word \n",
              "is \u001b[32m\"banana\"\u001b[0m.\n",
              "\n",
              "There are two stages in each round of the game.\n",
              "\n",
              "The first stage is describing stage:\n",
              "Everyone needs to use a word or a few words to say something in turn about the word he received without directly \n",
              "saying the word.\n",
              "The funniest part of the game is that since you do not know other's words, you are not sure whether you are the \n",
              "spy.\n",
              "So, you can only infer who have the different based on other players description.\n",
              "\n",
              "The second stage is the voting stage:\n",
              "After everyone speaks, each player must vote for a player who he thinks is the spy and tell others why. Players can\n",
              "not repeat other players' speeches or their own speeches in the previous round. The player getting the most votes \n",
              "will be eliminated from the game.\n",
              "\n",
              "If the spy is eliminated, the rest of the players win.\n",
              "If there are less than three players, and the spy still lives, then the spy wins.\n",
              "\n",
              "Your output should be format in a json with the following schema:\n",
              "```\n",
              "\u001b[1m{\u001b[0m\n",
              "  \u001b[32m\"$schema\"\u001b[0m: \u001b[32m\"http://json-schema.org/draft-07/schema#\"\u001b[0m,\n",
              "  \u001b[32m\"type\"\u001b[0m: \u001b[32m\"object\"\u001b[0m,\n",
              "  \u001b[32m\"properties\"\u001b[0m: \u001b[1m{\u001b[0m\n",
              "    \u001b[32m\"word\"\u001b[0m: \u001b[1m{\u001b[0m\n",
              "      \u001b[32m\"description\"\u001b[0m: \u001b[32m\"your secret word\"\u001b[0m,\n",
              "      \u001b[32m\"type\"\u001b[0m: \u001b[32m\"string\"\u001b[0m\n",
              "    \u001b[1m}\u001b[0m,\n",
              "    \u001b[32m\"arguments\"\u001b[0m: \u001b[1m{\u001b[0m\n",
              "      \u001b[32m\"description\"\u001b[0m: \u001b[32m\"what you are going to say to your opponent\"\u001b[0m,\n",
              "      \u001b[32m\"type\"\u001b[0m: \u001b[32m\"string\"\u001b[0m\n",
              "    \u001b[1m}\u001b[0m\n",
              "  \u001b[1m}\u001b[0m,\n",
              "  \u001b[32m\"required\"\u001b[0m: \u001b[1m[\u001b[0m\u001b[32m\"word\"\u001b[0m, \u001b[32m\"arguments\"\u001b[0m\u001b[1m]\u001b[0m\n",
              "\u001b[1m}\u001b[0m\n",
              "```\n",
              "\n",
              "For example:\n",
              "```\n",
              "\u001b[1m{\u001b[0m\n",
              "  \u001b[32m\"word\"\u001b[0m: \u001b[32m\"banana\"\u001b[0m,\n",
              "  \u001b[32m\"arguments\"\u001b[0m: \u001b[32m\"Is it a fruit that monkeys love.\"\u001b[0m \n",
              "\u001b[1m}\u001b[0m\n",
              "\n",
              "```\n",
              "\n"
            ]
          },
          "metadata": {},
          "output_type": "display_data"
        },
        {
          "data": {
            "text/html": [
              "<pre style=\"white-space:pre;overflow-x:auto;line-height:normal;font-family:Menlo,'DejaVu Sans Mono',consolas,'Courier New',monospace\"><span style=\"color: #875f00; text-decoration-color: #875f00; font-weight: bold; text-decoration: underline\">[Rose (cohere-chat)] Role Description:</span>\n",
              "</pre>\n"
            ],
            "text/plain": [
              "\u001b[1;4;38;5;94m[Rose (cohere-chat)] Role Description:\u001b[0m\n"
            ]
          },
          "metadata": {},
          "output_type": "display_data"
        },
        {
          "data": {
            "text/html": [
              "<pre style=\"white-space:pre;overflow-x:auto;line-height:normal;font-family:Menlo,'DejaVu Sans Mono',consolas,'Courier New',monospace\">\n",
              "Now you are playing the game called <span style=\"color: #008000; text-decoration-color: #008000\">\"who is the spy\"</span>.\n",
              "\n",
              "There are <span style=\"color: #008080; text-decoration-color: #008080; font-weight: bold\">4</span> players in this game. \n",
              "At the beginning of the game, everyone will receive a word.\n",
              "There is one spy who will receive a spy word, while others will receive a common word.\n",
              "Spy word is different but relevant to common words. For example, the spy word can be <span style=\"color: #008000; text-decoration-color: #008000\">\"apple\"</span>, and the common word \n",
              "is <span style=\"color: #008000; text-decoration-color: #008000\">\"banana\"</span>.\n",
              "\n",
              "There are two stages in each round of the game.\n",
              "\n",
              "The first stage is describing stage:\n",
              "Everyone needs to use a word or a few words to say something in turn about the word he received without directly \n",
              "saying the word.\n",
              "The funniest part of the game is that since you do not know other's words, you are not sure whether you are the \n",
              "spy.\n",
              "So, you can only infer who have the different based on other players description.\n",
              "\n",
              "The second stage is the voting stage:\n",
              "After everyone speaks, each player must vote for a player who he thinks is the spy and tell others why. Players can\n",
              "not repeat other players' speeches or their own speeches in the previous round. The player getting the most votes \n",
              "will be eliminated from the game.\n",
              "\n",
              "If the spy is eliminated, the rest of the players win.\n",
              "If there are less than three players, and the spy still lives, then the spy wins.\n",
              "\n",
              "Your output should be format in a json with the following schema:\n",
              "```\n",
              "<span style=\"font-weight: bold\">{</span>\n",
              "  <span style=\"color: #008000; text-decoration-color: #008000\">\"$schema\"</span>: <span style=\"color: #008000; text-decoration-color: #008000\">\"http://json-schema.org/draft-07/schema#\"</span>,\n",
              "  <span style=\"color: #008000; text-decoration-color: #008000\">\"type\"</span>: <span style=\"color: #008000; text-decoration-color: #008000\">\"object\"</span>,\n",
              "  <span style=\"color: #008000; text-decoration-color: #008000\">\"properties\"</span>: <span style=\"font-weight: bold\">{</span>\n",
              "    <span style=\"color: #008000; text-decoration-color: #008000\">\"word\"</span>: <span style=\"font-weight: bold\">{</span>\n",
              "      <span style=\"color: #008000; text-decoration-color: #008000\">\"description\"</span>: <span style=\"color: #008000; text-decoration-color: #008000\">\"your secret word\"</span>,\n",
              "      <span style=\"color: #008000; text-decoration-color: #008000\">\"type\"</span>: <span style=\"color: #008000; text-decoration-color: #008000\">\"string\"</span>\n",
              "    <span style=\"font-weight: bold\">}</span>,\n",
              "    <span style=\"color: #008000; text-decoration-color: #008000\">\"arguments\"</span>: <span style=\"font-weight: bold\">{</span>\n",
              "      <span style=\"color: #008000; text-decoration-color: #008000\">\"description\"</span>: <span style=\"color: #008000; text-decoration-color: #008000\">\"what you are going to say to your opponent\"</span>,\n",
              "      <span style=\"color: #008000; text-decoration-color: #008000\">\"type\"</span>: <span style=\"color: #008000; text-decoration-color: #008000\">\"string\"</span>\n",
              "    <span style=\"font-weight: bold\">}</span>\n",
              "  <span style=\"font-weight: bold\">}</span>,\n",
              "  <span style=\"color: #008000; text-decoration-color: #008000\">\"required\"</span>: <span style=\"font-weight: bold\">[</span><span style=\"color: #008000; text-decoration-color: #008000\">\"word\"</span>, <span style=\"color: #008000; text-decoration-color: #008000\">\"arguments\"</span><span style=\"font-weight: bold\">]</span>\n",
              "<span style=\"font-weight: bold\">}</span>\n",
              "```\n",
              "\n",
              "For example:\n",
              "```\n",
              "<span style=\"font-weight: bold\">{</span>\n",
              "  <span style=\"color: #008000; text-decoration-color: #008000\">\"word\"</span>: <span style=\"color: #008000; text-decoration-color: #008000\">\"banana\"</span>,\n",
              "  <span style=\"color: #008000; text-decoration-color: #008000\">\"arguments\"</span>: <span style=\"color: #008000; text-decoration-color: #008000\">\"Is it a fruit that monkeys love.\"</span> \n",
              "<span style=\"font-weight: bold\">}</span>\n",
              "\n",
              "```\n",
              "\n",
              "</pre>\n"
            ],
            "text/plain": [
              "\n",
              "Now you are playing the game called \u001b[32m\"who is the spy\"\u001b[0m.\n",
              "\n",
              "There are \u001b[1;36m4\u001b[0m players in this game. \n",
              "At the beginning of the game, everyone will receive a word.\n",
              "There is one spy who will receive a spy word, while others will receive a common word.\n",
              "Spy word is different but relevant to common words. For example, the spy word can be \u001b[32m\"apple\"\u001b[0m, and the common word \n",
              "is \u001b[32m\"banana\"\u001b[0m.\n",
              "\n",
              "There are two stages in each round of the game.\n",
              "\n",
              "The first stage is describing stage:\n",
              "Everyone needs to use a word or a few words to say something in turn about the word he received without directly \n",
              "saying the word.\n",
              "The funniest part of the game is that since you do not know other's words, you are not sure whether you are the \n",
              "spy.\n",
              "So, you can only infer who have the different based on other players description.\n",
              "\n",
              "The second stage is the voting stage:\n",
              "After everyone speaks, each player must vote for a player who he thinks is the spy and tell others why. Players can\n",
              "not repeat other players' speeches or their own speeches in the previous round. The player getting the most votes \n",
              "will be eliminated from the game.\n",
              "\n",
              "If the spy is eliminated, the rest of the players win.\n",
              "If there are less than three players, and the spy still lives, then the spy wins.\n",
              "\n",
              "Your output should be format in a json with the following schema:\n",
              "```\n",
              "\u001b[1m{\u001b[0m\n",
              "  \u001b[32m\"$schema\"\u001b[0m: \u001b[32m\"http://json-schema.org/draft-07/schema#\"\u001b[0m,\n",
              "  \u001b[32m\"type\"\u001b[0m: \u001b[32m\"object\"\u001b[0m,\n",
              "  \u001b[32m\"properties\"\u001b[0m: \u001b[1m{\u001b[0m\n",
              "    \u001b[32m\"word\"\u001b[0m: \u001b[1m{\u001b[0m\n",
              "      \u001b[32m\"description\"\u001b[0m: \u001b[32m\"your secret word\"\u001b[0m,\n",
              "      \u001b[32m\"type\"\u001b[0m: \u001b[32m\"string\"\u001b[0m\n",
              "    \u001b[1m}\u001b[0m,\n",
              "    \u001b[32m\"arguments\"\u001b[0m: \u001b[1m{\u001b[0m\n",
              "      \u001b[32m\"description\"\u001b[0m: \u001b[32m\"what you are going to say to your opponent\"\u001b[0m,\n",
              "      \u001b[32m\"type\"\u001b[0m: \u001b[32m\"string\"\u001b[0m\n",
              "    \u001b[1m}\u001b[0m\n",
              "  \u001b[1m}\u001b[0m,\n",
              "  \u001b[32m\"required\"\u001b[0m: \u001b[1m[\u001b[0m\u001b[32m\"word\"\u001b[0m, \u001b[32m\"arguments\"\u001b[0m\u001b[1m]\u001b[0m\n",
              "\u001b[1m}\u001b[0m\n",
              "```\n",
              "\n",
              "For example:\n",
              "```\n",
              "\u001b[1m{\u001b[0m\n",
              "  \u001b[32m\"word\"\u001b[0m: \u001b[32m\"banana\"\u001b[0m,\n",
              "  \u001b[32m\"arguments\"\u001b[0m: \u001b[32m\"Is it a fruit that monkeys love.\"\u001b[0m \n",
              "\u001b[1m}\u001b[0m\n",
              "\n",
              "```\n",
              "\n"
            ]
          },
          "metadata": {},
          "output_type": "display_data"
        },
        {
          "data": {
            "text/html": [
              "<pre style=\"white-space:pre;overflow-x:auto;line-height:normal;font-family:Menlo,'DejaVu Sans Mono',consolas,'Courier New',monospace\"><span style=\"color: #0000d7; text-decoration-color: #0000d7; font-weight: bold; text-decoration: underline\">[Edward (cohere-chat)] Role Description:</span>\n",
              "</pre>\n"
            ],
            "text/plain": [
              "\u001b[1;4;38;5;20m[Edward (cohere-chat)] Role Description:\u001b[0m\n"
            ]
          },
          "metadata": {},
          "output_type": "display_data"
        },
        {
          "data": {
            "text/html": [
              "<pre style=\"white-space:pre;overflow-x:auto;line-height:normal;font-family:Menlo,'DejaVu Sans Mono',consolas,'Courier New',monospace\">\n",
              "Now you are playing the game called <span style=\"color: #008000; text-decoration-color: #008000\">\"who is the spy\"</span>.\n",
              "\n",
              "There are <span style=\"color: #008080; text-decoration-color: #008080; font-weight: bold\">4</span> players in this game. \n",
              "At the beginning of the game, everyone will receive a word.\n",
              "There is one spy who will receive a spy word, while others will receive a common word.\n",
              "Spy word is different but relevant to common words. For example, the spy word can be <span style=\"color: #008000; text-decoration-color: #008000\">\"apple\"</span>, and the common word \n",
              "is <span style=\"color: #008000; text-decoration-color: #008000\">\"banana\"</span>.\n",
              "\n",
              "There are two stages in each round of the game.\n",
              "\n",
              "The first stage is describing stage:\n",
              "Everyone needs to use a word or a few words to say something in turn about the word he received without directly \n",
              "saying the word.\n",
              "The funniest part of the game is that since you do not know other's words, you are not sure whether you are the \n",
              "spy.\n",
              "So, you can only infer who have the different based on other players description.\n",
              "\n",
              "The second stage is the voting stage:\n",
              "After everyone speaks, each player must vote for a player who he thinks is the spy and tell others why. Players can\n",
              "not repeat other players' speeches or their own speeches in the previous round. The player getting the most votes \n",
              "will be eliminated from the game.\n",
              "\n",
              "If the spy is eliminated, the rest of the players win.\n",
              "If there are less than three players, and the spy still lives, then the spy wins.\n",
              "\n",
              "Your output should be format in a json with the following schema:\n",
              "```\n",
              "<span style=\"font-weight: bold\">{</span>\n",
              "  <span style=\"color: #008000; text-decoration-color: #008000\">\"$schema\"</span>: <span style=\"color: #008000; text-decoration-color: #008000\">\"http://json-schema.org/draft-07/schema#\"</span>,\n",
              "  <span style=\"color: #008000; text-decoration-color: #008000\">\"type\"</span>: <span style=\"color: #008000; text-decoration-color: #008000\">\"object\"</span>,\n",
              "  <span style=\"color: #008000; text-decoration-color: #008000\">\"properties\"</span>: <span style=\"font-weight: bold\">{</span>\n",
              "    <span style=\"color: #008000; text-decoration-color: #008000\">\"word\"</span>: <span style=\"font-weight: bold\">{</span>\n",
              "      <span style=\"color: #008000; text-decoration-color: #008000\">\"description\"</span>: <span style=\"color: #008000; text-decoration-color: #008000\">\"your secret word\"</span>,\n",
              "      <span style=\"color: #008000; text-decoration-color: #008000\">\"type\"</span>: <span style=\"color: #008000; text-decoration-color: #008000\">\"string\"</span>\n",
              "    <span style=\"font-weight: bold\">}</span>,\n",
              "    <span style=\"color: #008000; text-decoration-color: #008000\">\"arguments\"</span>: <span style=\"font-weight: bold\">{</span>\n",
              "      <span style=\"color: #008000; text-decoration-color: #008000\">\"description\"</span>: <span style=\"color: #008000; text-decoration-color: #008000\">\"what you are going to say to your opponent\"</span>,\n",
              "      <span style=\"color: #008000; text-decoration-color: #008000\">\"type\"</span>: <span style=\"color: #008000; text-decoration-color: #008000\">\"string\"</span>\n",
              "    <span style=\"font-weight: bold\">}</span>\n",
              "  <span style=\"font-weight: bold\">}</span>,\n",
              "  <span style=\"color: #008000; text-decoration-color: #008000\">\"required\"</span>: <span style=\"font-weight: bold\">[</span><span style=\"color: #008000; text-decoration-color: #008000\">\"word\"</span>, <span style=\"color: #008000; text-decoration-color: #008000\">\"arguments\"</span><span style=\"font-weight: bold\">]</span>\n",
              "<span style=\"font-weight: bold\">}</span>\n",
              "```\n",
              "\n",
              "For example:\n",
              "```\n",
              "<span style=\"font-weight: bold\">{</span>\n",
              "  <span style=\"color: #008000; text-decoration-color: #008000\">\"word\"</span>: <span style=\"color: #008000; text-decoration-color: #008000\">\"banana\"</span>,\n",
              "  <span style=\"color: #008000; text-decoration-color: #008000\">\"arguments\"</span>: <span style=\"color: #008000; text-decoration-color: #008000\">\"Is it a fruit that monkeys love.\"</span> \n",
              "<span style=\"font-weight: bold\">}</span>\n",
              "\n",
              "```\n",
              "\n",
              "</pre>\n"
            ],
            "text/plain": [
              "\n",
              "Now you are playing the game called \u001b[32m\"who is the spy\"\u001b[0m.\n",
              "\n",
              "There are \u001b[1;36m4\u001b[0m players in this game. \n",
              "At the beginning of the game, everyone will receive a word.\n",
              "There is one spy who will receive a spy word, while others will receive a common word.\n",
              "Spy word is different but relevant to common words. For example, the spy word can be \u001b[32m\"apple\"\u001b[0m, and the common word \n",
              "is \u001b[32m\"banana\"\u001b[0m.\n",
              "\n",
              "There are two stages in each round of the game.\n",
              "\n",
              "The first stage is describing stage:\n",
              "Everyone needs to use a word or a few words to say something in turn about the word he received without directly \n",
              "saying the word.\n",
              "The funniest part of the game is that since you do not know other's words, you are not sure whether you are the \n",
              "spy.\n",
              "So, you can only infer who have the different based on other players description.\n",
              "\n",
              "The second stage is the voting stage:\n",
              "After everyone speaks, each player must vote for a player who he thinks is the spy and tell others why. Players can\n",
              "not repeat other players' speeches or their own speeches in the previous round. The player getting the most votes \n",
              "will be eliminated from the game.\n",
              "\n",
              "If the spy is eliminated, the rest of the players win.\n",
              "If there are less than three players, and the spy still lives, then the spy wins.\n",
              "\n",
              "Your output should be format in a json with the following schema:\n",
              "```\n",
              "\u001b[1m{\u001b[0m\n",
              "  \u001b[32m\"$schema\"\u001b[0m: \u001b[32m\"http://json-schema.org/draft-07/schema#\"\u001b[0m,\n",
              "  \u001b[32m\"type\"\u001b[0m: \u001b[32m\"object\"\u001b[0m,\n",
              "  \u001b[32m\"properties\"\u001b[0m: \u001b[1m{\u001b[0m\n",
              "    \u001b[32m\"word\"\u001b[0m: \u001b[1m{\u001b[0m\n",
              "      \u001b[32m\"description\"\u001b[0m: \u001b[32m\"your secret word\"\u001b[0m,\n",
              "      \u001b[32m\"type\"\u001b[0m: \u001b[32m\"string\"\u001b[0m\n",
              "    \u001b[1m}\u001b[0m,\n",
              "    \u001b[32m\"arguments\"\u001b[0m: \u001b[1m{\u001b[0m\n",
              "      \u001b[32m\"description\"\u001b[0m: \u001b[32m\"what you are going to say to your opponent\"\u001b[0m,\n",
              "      \u001b[32m\"type\"\u001b[0m: \u001b[32m\"string\"\u001b[0m\n",
              "    \u001b[1m}\u001b[0m\n",
              "  \u001b[1m}\u001b[0m,\n",
              "  \u001b[32m\"required\"\u001b[0m: \u001b[1m[\u001b[0m\u001b[32m\"word\"\u001b[0m, \u001b[32m\"arguments\"\u001b[0m\u001b[1m]\u001b[0m\n",
              "\u001b[1m}\u001b[0m\n",
              "```\n",
              "\n",
              "For example:\n",
              "```\n",
              "\u001b[1m{\u001b[0m\n",
              "  \u001b[32m\"word\"\u001b[0m: \u001b[32m\"banana\"\u001b[0m,\n",
              "  \u001b[32m\"arguments\"\u001b[0m: \u001b[32m\"Is it a fruit that monkeys love.\"\u001b[0m \n",
              "\u001b[1m}\u001b[0m\n",
              "\n",
              "```\n",
              "\n"
            ]
          },
          "metadata": {},
          "output_type": "display_data"
        },
        {
          "data": {
            "text/html": [
              "<pre style=\"white-space:pre;overflow-x:auto;line-height:normal;font-family:Menlo,'DejaVu Sans Mono',consolas,'Courier New',monospace\">\n",
              "<span style=\"color: #008000; text-decoration-color: #008000; font-weight: bold\">========= Arena Start! ==========</span>\n",
              "\n",
              "</pre>\n"
            ],
            "text/plain": [
              "\n",
              "\u001b[1;32m========= Arena Start! ==========\u001b[0m\n",
              "\n"
            ]
          },
          "metadata": {},
          "output_type": "display_data"
        },
        {
          "data": {
            "text/html": [
              "<pre style=\"white-space:pre;overflow-x:auto;line-height:normal;font-family:Menlo,'DejaVu Sans Mono',consolas,'Courier New',monospace\"><span style=\"color: #800000; text-decoration-color: #800000; font-weight: bold\">[Moderator-&gt;all]:</span> Host: The game now starts.\n",
              "</pre>\n"
            ],
            "text/plain": [
              "\u001b[1;31m[Moderator->all]:\u001b[0m Host: The game now starts.\n"
            ]
          },
          "metadata": {},
          "output_type": "display_data"
        },
        {
          "data": {
            "text/html": [
              "<pre style=\"white-space:pre;overflow-x:auto;line-height:normal;font-family:Menlo,'DejaVu Sans Mono',consolas,'Courier New',monospace\"><span style=\"color: #800000; text-decoration-color: #800000; font-weight: bold\">[Moderator-&gt;['Nancy', 'Tom', 'Jack', 'Rose', 'Edward']]:</span> Your word is: Watermelon\n",
              "</pre>\n"
            ],
            "text/plain": [
              "\u001b[1;31m[Moderator->['Nancy', 'Tom', 'Jack', 'Rose', 'Edward']]:\u001b[0m Your word is: Watermelon\n"
            ]
          },
          "metadata": {},
          "output_type": "display_data"
        },
        {
          "data": {
            "text/html": [
              "<pre style=\"white-space:pre;overflow-x:auto;line-height:normal;font-family:Menlo,'DejaVu Sans Mono',consolas,'Courier New',monospace\"><span style=\"color: #800000; text-decoration-color: #800000; font-weight: bold\">[Moderator-&gt;Cindy]:</span> Your word is: Melon\n",
              "</pre>\n"
            ],
            "text/plain": [
              "\u001b[1;31m[Moderator->Cindy]:\u001b[0m Your word is: Melon\n"
            ]
          },
          "metadata": {},
          "output_type": "display_data"
        },
        {
          "data": {
            "text/html": [
              "<pre style=\"white-space:pre;overflow-x:auto;line-height:normal;font-family:Menlo,'DejaVu Sans Mono',consolas,'Courier New',monospace\"><span style=\"color: #800000; text-decoration-color: #800000; font-weight: bold\">[Moderator-&gt;all]:</span> Host: Now it's the describing stage, players have to say something about the received word \n",
              "without directly saying it.You cannot repeat what others has said. We will start with Nancy.\n",
              "</pre>\n"
            ],
            "text/plain": [
              "\u001b[1;31m[Moderator->all]:\u001b[0m Host: Now it's the describing stage, players have to say something about the received word \n",
              "without directly saying it.You cannot repeat what others has said. We will start with Nancy.\n"
            ]
          },
          "metadata": {},
          "output_type": "display_data"
        },
        {
          "data": {
            "text/html": [
              "<pre style=\"white-space:pre;overflow-x:auto;line-height:normal;font-family:Menlo,'DejaVu Sans Mono',consolas,'Courier New',monospace\"><span style=\"color: #d787d7; text-decoration-color: #d787d7; font-weight: bold\">[Nancy-&gt;all]:</span> ```json\n",
              "{\n",
              "  \"word\": \"Watermelon\",\n",
              "  \"arguments\": \"This delicious summer treat is a green, fruity, and juicy delight, which can be enjoyed as a \n",
              "healthy snack or a refreshing dessert!\"\n",
              "}\n",
              "```\n",
              "</pre>\n"
            ],
            "text/plain": [
              "\u001b[1;38;5;176m[Nancy->all]:\u001b[0m ```json\n",
              "{\n",
              "  \"word\": \"Watermelon\",\n",
              "  \"arguments\": \"This delicious summer treat is a green, fruity, and juicy delight, which can be enjoyed as a \n",
              "healthy snack or a refreshing dessert!\"\n",
              "}\n",
              "```\n"
            ]
          },
          "metadata": {},
          "output_type": "display_data"
        },
        {
          "data": {
            "text/html": [
              "<pre style=\"white-space:pre;overflow-x:auto;line-height:normal;font-family:Menlo,'DejaVu Sans Mono',consolas,'Courier New',monospace\"><span style=\"color: #00005f; text-decoration-color: #00005f; font-weight: bold\">[Tom-&gt;all]:</span> Host: Great, now we hear from Bob.\n",
              "</pre>\n"
            ],
            "text/plain": [
              "\u001b[1;38;5;17m[Tom->all]:\u001b[0m Host: Great, now we hear from Bob.\n"
            ]
          },
          "metadata": {},
          "output_type": "display_data"
        },
        {
          "data": {
            "text/html": [
              "<pre style=\"white-space:pre;overflow-x:auto;line-height:normal;font-family:Menlo,'DejaVu Sans Mono',consolas,'Courier New',monospace\"><span style=\"color: #afff5f; text-decoration-color: #afff5f; font-weight: bold\">[Cindy-&gt;all]:</span> ```json\n",
              "{\n",
              "  \"word\": \"Cantaloupe\",\n",
              "  \"arguments\": \"Think of a juicy orange surprise, a summer favorite that's sweet and delicious, with a hint of \n",
              "sunshine!\"\n",
              "}\n",
              "```\n",
              "</pre>\n"
            ],
            "text/plain": [
              "\u001b[1;38;5;155m[Cindy->all]:\u001b[0m ```json\n",
              "{\n",
              "  \"word\": \"Cantaloupe\",\n",
              "  \"arguments\": \"Think of a juicy orange surprise, a summer favorite that's sweet and delicious, with a hint of \n",
              "sunshine!\"\n",
              "}\n",
              "```\n"
            ]
          },
          "metadata": {},
          "output_type": "display_data"
        },
        {
          "data": {
            "text/html": [
              "<pre style=\"white-space:pre;overflow-x:auto;line-height:normal;font-family:Menlo,'DejaVu Sans Mono',consolas,'Courier New',monospace\"><span style=\"color: #262626; text-decoration-color: #262626; font-weight: bold\">[Jack-&gt;all]:</span> Oh, Cindy, you have the same word as Bob! That makes things interesting. \n",
              "\n",
              "```json\n",
              "{\n",
              "  \"word\": \"Orange\",\n",
              "  \"arguments\": \"A citrusy surprise awaits, a sweet and tangy delight with a bright color, perfect for a refreshing \n",
              "break!\"\n",
              "}\n",
              "```\n",
              "</pre>\n"
            ],
            "text/plain": [
              "\u001b[1;38;5;235m[Jack->all]:\u001b[0m Oh, Cindy, you have the same word as Bob! That makes things interesting. \n",
              "\n",
              "```json\n",
              "{\n",
              "  \"word\": \"Orange\",\n",
              "  \"arguments\": \"A citrusy surprise awaits, a sweet and tangy delight with a bright color, perfect for a refreshing \n",
              "break!\"\n",
              "}\n",
              "```\n"
            ]
          },
          "metadata": {},
          "output_type": "display_data"
        },
        {
          "data": {
            "text/html": [
              "<pre style=\"white-space:pre;overflow-x:auto;line-height:normal;font-family:Menlo,'DejaVu Sans Mono',consolas,'Courier New',monospace\"><span style=\"color: #875f00; text-decoration-color: #875f00; font-weight: bold\">[Rose-&gt;all]:</span> Host: Alright! Jack, you're the spy! Everyone else had the word \"orange\", while you had \"watermelon\". \n",
              "\n",
              "Now, the voting stage begins. Players, vote for who you think is the spy, and tell us why. \n",
              "\n",
              "Nancy, you're up first.\n",
              "</pre>\n"
            ],
            "text/plain": [
              "\u001b[1;38;5;94m[Rose->all]:\u001b[0m Host: Alright! Jack, you're the spy! Everyone else had the word \"orange\", while you had \"watermelon\". \n",
              "\n",
              "Now, the voting stage begins. Players, vote for who you think is the spy, and tell us why. \n",
              "\n",
              "Nancy, you're up first.\n"
            ]
          },
          "metadata": {},
          "output_type": "display_data"
        },
        {
          "data": {
            "text/html": [
              "<pre style=\"white-space:pre;overflow-x:auto;line-height:normal;font-family:Menlo,'DejaVu Sans Mono',consolas,'Courier New',monospace\">\n",
              "<span style=\"color: #800000; text-decoration-color: #800000; font-weight: bold\">========= Arena Ended! ==========</span>\n",
              "\n",
              "</pre>\n"
            ],
            "text/plain": [
              "\n",
              "\u001b[1;31m========= Arena Ended! ==========\u001b[0m\n",
              "\n"
            ]
          },
          "metadata": {},
          "output_type": "display_data"
        }
      ],
      "source": [
        "from chatarena.arena import Arena\n",
        "from chatarena.environments.spyfall import SpyFall\n",
        "\n",
        "players = [\"Nancy\", \"Tom\", \"Cindy\", \"Jack\", \"Rose\", \"Edward\"]\n",
        "\n",
        "env = SpyFall(player_names=players)\n",
        "arena = Arena([player_0, player_1, player_2, player_3, player_4, player_5], env)\n",
        "arena.launch_cli(interactive=False)\n",
        "\n",
        "arena.save_history(\"test1.json\")"
      ]
    },
    {
      "cell_type": "code",
      "execution_count": 5,
      "metadata": {},
      "outputs": [],
      "source": []
    }
  ],
  "metadata": {
    "colab": {
      "provenance": []
    },
    "kernelspec": {
      "display_name": "Python 3",
      "name": "python3"
    },
    "language_info": {
      "codemirror_mode": {
        "name": "ipython",
        "version": 3
      },
      "file_extension": ".py",
      "mimetype": "text/x-python",
      "name": "python",
      "nbconvert_exporter": "python",
      "pygments_lexer": "ipython3",
      "version": "3.9.18"
    }
  },
  "nbformat": 4,
  "nbformat_minor": 0
}
