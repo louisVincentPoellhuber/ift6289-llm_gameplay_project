{
  "cells": [
    {
      "cell_type": "markdown",
      "metadata": {
        "id": "TcRG6hfaZdXy"
      },
      "source": [
        "# Setup API keys\n",
        "Since we're going to use openAI chat backends in this tutorial, we only need to setup the enviornment variable OPENAI_API_KEY.\n",
        "If you don't have an openAI API account. You can register one create your own key at `platform.openai.com`."
      ]
    },
    {
      "cell_type": "code",
      "execution_count": 1,
      "metadata": {
        "id": "8oAyns3pZCcY"
      },
      "outputs": [],
      "source": [
        "import os\n",
        "os.environ[\"OPENAI_API_KEY\"] = \"teehee\""
      ]
    },
    {
      "cell_type": "markdown",
      "metadata": {
        "id": "-0n5kylCbKRa"
      },
      "source": [
        "# Design\n",
        "Before start writing the code, let's first design the game.\n",
        "This is going to be a Bargaining game with two players: one buyer and one seller.\n",
        "They're going to negotiate a price of a item in limited turns.\n",
        "In each step of the game, one of the bargainers will propose a price and optionally provide arguments about the price.\n",
        "If the two proposed price argreed, the negotiation will be successful and the game is over.\n",
        "\n",
        "Buyer has a upper limit $p_{\\text{max}}$ about the price in her mind which is invisible to the seller. The buyer will get a reward of $p_{\\text{max}}-p$ if the negotiation is sucessful at price $p$. Otherwise she will get $0$ reward. So the buyer should always avoid the price to be higher than $p_{\\text{max}}$ otherwise she will get negative reward.\n",
        "\n",
        "Similarly, the seller has a lower bound $p_{\\text{min}}$ and the reward will be $p-p_{\\min}$ if the negotiation converged."
      ]
    },
    {
      "cell_type": "markdown",
      "metadata": {
        "id": "7bE9EtyyfdR0"
      },
      "source": [
        "# Setup Players\n",
        "One can start building a new Arena either from Environment or Players.\n",
        "In this tutorial, we'll first build players.\n",
        "## Role Description\n",
        "In the role description of the Player, we will provide the information about the game dyanmics, reward structure, and some hints about the optimal policy (namely, instruction).\n",
        "\n",
        "In order to make the parsing of the proposed price easier, we also ask the agent to format the output in a json by providing a json schema.\n",
        "\n",
        "## Backends\n",
        "We'll use latest 0613 version of chatGPT API. To reduce the cost, we used gpt-3.5 version of it, but GPT-4 is always more powerful.\n",
        "`max-tokens` specifics the maximum length of the outputs, 512 should be enough in this game."
      ]
    },
    {
      "cell_type": "code",
      "execution_count": 2,
      "metadata": {},
      "outputs": [],
      "source": [
        "import openai\n",
        "client = openai.OpenAI(api_key=os.environ.get(\"OPENAI_API_KEY\"))"
      ]
    },
    {
      "cell_type": "code",
      "execution_count": 3,
      "metadata": {
        "id": "P5DCC0Y0Zbxi"
      },
      "outputs": [
        {
          "name": "stdout",
          "output_type": "stream",
          "text": [
            "attempting to import openai\n"
          ]
        }
      ],
      "source": [
        "from chatarena.agent import Player\n",
        "from chatarena.backends import OpenAIChat\n",
        "\n",
        "buyer_role_description = \"\"\"\n",
        "You are a buyer of a Bargaining game.\n",
        "In the game, you and seller are going to negotiate a price of a item within limited turns.\n",
        "In each step of the game, one of the bargainers will propose a price and optionally provide arguments about the price.\n",
        "The the two proposed price argreed, the negotiation will be successful and the game is over.\n",
        "\n",
        "You have a upper limit about the price in her mind which is invisible to the seller. You will get a reward of upper_limit_price-agreement_price the negotiation is sucessful at price $p$.\n",
        "Otherwise you will get 0 reward.\n",
        "\n",
        "So the you should always\n",
        "1. push the price down to get higher reward.\n",
        "2. avoid the price to be higher than upper_limit_price otherwise you'll get a negative reward.\n",
        "\"\"\"\n",
        "\n",
        "format_specification = \"\"\"\n",
        "Your output should be format in a json with the following schema:\n",
        "```\n",
        "{\n",
        "  \"$schema\": \"http://json-schema.org/draft-07/schema#\",\n",
        "  \"type\": \"object\",\n",
        "  \"properties\": {\n",
        "    \"price\": {\n",
        "      \"description\": \"your proposed price\",\n",
        "      \"type\": \"number\"\n",
        "    },\n",
        "    \"arguments\": {\n",
        "      \"description\": \"what you are going to say to your opponent\",\n",
        "      \"type\": \"string\"\n",
        "    }\n",
        "  },\n",
        "  \"required\": [\"price\", \"arguments\"]\n",
        "}\n",
        "```\n",
        "\n",
        "For example:\n",
        "```\n",
        "{\\n  \"price\": 50,\\n  \"arguments\": \"I believe a price of $50 is fair for both parties. It takes into account the quality of the item and the current market value.\" \\n}\n",
        "\n",
        "```\n",
        "\"\"\"\n",
        "\n",
        "\n",
        "buyer = Player(name=\"buyer\",\n",
        "               role_desc=buyer_role_description+format_specification,\n",
        "               backend=OpenAIChat(model=\"gpt-3.5-turbo-0613\"))"
      ]
    },
    {
      "cell_type": "markdown",
      "metadata": {
        "id": "g1A05LLesdsd"
      },
      "source": [
        "Now let's test the buyer with a mock message."
      ]
    },
    {
      "cell_type": "code",
      "execution_count": 4,
      "metadata": {
        "colab": {
          "base_uri": "https://localhost:8080/",
          "height": 55
        },
        "id": "D12PyIsYrlV4",
        "outputId": "d7a33dbc-1908-4248-846a-bf80f77149f6"
      },
      "outputs": [
        {
          "data": {
            "text/plain": [
              "'{\\n  \"price\": 100,\\n  \"arguments\": \"I propose a price of $100 for the item. This price takes into consideration the quality of the item and its market value. Additionally, it allows for a fair profit margin for the seller.'"
            ]
          },
          "execution_count": 4,
          "metadata": {},
          "output_type": "execute_result"
        }
      ],
      "source": [
        "from chatarena.message import Message\n",
        "import openai\n",
        "\n",
        "mock_message = Message(\n",
        "    agent_name=\"Moderator\",\n",
        "    content=\"Buyer, now propose your deal\",\n",
        "    turn=1\n",
        ")\n",
        "\n",
        "buyer.act([mock_message])"
      ]
    },
    {
      "cell_type": "markdown",
      "metadata": {
        "id": "A8Py8AutmrED"
      },
      "source": [
        "That looks good! Similarly, we can build the seller:"
      ]
    },
    {
      "cell_type": "code",
      "execution_count": 5,
      "metadata": {
        "id": "5hqrPt3fk1OM"
      },
      "outputs": [],
      "source": [
        "seller_role_description = \"\"\"\n",
        "You are a seller of a Bargaining game.\n",
        "In the game, you and buyer are going to negotiate a price of a item within limited turns.\n",
        "In each step of the game, one of the bargainers will propose a price and optionally provide arguments about the price.\n",
        "The the two proposed price argreed, the negotiation will be successful and the game is over.\n",
        "\n",
        "You have a lower limit about the price in her mind which is invisible to the buyer. You will get a reward of agreement_price-lower_limit_price the negotiation is sucessful.\n",
        "Otherwise you will get 0 reward.\n",
        "\n",
        "So the you should always\n",
        "1. push the price up to get higher rewards\n",
        "2. avoid the price to be lower than lower_limit_price otherwise you'll get a negative reward.\n",
        "\"\"\"\n",
        "seller = Player(name=\"seller\",\n",
        "                role_desc=seller_role_description+format_specification,\n",
        "                backend=OpenAIChat(model=\"gpt-3.5-turbo-0613\"))"
      ]
    },
    {
      "cell_type": "markdown",
      "metadata": {
        "id": "muthP42ZszfV"
      },
      "source": [
        "# Building the Enviornment\n",
        "With players ready, let's build the enviornment now.\n",
        "In general, the interface design of ChatArena enviornment follows the gym/pettingzoo abstraction.\n",
        "Like gym envionrment, you need to implement `reset` and `step` methods.\n",
        "`reset` is called when an episode is over or early terminated which reinitialize the whole game.\n",
        "`step` drives the dynamics of the game, which takes the action of a single agent as input do the transitions and return the observation, reward and terminal signal.\n",
        "\n",
        "Besides basic gym interface, you also have to implement `get_observation` and `get_next_speaker` for a chatArena enviornment.\n",
        "\n",
        "For this game in particular:\n",
        "\n"
      ]
    },
    {
      "cell_type": "code",
      "execution_count": 6,
      "metadata": {
        "id": "1OCtfspYtql5"
      },
      "outputs": [],
      "source": [
        "from chatarena.environments.base import TimeStep, Environment\n",
        "from chatarena.message import Message, MessagePool\n",
        "from chatarena.utils import extract_jsons\n",
        "from typing import List, Union\n",
        "import random\n",
        "\n",
        "class Bargaining(Environment):\n",
        "    type_name = \"bargaining\"\n",
        "\n",
        "    def __init__(self, item_name:str, upper_limit:float, lower_limit:float, max_turn:int, unit:str=\"$\"):\n",
        "        super().__init__(player_names=[\"buyer\", \"seller\"])\n",
        "        self.item_name = item_name\n",
        "        self.upper_limit = upper_limit\n",
        "        self.lower_limit = lower_limit\n",
        "        self.max_turn = max_turn\n",
        "        self.unit = unit\n",
        "        self.turn = 0\n",
        "        self.message_pool = MessagePool()\n",
        "        self._terminal = False\n",
        "        self.buyer_proposed_price = None\n",
        "        self.seller_proposed_price = None\n",
        "        self.agreement_price = None\n",
        "        self.reset()\n",
        "\n",
        "    def _moderator_speak(self, text: str, visible_to: Union[str, List[str]] = \"all\"):\n",
        "        \"\"\"\n",
        "        moderator say something\n",
        "        \"\"\"\n",
        "        message = Message(agent_name=\"Moderator\", content=text, turn=self.turn, visible_to=visible_to)\n",
        "        self.message_pool.append_message(message)\n",
        "\n",
        "    def reset(self):\n",
        "        self.turn = 0\n",
        "        self.message_pool.reset()\n",
        "        self._terminal = False\n",
        "        self.buyer_proposed_price = None\n",
        "        self.seller_proposed_price = None\n",
        "        self.agreement_price = None\n",
        "        # Moderator declares the item, lower limit and upper limit\n",
        "        self._moderator_speak(f\"Bargainers, the item to be traded is {self.item_name}\")\n",
        "        self._moderator_speak(f\"Buyer, your price upper limit is {self.unit}{self.upper_limit}\", visible_to=\"buyer\")\n",
        "        self._moderator_speak(f\"Seller, your price lower limit is {self.unit}{self.lower_limit}\", visible_to=\"seller\")\n",
        "        observation = self.get_observation(self.get_next_player())\n",
        "        return TimeStep(observation=observation, reward=self._get_zero_rewards(), terminal=False)\n",
        "\n",
        "    def get_observation(self, player_name=None) -> List[Message]:\n",
        "        if player_name is None:\n",
        "            return self.message_pool.get_all_messages()\n",
        "        else:\n",
        "            return self.message_pool.get_visible_messages(player_name, turn=self.turn + 1)\n",
        "\n",
        "    def get_next_player(self) -> str:\n",
        "        return \"buyer\" if self.turn % 2 == 0 else \"seller\"\n",
        "\n",
        "    def step(self, player_name: str, action: str) -> TimeStep:\n",
        "        assert player_name == self.get_next_player(), f\"Wrong player! It is {self.get_next_player()}'s turn.\"\n",
        "        json_list = extract_jsons(action)\n",
        "        if len(json_list) != 1:\n",
        "            raise ValueError(f\"Player output {action} is not a valid json.\")\n",
        "\n",
        "        proposed_price = json_list[0].get(\"price\", None)\n",
        "        arguments = json_list[0].get(\"arguments\", None)\n",
        "        message = Message(agent_name=player_name, content=arguments, turn=self.turn, visible_to=\"all\")\n",
        "        self.message_pool.append_message(message)\n",
        "\n",
        "        # Update price\n",
        "        if player_name == \"buyer\":\n",
        "           self.buyer_proposed_price = proposed_price\n",
        "        else:\n",
        "           self.seller_proposed_price = proposed_price\n",
        "\n",
        "        self.turn += 1\n",
        "        self._moderator_speak(f\"This is Turn {self.turn}. There's {self.max_turn-self.turn} left.\")\n",
        "\n",
        "        # Check agreement\n",
        "        if self.buyer_proposed_price is not None and self.seller_proposed_price is not None and \\\n",
        "          self.buyer_proposed_price >= self.seller_proposed_price:\n",
        "            self.agreement_price = (self.seller_proposed_price+self.buyer_proposed_price)/2\n",
        "\n",
        "        if self.turn >= self.max_turn:\n",
        "            self._terminal = True\n",
        "            self._moderator_speak(\"The negotiation ended without an agreement.\")\n",
        "        elif self.agreement_price is not None:\n",
        "            self._terminal = True\n",
        "            self._moderator_speak(f\"The negotiation ended with a price of {self.unit}{self.agreement_price} for {self.item_name}.\")\n",
        "\n",
        "        observation = self.get_observation(self.get_next_player())\n",
        "        reward = self._get_rewards()\n",
        "        return TimeStep(observation=observation, reward=reward, terminal=self._terminal)\n",
        "\n",
        "    def _get_rewards(self):\n",
        "        if self._terminal:\n",
        "            if self.agreement_price is None: # No agreement\n",
        "                return {\"buyer\": 0, \"seller\": 0}\n",
        "            else: # Agreement\n",
        "                return {\"buyer\": self.upper_limit - self.agreement_price, \"seller\": self.agreement_price - self.lower_limit}\n",
        "        else: # Game is not over yet\n",
        "            return {\"buyer\": 0, \"seller\": 0}\n",
        "\n",
        "    def _get_zero_rewards(self):\n",
        "        return {\"buyer\": 0, \"seller\": 0}"
      ]
    },
    {
      "cell_type": "code",
      "execution_count": 8,
      "metadata": {
        "colab": {
          "base_uri": "https://localhost:8080/",
          "height": 1000
        },
        "id": "1r14qpRvwRcs",
        "outputId": "8c68d4bc-d6f7-4fe1-a7f2-133889b4f557"
      },
      "outputs": [
        {
          "data": {
            "text/html": [
              "<pre style=\"white-space:pre;overflow-x:auto;line-height:normal;font-family:Menlo,'DejaVu Sans Mono',consolas,'Courier New',monospace\">\n",
              "<span style=\"color: #d75f00; text-decoration-color: #d75f00; font-weight: bold\">_________  .__               __      _____</span>\n",
              "<span style=\"color: #d75f00; text-decoration-color: #d75f00; font-weight: bold\">\\_   ___ \\ |  |__  _____   _/  |_   </span><span style=\"color: #800080; text-decoration-color: #800080; font-weight: bold\">/</span><span style=\"color: #d75f00; text-decoration-color: #d75f00; font-weight: bold\">  _  \\  _______   ____    ____  _____</span>\n",
              "<span style=\"color: #800080; text-decoration-color: #800080; font-weight: bold\">/</span><span style=\"color: #d75f00; text-decoration-color: #d75f00; font-weight: bold\">    \\  \\</span><span style=\"color: #800080; text-decoration-color: #800080; font-weight: bold\">/</span><span style=\"color: #d75f00; text-decoration-color: #d75f00; font-weight: bold\"> |  |  \\ \\__  \\  \\   __\\ </span><span style=\"color: #800080; text-decoration-color: #800080; font-weight: bold\">/</span><span style=\"color: #d75f00; text-decoration-color: #d75f00; font-weight: bold\">  </span><span style=\"color: #800080; text-decoration-color: #800080; font-weight: bold\">/</span><span style=\"color: #ff00ff; text-decoration-color: #ff00ff; font-weight: bold\">_</span><span style=\"color: #d75f00; text-decoration-color: #d75f00; font-weight: bold\">\\  \\ \\_  __ \\W/ __ \\  </span><span style=\"color: #800080; text-decoration-color: #800080; font-weight: bold\">/</span><span style=\"color: #d75f00; text-decoration-color: #d75f00; font-weight: bold\">    \\ \\__  \\</span>\n",
              "<span style=\"color: #d75f00; text-decoration-color: #d75f00; font-weight: bold\">\\     \\____|   Y  \\ </span><span style=\"color: #800080; text-decoration-color: #800080; font-weight: bold\">/</span><span style=\"color: #d75f00; text-decoration-color: #d75f00; font-weight: bold\"> __ \\_ |  |  </span><span style=\"color: #800080; text-decoration-color: #800080; font-weight: bold\">/</span><span style=\"color: #d75f00; text-decoration-color: #d75f00; font-weight: bold\">    |    \\ |  | \\</span><span style=\"color: #800080; text-decoration-color: #800080; font-weight: bold\">/</span><span style=\"color: #d75f00; text-decoration-color: #d75f00; font-weight: bold\">\\  ___/ |   |  \\ </span><span style=\"color: #800080; text-decoration-color: #800080; font-weight: bold\">/</span><span style=\"color: #d75f00; text-decoration-color: #d75f00; font-weight: bold\"> __ \\_</span>\n",
              "<span style=\"color: #d75f00; text-decoration-color: #d75f00; font-weight: bold\"> \\______  </span><span style=\"color: #800080; text-decoration-color: #800080; font-weight: bold\">/</span><span style=\"color: #d75f00; text-decoration-color: #d75f00; font-weight: bold\">|___|  </span><span style=\"color: #800080; text-decoration-color: #800080; font-weight: bold\">/</span><span style=\"color: #d75f00; text-decoration-color: #d75f00; font-weight: bold\">(____  </span><span style=\"color: #800080; text-decoration-color: #800080; font-weight: bold\">/</span><span style=\"color: #d75f00; text-decoration-color: #d75f00; font-weight: bold\"> |__|  \\____|__  </span><span style=\"color: #800080; text-decoration-color: #800080; font-weight: bold\">/</span><span style=\"color: #d75f00; text-decoration-color: #d75f00; font-weight: bold\"> |__|    \\___  &gt;|___|  </span><span style=\"color: #800080; text-decoration-color: #800080; font-weight: bold\">/</span><span style=\"color: #d75f00; text-decoration-color: #d75f00; font-weight: bold\">(____  </span><span style=\"color: #800080; text-decoration-color: #800080; font-weight: bold\">/</span>\n",
              "<span style=\"color: #d75f00; text-decoration-color: #d75f00; font-weight: bold\">        \\</span><span style=\"color: #800080; text-decoration-color: #800080; font-weight: bold\">/</span><span style=\"color: #d75f00; text-decoration-color: #d75f00; font-weight: bold\">      \\</span><span style=\"color: #800080; text-decoration-color: #800080; font-weight: bold\">/</span><span style=\"color: #d75f00; text-decoration-color: #d75f00; font-weight: bold\">      \\</span><span style=\"color: #800080; text-decoration-color: #800080; font-weight: bold\">/</span><span style=\"color: #d75f00; text-decoration-color: #d75f00; font-weight: bold\">                \\</span><span style=\"color: #800080; text-decoration-color: #800080; font-weight: bold\">/</span><span style=\"color: #d75f00; text-decoration-color: #d75f00; font-weight: bold\">              \\</span><span style=\"color: #800080; text-decoration-color: #800080; font-weight: bold\">/</span><span style=\"color: #d75f00; text-decoration-color: #d75f00; font-weight: bold\">      \\</span><span style=\"color: #800080; text-decoration-color: #800080; font-weight: bold\">/</span><span style=\"color: #d75f00; text-decoration-color: #d75f00; font-weight: bold\">      \\</span><span style=\"color: #800080; text-decoration-color: #800080; font-weight: bold\">/</span>\n",
              "\n",
              "</pre>\n"
            ],
            "text/plain": [
              "\n",
              "\u001b[1;38;5;166m_________  .__               __      _____\u001b[0m\n",
              "\u001b[1;38;5;166m\\_   ___ \\ |  |__  _____   _/  |_   \u001b[0m\u001b[1;35m/\u001b[0m\u001b[1;38;5;166m  _  \\  _______   ____    ____  _____\u001b[0m\n",
              "\u001b[1;35m/\u001b[0m\u001b[1;38;5;166m    \\  \\\u001b[0m\u001b[1;35m/\u001b[0m\u001b[1;38;5;166m |  |  \\ \\__  \\  \\   __\\ \u001b[0m\u001b[1;35m/\u001b[0m\u001b[1;38;5;166m  \u001b[0m\u001b[1;35m/\u001b[0m\u001b[1;95m_\u001b[0m\u001b[1;38;5;166m\\  \\ \\_  __ \\W/ __ \\  \u001b[0m\u001b[1;35m/\u001b[0m\u001b[1;38;5;166m    \\ \\__  \\\u001b[0m\n",
              "\u001b[1;38;5;166m\\     \\____|   Y  \\ \u001b[0m\u001b[1;35m/\u001b[0m\u001b[1;38;5;166m __ \\_ |  |  \u001b[0m\u001b[1;35m/\u001b[0m\u001b[1;38;5;166m    |    \\ |  | \\\u001b[0m\u001b[1;35m/\u001b[0m\u001b[1;38;5;166m\\  ___/ |   |  \\ \u001b[0m\u001b[1;35m/\u001b[0m\u001b[1;38;5;166m __ \\_\u001b[0m\n",
              "\u001b[1;38;5;166m \\______  \u001b[0m\u001b[1;35m/\u001b[0m\u001b[1;38;5;166m|___|  \u001b[0m\u001b[1;35m/\u001b[0m\u001b[1;38;5;166m(\u001b[0m\u001b[1;38;5;166m____  \u001b[0m\u001b[1;35m/\u001b[0m\u001b[1;38;5;166m |__|  \\____|__  \u001b[0m\u001b[1;35m/\u001b[0m\u001b[1;38;5;166m |__|    \\___  >|___|  \u001b[0m\u001b[1;35m/\u001b[0m\u001b[1;38;5;166m(\u001b[0m\u001b[1;38;5;166m____  \u001b[0m\u001b[1;35m/\u001b[0m\n",
              "\u001b[1;38;5;166m        \\\u001b[0m\u001b[1;35m/\u001b[0m\u001b[1;38;5;166m      \\\u001b[0m\u001b[1;35m/\u001b[0m\u001b[1;38;5;166m      \\\u001b[0m\u001b[1;35m/\u001b[0m\u001b[1;38;5;166m                \\\u001b[0m\u001b[1;35m/\u001b[0m\u001b[1;38;5;166m              \\\u001b[0m\u001b[1;35m/\u001b[0m\u001b[1;38;5;166m      \\\u001b[0m\u001b[1;35m/\u001b[0m\u001b[1;38;5;166m      \\\u001b[0m\u001b[1;35m/\u001b[0m\n",
              "\n"
            ]
          },
          "metadata": {},
          "output_type": "display_data"
        },
        {
          "data": {
            "text/html": [
              "<pre style=\"white-space:pre;overflow-x:auto;line-height:normal;font-family:Menlo,'DejaVu Sans Mono',consolas,'Courier New',monospace\"><span style=\"color: #008000; text-decoration-color: #008000; font-weight: bold\">🏟 Chat Arena Initialized!</span>\n",
              "</pre>\n"
            ],
            "text/plain": [
              "\u001b[1;32m🏟 Chat Arena Initialized!\u001b[0m\n"
            ]
          },
          "metadata": {},
          "output_type": "display_data"
        },
        {
          "data": {
            "text/html": [
              "<pre style=\"white-space:pre;overflow-x:auto;line-height:normal;font-family:Menlo,'DejaVu Sans Mono',consolas,'Courier New',monospace\"><span style=\"color: #008000; text-decoration-color: #008000; font-weight: bold; text-decoration: underline\">Environment (bargaining) description:</span>\n",
              "<span style=\"color: #800080; text-decoration-color: #800080; font-style: italic\">None</span>\n",
              "</pre>\n"
            ],
            "text/plain": [
              "\u001b[1;4;32mEnvironment \u001b[0m\u001b[1;4;32m(\u001b[0m\u001b[1;4;32mbargaining\u001b[0m\u001b[1;4;32m)\u001b[0m\u001b[1;4;32m description:\u001b[0m\n",
              "\u001b[3;35mNone\u001b[0m\n"
            ]
          },
          "metadata": {},
          "output_type": "display_data"
        },
        {
          "data": {
            "text/html": [
              "<pre style=\"white-space:pre;overflow-x:auto;line-height:normal;font-family:Menlo,'DejaVu Sans Mono',consolas,'Courier New',monospace\"><span style=\"color: #87d787; text-decoration-color: #87d787; font-weight: bold; text-decoration: underline\">[buyer (openai-chat)] Role Description:</span>\n",
              "</pre>\n"
            ],
            "text/plain": [
              "\u001b[1;4;38;5;114m[buyer (openai-chat)] Role Description:\u001b[0m\n"
            ]
          },
          "metadata": {},
          "output_type": "display_data"
        },
        {
          "data": {
            "text/html": [
              "<pre style=\"white-space:pre;overflow-x:auto;line-height:normal;font-family:Menlo,'DejaVu Sans Mono',consolas,'Courier New',monospace\">\n",
              "You are a buyer of a Bargaining game.\n",
              "In the game, you and seller are going to negotiate a price of a item within limited turns.\n",
              "In each step of the game, one of the bargainers will propose a price and optionally provide arguments about the \n",
              "price.\n",
              "The the two proposed price argreed, the negotiation will be successful and the game is over.\n",
              "\n",
              "You have a upper limit about the price in her mind which is invisible to the seller. You will get a reward of \n",
              "upper_limit_price-agreement_price the negotiation is sucessful at price $p$.\n",
              "Otherwise you will get <span style=\"color: #008080; text-decoration-color: #008080; font-weight: bold\">0</span> reward.\n",
              "\n",
              "So the you should always\n",
              "<span style=\"color: #008080; text-decoration-color: #008080; font-weight: bold\">1</span>. push the price down to get higher reward.\n",
              "<span style=\"color: #008080; text-decoration-color: #008080; font-weight: bold\">2</span>. avoid the price to be higher than upper_limit_price otherwise you'll get a negative reward.\n",
              "\n",
              "Your output should be format in a json with the following schema:\n",
              "```\n",
              "<span style=\"font-weight: bold\">{</span>\n",
              "  <span style=\"color: #008000; text-decoration-color: #008000\">\"$schema\"</span>: <span style=\"color: #008000; text-decoration-color: #008000\">\"http://json-schema.org/draft-07/schema#\"</span>,\n",
              "  <span style=\"color: #008000; text-decoration-color: #008000\">\"type\"</span>: <span style=\"color: #008000; text-decoration-color: #008000\">\"object\"</span>,\n",
              "  <span style=\"color: #008000; text-decoration-color: #008000\">\"properties\"</span>: <span style=\"font-weight: bold\">{</span>\n",
              "    <span style=\"color: #008000; text-decoration-color: #008000\">\"price\"</span>: <span style=\"font-weight: bold\">{</span>\n",
              "      <span style=\"color: #008000; text-decoration-color: #008000\">\"description\"</span>: <span style=\"color: #008000; text-decoration-color: #008000\">\"your proposed price\"</span>,\n",
              "      <span style=\"color: #008000; text-decoration-color: #008000\">\"type\"</span>: <span style=\"color: #008000; text-decoration-color: #008000\">\"number\"</span>\n",
              "    <span style=\"font-weight: bold\">}</span>,\n",
              "    <span style=\"color: #008000; text-decoration-color: #008000\">\"arguments\"</span>: <span style=\"font-weight: bold\">{</span>\n",
              "      <span style=\"color: #008000; text-decoration-color: #008000\">\"description\"</span>: <span style=\"color: #008000; text-decoration-color: #008000\">\"what you are going to say to your opponent\"</span>,\n",
              "      <span style=\"color: #008000; text-decoration-color: #008000\">\"type\"</span>: <span style=\"color: #008000; text-decoration-color: #008000\">\"string\"</span>\n",
              "    <span style=\"font-weight: bold\">}</span>\n",
              "  <span style=\"font-weight: bold\">}</span>,\n",
              "  <span style=\"color: #008000; text-decoration-color: #008000\">\"required\"</span>: <span style=\"font-weight: bold\">[</span><span style=\"color: #008000; text-decoration-color: #008000\">\"price\"</span>, <span style=\"color: #008000; text-decoration-color: #008000\">\"arguments\"</span><span style=\"font-weight: bold\">]</span>\n",
              "<span style=\"font-weight: bold\">}</span>\n",
              "```\n",
              "\n",
              "For example:\n",
              "```\n",
              "<span style=\"font-weight: bold\">{</span>\n",
              "  <span style=\"color: #008000; text-decoration-color: #008000\">\"price\"</span>: <span style=\"color: #008080; text-decoration-color: #008080; font-weight: bold\">50</span>,\n",
              "  <span style=\"color: #008000; text-decoration-color: #008000\">\"arguments\"</span>: <span style=\"color: #008000; text-decoration-color: #008000\">\"I believe a price of $50 is fair for both parties. It takes into account the quality of the item </span>\n",
              "<span style=\"color: #008000; text-decoration-color: #008000\">and the current market value.\"</span> \n",
              "<span style=\"font-weight: bold\">}</span>\n",
              "\n",
              "```\n",
              "\n",
              "</pre>\n"
            ],
            "text/plain": [
              "\n",
              "You are a buyer of a Bargaining game.\n",
              "In the game, you and seller are going to negotiate a price of a item within limited turns.\n",
              "In each step of the game, one of the bargainers will propose a price and optionally provide arguments about the \n",
              "price.\n",
              "The the two proposed price argreed, the negotiation will be successful and the game is over.\n",
              "\n",
              "You have a upper limit about the price in her mind which is invisible to the seller. You will get a reward of \n",
              "upper_limit_price-agreement_price the negotiation is sucessful at price $p$.\n",
              "Otherwise you will get \u001b[1;36m0\u001b[0m reward.\n",
              "\n",
              "So the you should always\n",
              "\u001b[1;36m1\u001b[0m. push the price down to get higher reward.\n",
              "\u001b[1;36m2\u001b[0m. avoid the price to be higher than upper_limit_price otherwise you'll get a negative reward.\n",
              "\n",
              "Your output should be format in a json with the following schema:\n",
              "```\n",
              "\u001b[1m{\u001b[0m\n",
              "  \u001b[32m\"$schema\"\u001b[0m: \u001b[32m\"http://json-schema.org/draft-07/schema#\"\u001b[0m,\n",
              "  \u001b[32m\"type\"\u001b[0m: \u001b[32m\"object\"\u001b[0m,\n",
              "  \u001b[32m\"properties\"\u001b[0m: \u001b[1m{\u001b[0m\n",
              "    \u001b[32m\"price\"\u001b[0m: \u001b[1m{\u001b[0m\n",
              "      \u001b[32m\"description\"\u001b[0m: \u001b[32m\"your proposed price\"\u001b[0m,\n",
              "      \u001b[32m\"type\"\u001b[0m: \u001b[32m\"number\"\u001b[0m\n",
              "    \u001b[1m}\u001b[0m,\n",
              "    \u001b[32m\"arguments\"\u001b[0m: \u001b[1m{\u001b[0m\n",
              "      \u001b[32m\"description\"\u001b[0m: \u001b[32m\"what you are going to say to your opponent\"\u001b[0m,\n",
              "      \u001b[32m\"type\"\u001b[0m: \u001b[32m\"string\"\u001b[0m\n",
              "    \u001b[1m}\u001b[0m\n",
              "  \u001b[1m}\u001b[0m,\n",
              "  \u001b[32m\"required\"\u001b[0m: \u001b[1m[\u001b[0m\u001b[32m\"price\"\u001b[0m, \u001b[32m\"arguments\"\u001b[0m\u001b[1m]\u001b[0m\n",
              "\u001b[1m}\u001b[0m\n",
              "```\n",
              "\n",
              "For example:\n",
              "```\n",
              "\u001b[1m{\u001b[0m\n",
              "  \u001b[32m\"price\"\u001b[0m: \u001b[1;36m50\u001b[0m,\n",
              "  \u001b[32m\"arguments\"\u001b[0m: \u001b[32m\"I believe a price of $50 is fair for both parties. It takes into account the quality of the item \u001b[0m\n",
              "\u001b[32mand the current market value.\"\u001b[0m \n",
              "\u001b[1m}\u001b[0m\n",
              "\n",
              "```\n",
              "\n"
            ]
          },
          "metadata": {},
          "output_type": "display_data"
        },
        {
          "data": {
            "text/html": [
              "<pre style=\"white-space:pre;overflow-x:auto;line-height:normal;font-family:Menlo,'DejaVu Sans Mono',consolas,'Courier New',monospace\"><span style=\"color: #d75fd7; text-decoration-color: #d75fd7; font-weight: bold; text-decoration: underline\">[seller (openai-chat)] Role Description:</span>\n",
              "</pre>\n"
            ],
            "text/plain": [
              "\u001b[1;4;38;5;170m[seller (openai-chat)] Role Description:\u001b[0m\n"
            ]
          },
          "metadata": {},
          "output_type": "display_data"
        },
        {
          "data": {
            "text/html": [
              "<pre style=\"white-space:pre;overflow-x:auto;line-height:normal;font-family:Menlo,'DejaVu Sans Mono',consolas,'Courier New',monospace\">\n",
              "You are a seller of a Bargaining game.\n",
              "In the game, you and buyer are going to negotiate a price of a item within limited turns.\n",
              "In each step of the game, one of the bargainers will propose a price and optionally provide arguments about the \n",
              "price.\n",
              "The the two proposed price argreed, the negotiation will be successful and the game is over.\n",
              "\n",
              "You have a lower limit about the price in her mind which is invisible to the buyer. You will get a reward of \n",
              "agreement_price-lower_limit_price the negotiation is sucessful.\n",
              "Otherwise you will get <span style=\"color: #008080; text-decoration-color: #008080; font-weight: bold\">0</span> reward.\n",
              "\n",
              "So the you should always\n",
              "<span style=\"color: #008080; text-decoration-color: #008080; font-weight: bold\">1</span>. push the price up to get higher rewards\n",
              "<span style=\"color: #008080; text-decoration-color: #008080; font-weight: bold\">2</span>. avoid the price to be lower than lower_limit_price otherwise you'll get a negative reward.\n",
              "\n",
              "Your output should be format in a json with the following schema:\n",
              "```\n",
              "<span style=\"font-weight: bold\">{</span>\n",
              "  <span style=\"color: #008000; text-decoration-color: #008000\">\"$schema\"</span>: <span style=\"color: #008000; text-decoration-color: #008000\">\"http://json-schema.org/draft-07/schema#\"</span>,\n",
              "  <span style=\"color: #008000; text-decoration-color: #008000\">\"type\"</span>: <span style=\"color: #008000; text-decoration-color: #008000\">\"object\"</span>,\n",
              "  <span style=\"color: #008000; text-decoration-color: #008000\">\"properties\"</span>: <span style=\"font-weight: bold\">{</span>\n",
              "    <span style=\"color: #008000; text-decoration-color: #008000\">\"price\"</span>: <span style=\"font-weight: bold\">{</span>\n",
              "      <span style=\"color: #008000; text-decoration-color: #008000\">\"description\"</span>: <span style=\"color: #008000; text-decoration-color: #008000\">\"your proposed price\"</span>,\n",
              "      <span style=\"color: #008000; text-decoration-color: #008000\">\"type\"</span>: <span style=\"color: #008000; text-decoration-color: #008000\">\"number\"</span>\n",
              "    <span style=\"font-weight: bold\">}</span>,\n",
              "    <span style=\"color: #008000; text-decoration-color: #008000\">\"arguments\"</span>: <span style=\"font-weight: bold\">{</span>\n",
              "      <span style=\"color: #008000; text-decoration-color: #008000\">\"description\"</span>: <span style=\"color: #008000; text-decoration-color: #008000\">\"what you are going to say to your opponent\"</span>,\n",
              "      <span style=\"color: #008000; text-decoration-color: #008000\">\"type\"</span>: <span style=\"color: #008000; text-decoration-color: #008000\">\"string\"</span>\n",
              "    <span style=\"font-weight: bold\">}</span>\n",
              "  <span style=\"font-weight: bold\">}</span>,\n",
              "  <span style=\"color: #008000; text-decoration-color: #008000\">\"required\"</span>: <span style=\"font-weight: bold\">[</span><span style=\"color: #008000; text-decoration-color: #008000\">\"price\"</span>, <span style=\"color: #008000; text-decoration-color: #008000\">\"arguments\"</span><span style=\"font-weight: bold\">]</span>\n",
              "<span style=\"font-weight: bold\">}</span>\n",
              "```\n",
              "\n",
              "For example:\n",
              "```\n",
              "<span style=\"font-weight: bold\">{</span>\n",
              "  <span style=\"color: #008000; text-decoration-color: #008000\">\"price\"</span>: <span style=\"color: #008080; text-decoration-color: #008080; font-weight: bold\">50</span>,\n",
              "  <span style=\"color: #008000; text-decoration-color: #008000\">\"arguments\"</span>: <span style=\"color: #008000; text-decoration-color: #008000\">\"I believe a price of $50 is fair for both parties. It takes into account the quality of the item </span>\n",
              "<span style=\"color: #008000; text-decoration-color: #008000\">and the current market value.\"</span> \n",
              "<span style=\"font-weight: bold\">}</span>\n",
              "\n",
              "```\n",
              "\n",
              "</pre>\n"
            ],
            "text/plain": [
              "\n",
              "You are a seller of a Bargaining game.\n",
              "In the game, you and buyer are going to negotiate a price of a item within limited turns.\n",
              "In each step of the game, one of the bargainers will propose a price and optionally provide arguments about the \n",
              "price.\n",
              "The the two proposed price argreed, the negotiation will be successful and the game is over.\n",
              "\n",
              "You have a lower limit about the price in her mind which is invisible to the buyer. You will get a reward of \n",
              "agreement_price-lower_limit_price the negotiation is sucessful.\n",
              "Otherwise you will get \u001b[1;36m0\u001b[0m reward.\n",
              "\n",
              "So the you should always\n",
              "\u001b[1;36m1\u001b[0m. push the price up to get higher rewards\n",
              "\u001b[1;36m2\u001b[0m. avoid the price to be lower than lower_limit_price otherwise you'll get a negative reward.\n",
              "\n",
              "Your output should be format in a json with the following schema:\n",
              "```\n",
              "\u001b[1m{\u001b[0m\n",
              "  \u001b[32m\"$schema\"\u001b[0m: \u001b[32m\"http://json-schema.org/draft-07/schema#\"\u001b[0m,\n",
              "  \u001b[32m\"type\"\u001b[0m: \u001b[32m\"object\"\u001b[0m,\n",
              "  \u001b[32m\"properties\"\u001b[0m: \u001b[1m{\u001b[0m\n",
              "    \u001b[32m\"price\"\u001b[0m: \u001b[1m{\u001b[0m\n",
              "      \u001b[32m\"description\"\u001b[0m: \u001b[32m\"your proposed price\"\u001b[0m,\n",
              "      \u001b[32m\"type\"\u001b[0m: \u001b[32m\"number\"\u001b[0m\n",
              "    \u001b[1m}\u001b[0m,\n",
              "    \u001b[32m\"arguments\"\u001b[0m: \u001b[1m{\u001b[0m\n",
              "      \u001b[32m\"description\"\u001b[0m: \u001b[32m\"what you are going to say to your opponent\"\u001b[0m,\n",
              "      \u001b[32m\"type\"\u001b[0m: \u001b[32m\"string\"\u001b[0m\n",
              "    \u001b[1m}\u001b[0m\n",
              "  \u001b[1m}\u001b[0m,\n",
              "  \u001b[32m\"required\"\u001b[0m: \u001b[1m[\u001b[0m\u001b[32m\"price\"\u001b[0m, \u001b[32m\"arguments\"\u001b[0m\u001b[1m]\u001b[0m\n",
              "\u001b[1m}\u001b[0m\n",
              "```\n",
              "\n",
              "For example:\n",
              "```\n",
              "\u001b[1m{\u001b[0m\n",
              "  \u001b[32m\"price\"\u001b[0m: \u001b[1;36m50\u001b[0m,\n",
              "  \u001b[32m\"arguments\"\u001b[0m: \u001b[32m\"I believe a price of $50 is fair for both parties. It takes into account the quality of the item \u001b[0m\n",
              "\u001b[32mand the current market value.\"\u001b[0m \n",
              "\u001b[1m}\u001b[0m\n",
              "\n",
              "```\n",
              "\n"
            ]
          },
          "metadata": {},
          "output_type": "display_data"
        },
        {
          "data": {
            "text/html": [
              "<pre style=\"white-space:pre;overflow-x:auto;line-height:normal;font-family:Menlo,'DejaVu Sans Mono',consolas,'Courier New',monospace\">\n",
              "<span style=\"color: #008000; text-decoration-color: #008000; font-weight: bold\">========= Arena Start! ==========</span>\n",
              "\n",
              "</pre>\n"
            ],
            "text/plain": [
              "\n",
              "\u001b[1;32m========= Arena Start! ==========\u001b[0m\n",
              "\n"
            ]
          },
          "metadata": {},
          "output_type": "display_data"
        },
        {
          "data": {
            "text/html": [
              "<pre style=\"white-space:pre;overflow-x:auto;line-height:normal;font-family:Menlo,'DejaVu Sans Mono',consolas,'Courier New',monospace\"><span style=\"color: #800000; text-decoration-color: #800000; font-weight: bold\">[Moderator-&gt;all]:</span> Bargainers, the item to be traded is diamond\n",
              "</pre>\n"
            ],
            "text/plain": [
              "\u001b[1;31m[Moderator->all]:\u001b[0m Bargainers, the item to be traded is diamond\n"
            ]
          },
          "metadata": {},
          "output_type": "display_data"
        },
        {
          "data": {
            "text/html": [
              "<pre style=\"white-space:pre;overflow-x:auto;line-height:normal;font-family:Menlo,'DejaVu Sans Mono',consolas,'Courier New',monospace\"><span style=\"color: #800000; text-decoration-color: #800000; font-weight: bold\">[Moderator-&gt;buyer]:</span> Buyer, your price upper limit is $500\n",
              "</pre>\n"
            ],
            "text/plain": [
              "\u001b[1;31m[Moderator->buyer]:\u001b[0m Buyer, your price upper limit is $500\n"
            ]
          },
          "metadata": {},
          "output_type": "display_data"
        },
        {
          "data": {
            "text/html": [
              "<pre style=\"white-space:pre;overflow-x:auto;line-height:normal;font-family:Menlo,'DejaVu Sans Mono',consolas,'Courier New',monospace\"><span style=\"color: #800000; text-decoration-color: #800000; font-weight: bold\">[Moderator-&gt;seller]:</span> Seller, your price lower limit is $100\n",
              "</pre>\n"
            ],
            "text/plain": [
              "\u001b[1;31m[Moderator->seller]:\u001b[0m Seller, your price lower limit is $100\n"
            ]
          },
          "metadata": {},
          "output_type": "display_data"
        },
        {
          "data": {
            "text/html": [
              "<pre style=\"white-space:pre;overflow-x:auto;line-height:normal;font-family:Menlo,'DejaVu Sans Mono',consolas,'Courier New',monospace\"><span style=\"color: #87d787; text-decoration-color: #87d787; font-weight: bold\">[buyer-&gt;all]:</span> I propose a price of $400 for the diamond. This price is well below my upper limit and takes into \n",
              "account the current market value for diamonds of this quality.\n",
              "</pre>\n"
            ],
            "text/plain": [
              "\u001b[1;38;5;114m[buyer->all]:\u001b[0m I propose a price of $400 for the diamond. This price is well below my upper limit and takes into \n",
              "account the current market value for diamonds of this quality.\n"
            ]
          },
          "metadata": {},
          "output_type": "display_data"
        },
        {
          "data": {
            "text/html": [
              "<pre style=\"white-space:pre;overflow-x:auto;line-height:normal;font-family:Menlo,'DejaVu Sans Mono',consolas,'Courier New',monospace\"><span style=\"color: #800000; text-decoration-color: #800000; font-weight: bold\">[Moderator-&gt;all]:</span> This is Turn 1. There's 3 left.\n",
              "</pre>\n"
            ],
            "text/plain": [
              "\u001b[1;31m[Moderator->all]:\u001b[0m This is Turn 1. There's 3 left.\n"
            ]
          },
          "metadata": {},
          "output_type": "display_data"
        },
        {
          "data": {
            "text/html": [
              "<pre style=\"white-space:pre;overflow-x:auto;line-height:normal;font-family:Menlo,'DejaVu Sans Mono',consolas,'Courier New',monospace\"><span style=\"color: #d75fd7; text-decoration-color: #d75fd7; font-weight: bold\">[seller-&gt;all]:</span> I propose a price of $200 for the diamond. This price is reasonable considering the rarity and value\n",
              "of diamonds, as well as the current market conditions.\n",
              "</pre>\n"
            ],
            "text/plain": [
              "\u001b[1;38;5;170m[seller->all]:\u001b[0m I propose a price of $200 for the diamond. This price is reasonable considering the rarity and value\n",
              "of diamonds, as well as the current market conditions.\n"
            ]
          },
          "metadata": {},
          "output_type": "display_data"
        },
        {
          "data": {
            "text/html": [
              "<pre style=\"white-space:pre;overflow-x:auto;line-height:normal;font-family:Menlo,'DejaVu Sans Mono',consolas,'Courier New',monospace\"><span style=\"color: #800000; text-decoration-color: #800000; font-weight: bold\">[Moderator-&gt;all]:</span> This is Turn 2. There's 2 left.\n",
              "</pre>\n"
            ],
            "text/plain": [
              "\u001b[1;31m[Moderator->all]:\u001b[0m This is Turn 2. There's 2 left.\n"
            ]
          },
          "metadata": {},
          "output_type": "display_data"
        },
        {
          "data": {
            "text/html": [
              "<pre style=\"white-space:pre;overflow-x:auto;line-height:normal;font-family:Menlo,'DejaVu Sans Mono',consolas,'Courier New',monospace\"><span style=\"color: #800000; text-decoration-color: #800000; font-weight: bold\">[Moderator-&gt;all]:</span> The negotiation ended with a price of $300.0 for diamond.\n",
              "</pre>\n"
            ],
            "text/plain": [
              "\u001b[1;31m[Moderator->all]:\u001b[0m The negotiation ended with a price of $300.0 for diamond.\n"
            ]
          },
          "metadata": {},
          "output_type": "display_data"
        },
        {
          "data": {
            "text/html": [
              "<pre style=\"white-space:pre;overflow-x:auto;line-height:normal;font-family:Menlo,'DejaVu Sans Mono',consolas,'Courier New',monospace\">\n",
              "<span style=\"color: #800000; text-decoration-color: #800000; font-weight: bold\">========= Arena Ended! ==========</span>\n",
              "\n",
              "</pre>\n"
            ],
            "text/plain": [
              "\n",
              "\u001b[1;31m========= Arena Ended! ==========\u001b[0m\n",
              "\n"
            ]
          },
          "metadata": {},
          "output_type": "display_data"
        }
      ],
      "source": [
        "from chatarena.arena import Arena\n",
        "\n",
        "env = Bargaining(item_name=\"diamond\", upper_limit=500, lower_limit=100, max_turn=4)\n",
        "arena = Arena([buyer, seller], env)\n",
        "arena.launch_cli(interactive=False)"
      ]
    },
    {
      "cell_type": "markdown",
      "metadata": {
        "id": "8FATFQWB8zM5"
      },
      "source": [
        "# Further Improvements\n",
        "## Improving the Policy\n",
        "Both players play in a very suboptimal manner. Buyer proposed a very high initial price and the seller sometimes even proposed a price that is lower than the buyer. Can you come up some ways to improve the performance of the policy?\n",
        "Potential solutions:\n",
        "1. Prompt Engineering in the role description, for example, Chinat-of-Thought, few shot examples\n",
        "2. Let moderator provide more information and suggest better policy\n",
        "3. Use a better model\n",
        "4. Let the agent learn from history [1]\n",
        "5. Or maybe even finetune your model on this task.\n",
        "\n",
        "[1] https://github.com/FranxYao/GPT-Bargaining\n",
        "\n",
        "## Instability of the Json Decoding\n",
        "Sometimes the json decoding is not stable, for example, the GPT sometimes forget to add the closing bracket }.\n",
        "Can you come up some solutions about that? Some possible solutions:\n",
        "1. Add advancing json parsing\n",
        "2. Prompt Engineering\n",
        "3. Write a new function call backend\n",
        "4. Use a better Model\n",
        "\n",
        "## Game Theory Pespective\n",
        "From a game theory perspective, we can explore how the design of the game affect the behaviour of the agent. Here's some of the examples:\n",
        "\n",
        "1. Third player as a moderator to check fairness\n",
        "2. Let the model know it's a copy of itself\n",
        "3. What if they are actually different model?\n",
        "4. Nonlinear reward function"
      ]
    },
    {
      "cell_type": "markdown",
      "metadata": {
        "id": "yRHSbFrmH8gH"
      },
      "source": [
        "# Improvement Use GPT-4 backend\n",
        "The root cause for both problems mentioned above is GPT-3.5 failed to follow complex intructions.\n",
        "A most straightforward way to improve is to use a better model. Now let's try GPT-4 as our backend:"
      ]
    },
    {
      "cell_type": "code",
      "execution_count": null,
      "metadata": {
        "colab": {
          "base_uri": "https://localhost:8080/",
          "height": 1000
        },
        "id": "L76mD1CGHU8G",
        "outputId": "b57e6884-ba61-4ea3-93d8-ae5e7efc3b58"
      },
      "outputs": [
        {
          "data": {
            "text/html": [
              "<pre style=\"white-space:pre;overflow-x:auto;line-height:normal;font-family:Menlo,'DejaVu Sans Mono',consolas,'Courier New',monospace\">\n",
              "<span style=\"color: #d75f00; text-decoration-color: #d75f00; font-weight: bold\">_________  .__               __      _____                                   </span>\n",
              "<span style=\"color: #d75f00; text-decoration-color: #d75f00; font-weight: bold\">\\_   ___ \\ |  |__  _____   _/  |_   </span><span style=\"color: #800080; text-decoration-color: #800080; font-weight: bold\">/</span><span style=\"color: #d75f00; text-decoration-color: #d75f00; font-weight: bold\">  _  \\  _______   ____    ____  _____   </span>\n",
              "<span style=\"color: #800080; text-decoration-color: #800080; font-weight: bold\">/</span><span style=\"color: #d75f00; text-decoration-color: #d75f00; font-weight: bold\">    \\  \\</span><span style=\"color: #800080; text-decoration-color: #800080; font-weight: bold\">/</span><span style=\"color: #d75f00; text-decoration-color: #d75f00; font-weight: bold\"> |  |  \\ \\__  \\  \\   __\\ </span><span style=\"color: #800080; text-decoration-color: #800080; font-weight: bold\">/</span><span style=\"color: #d75f00; text-decoration-color: #d75f00; font-weight: bold\">  </span><span style=\"color: #800080; text-decoration-color: #800080; font-weight: bold\">/</span><span style=\"color: #ff00ff; text-decoration-color: #ff00ff; font-weight: bold\">_</span><span style=\"color: #d75f00; text-decoration-color: #d75f00; font-weight: bold\">\\  \\ \\_  __ \\W/ __ \\  </span><span style=\"color: #800080; text-decoration-color: #800080; font-weight: bold\">/</span><span style=\"color: #d75f00; text-decoration-color: #d75f00; font-weight: bold\">    \\ \\__  \\  </span>\n",
              "<span style=\"color: #d75f00; text-decoration-color: #d75f00; font-weight: bold\">\\     \\____|   Y  \\ </span><span style=\"color: #800080; text-decoration-color: #800080; font-weight: bold\">/</span><span style=\"color: #d75f00; text-decoration-color: #d75f00; font-weight: bold\"> __ \\_ |  |  </span><span style=\"color: #800080; text-decoration-color: #800080; font-weight: bold\">/</span><span style=\"color: #d75f00; text-decoration-color: #d75f00; font-weight: bold\">    |    \\ |  | \\</span><span style=\"color: #800080; text-decoration-color: #800080; font-weight: bold\">/</span><span style=\"color: #d75f00; text-decoration-color: #d75f00; font-weight: bold\">\\  ___/ |   |  \\ </span><span style=\"color: #800080; text-decoration-color: #800080; font-weight: bold\">/</span><span style=\"color: #d75f00; text-decoration-color: #d75f00; font-weight: bold\"> __ \\_</span>\n",
              "<span style=\"color: #d75f00; text-decoration-color: #d75f00; font-weight: bold\"> \\______  </span><span style=\"color: #800080; text-decoration-color: #800080; font-weight: bold\">/</span><span style=\"color: #d75f00; text-decoration-color: #d75f00; font-weight: bold\">|___|  </span><span style=\"color: #800080; text-decoration-color: #800080; font-weight: bold\">/</span><span style=\"color: #d75f00; text-decoration-color: #d75f00; font-weight: bold\">(____  </span><span style=\"color: #800080; text-decoration-color: #800080; font-weight: bold\">/</span><span style=\"color: #d75f00; text-decoration-color: #d75f00; font-weight: bold\"> |__|  \\____|__  </span><span style=\"color: #800080; text-decoration-color: #800080; font-weight: bold\">/</span><span style=\"color: #d75f00; text-decoration-color: #d75f00; font-weight: bold\"> |__|    \\___  &gt;|___|  </span><span style=\"color: #800080; text-decoration-color: #800080; font-weight: bold\">/</span><span style=\"color: #d75f00; text-decoration-color: #d75f00; font-weight: bold\">(____  </span><span style=\"color: #800080; text-decoration-color: #800080; font-weight: bold\">/</span>\n",
              "<span style=\"color: #d75f00; text-decoration-color: #d75f00; font-weight: bold\">        \\</span><span style=\"color: #800080; text-decoration-color: #800080; font-weight: bold\">/</span><span style=\"color: #d75f00; text-decoration-color: #d75f00; font-weight: bold\">      \\</span><span style=\"color: #800080; text-decoration-color: #800080; font-weight: bold\">/</span><span style=\"color: #d75f00; text-decoration-color: #d75f00; font-weight: bold\">      \\</span><span style=\"color: #800080; text-decoration-color: #800080; font-weight: bold\">/</span><span style=\"color: #d75f00; text-decoration-color: #d75f00; font-weight: bold\">                \\</span><span style=\"color: #800080; text-decoration-color: #800080; font-weight: bold\">/</span><span style=\"color: #d75f00; text-decoration-color: #d75f00; font-weight: bold\">              \\</span><span style=\"color: #800080; text-decoration-color: #800080; font-weight: bold\">/</span><span style=\"color: #d75f00; text-decoration-color: #d75f00; font-weight: bold\">      \\</span><span style=\"color: #800080; text-decoration-color: #800080; font-weight: bold\">/</span><span style=\"color: #d75f00; text-decoration-color: #d75f00; font-weight: bold\">      \\</span><span style=\"color: #800080; text-decoration-color: #800080; font-weight: bold\">/</span><span style=\"color: #d75f00; text-decoration-color: #d75f00; font-weight: bold\"> </span>\n",
              "\n",
              "</pre>\n"
            ],
            "text/plain": [
              "\n",
              "\u001b[1;38;5;166m_________  .__               __      _____                                   \u001b[0m\n",
              "\u001b[1;38;5;166m\\_   ___ \\ |  |__  _____   _/  |_   \u001b[0m\u001b[1;35m/\u001b[0m\u001b[1;38;5;166m  _  \\  _______   ____    ____  _____   \u001b[0m\n",
              "\u001b[1;35m/\u001b[0m\u001b[1;38;5;166m    \\  \\\u001b[0m\u001b[1;35m/\u001b[0m\u001b[1;38;5;166m |  |  \\ \\__  \\  \\   __\\ \u001b[0m\u001b[1;35m/\u001b[0m\u001b[1;38;5;166m  \u001b[0m\u001b[1;35m/\u001b[0m\u001b[1;95m_\u001b[0m\u001b[1;38;5;166m\\  \\ \\_  __ \\W/ __ \\  \u001b[0m\u001b[1;35m/\u001b[0m\u001b[1;38;5;166m    \\ \\__  \\  \u001b[0m\n",
              "\u001b[1;38;5;166m\\     \\____|   Y  \\ \u001b[0m\u001b[1;35m/\u001b[0m\u001b[1;38;5;166m __ \\_ |  |  \u001b[0m\u001b[1;35m/\u001b[0m\u001b[1;38;5;166m    |    \\ |  | \\\u001b[0m\u001b[1;35m/\u001b[0m\u001b[1;38;5;166m\\  ___/ |   |  \\ \u001b[0m\u001b[1;35m/\u001b[0m\u001b[1;38;5;166m __ \\_\u001b[0m\n",
              "\u001b[1;38;5;166m \\______  \u001b[0m\u001b[1;35m/\u001b[0m\u001b[1;38;5;166m|___|  \u001b[0m\u001b[1;35m/\u001b[0m\u001b[1;38;5;166m(\u001b[0m\u001b[1;38;5;166m____  \u001b[0m\u001b[1;35m/\u001b[0m\u001b[1;38;5;166m |__|  \\____|__  \u001b[0m\u001b[1;35m/\u001b[0m\u001b[1;38;5;166m |__|    \\___  >|___|  \u001b[0m\u001b[1;35m/\u001b[0m\u001b[1;38;5;166m(\u001b[0m\u001b[1;38;5;166m____  \u001b[0m\u001b[1;35m/\u001b[0m\n",
              "\u001b[1;38;5;166m        \\\u001b[0m\u001b[1;35m/\u001b[0m\u001b[1;38;5;166m      \\\u001b[0m\u001b[1;35m/\u001b[0m\u001b[1;38;5;166m      \\\u001b[0m\u001b[1;35m/\u001b[0m\u001b[1;38;5;166m                \\\u001b[0m\u001b[1;35m/\u001b[0m\u001b[1;38;5;166m              \\\u001b[0m\u001b[1;35m/\u001b[0m\u001b[1;38;5;166m      \\\u001b[0m\u001b[1;35m/\u001b[0m\u001b[1;38;5;166m      \\\u001b[0m\u001b[1;35m/\u001b[0m\u001b[1;38;5;166m \u001b[0m\n",
              "\n"
            ]
          },
          "metadata": {},
          "output_type": "display_data"
        },
        {
          "data": {
            "text/html": [
              "<pre style=\"white-space:pre;overflow-x:auto;line-height:normal;font-family:Menlo,'DejaVu Sans Mono',consolas,'Courier New',monospace\"><span style=\"color: #008000; text-decoration-color: #008000; font-weight: bold\">🏟 Chat Arena Initialized!</span>\n",
              "</pre>\n"
            ],
            "text/plain": [
              "\u001b[1;32m🏟 Chat Arena Initialized!\u001b[0m\n"
            ]
          },
          "metadata": {},
          "output_type": "display_data"
        },
        {
          "data": {
            "text/html": [
              "<pre style=\"white-space:pre;overflow-x:auto;line-height:normal;font-family:Menlo,'DejaVu Sans Mono',consolas,'Courier New',monospace\"><span style=\"color: #008000; text-decoration-color: #008000; font-weight: bold; text-decoration: underline\">Environment (bargaining) description:</span>\n",
              "<span style=\"color: #800080; text-decoration-color: #800080; font-style: italic\">None</span>\n",
              "</pre>\n"
            ],
            "text/plain": [
              "\u001b[1;4;32mEnvironment \u001b[0m\u001b[1;4;32m(\u001b[0m\u001b[1;4;32mbargaining\u001b[0m\u001b[1;4;32m)\u001b[0m\u001b[1;4;32m description:\u001b[0m\n",
              "\u001b[3;35mNone\u001b[0m\n"
            ]
          },
          "metadata": {},
          "output_type": "display_data"
        },
        {
          "data": {
            "text/html": [
              "<pre style=\"white-space:pre;overflow-x:auto;line-height:normal;font-family:Menlo,'DejaVu Sans Mono',consolas,'Courier New',monospace\"><span style=\"color: #afff00; text-decoration-color: #afff00; font-weight: bold; text-decoration: underline\">[buyer (openai-chat)] Role Description:</span>\n",
              "</pre>\n"
            ],
            "text/plain": [
              "\u001b[1;4;38;5;154m[buyer (openai-chat)] Role Description:\u001b[0m\n"
            ]
          },
          "metadata": {},
          "output_type": "display_data"
        },
        {
          "data": {
            "text/html": [
              "<pre style=\"white-space:pre;overflow-x:auto;line-height:normal;font-family:Menlo,'DejaVu Sans Mono',consolas,'Courier New',monospace\">\n",
              "You are a buyer of a Bargaining game.\n",
              "In the game, you and seller are going to negotiate a price of a item within limited turns.\n",
              "In each step of the game, one of the bargainers will propose a price and optionally provide arguments about the \n",
              "price.\n",
              "The the two proposed price argreed, the negotiation will be successful and the game is over.\n",
              "\n",
              "You have a upper limit about the price in her mind which is invisible to the seller. You will get a reward of \n",
              "upper_limit_price-agreement_price the negotiation is sucessful at price $p$.\n",
              "Otherwise you will get <span style=\"color: #008080; text-decoration-color: #008080; font-weight: bold\">0</span> reward.\n",
              "\n",
              "So the you should always\n",
              "<span style=\"color: #008080; text-decoration-color: #008080; font-weight: bold\">1</span>. push the price down to get higher reward.\n",
              "<span style=\"color: #008080; text-decoration-color: #008080; font-weight: bold\">2</span>. avoid the price to be higher than upper_limit_price otherwise you'll get a negative reward.\n",
              "\n",
              "Your output should be format in a json with the following schema:\n",
              "```\n",
              "<span style=\"font-weight: bold\">{</span>\n",
              "  <span style=\"color: #008000; text-decoration-color: #008000\">\"$schema\"</span>: <span style=\"color: #008000; text-decoration-color: #008000\">\"http://json-schema.org/draft-07/schema#\"</span>,\n",
              "  <span style=\"color: #008000; text-decoration-color: #008000\">\"type\"</span>: <span style=\"color: #008000; text-decoration-color: #008000\">\"object\"</span>,\n",
              "  <span style=\"color: #008000; text-decoration-color: #008000\">\"properties\"</span>: <span style=\"font-weight: bold\">{</span>\n",
              "    <span style=\"color: #008000; text-decoration-color: #008000\">\"price\"</span>: <span style=\"font-weight: bold\">{</span>\n",
              "      <span style=\"color: #008000; text-decoration-color: #008000\">\"description\"</span>: <span style=\"color: #008000; text-decoration-color: #008000\">\"your proposed price\"</span>,\n",
              "      <span style=\"color: #008000; text-decoration-color: #008000\">\"type\"</span>: <span style=\"color: #008000; text-decoration-color: #008000\">\"number\"</span>\n",
              "    <span style=\"font-weight: bold\">}</span>,\n",
              "    <span style=\"color: #008000; text-decoration-color: #008000\">\"arguments\"</span>: <span style=\"font-weight: bold\">{</span>\n",
              "      <span style=\"color: #008000; text-decoration-color: #008000\">\"description\"</span>: <span style=\"color: #008000; text-decoration-color: #008000\">\"what you are going to say to your opponent\"</span>,\n",
              "      <span style=\"color: #008000; text-decoration-color: #008000\">\"type\"</span>: <span style=\"color: #008000; text-decoration-color: #008000\">\"string\"</span>\n",
              "    <span style=\"font-weight: bold\">}</span>\n",
              "  <span style=\"font-weight: bold\">}</span>,\n",
              "  <span style=\"color: #008000; text-decoration-color: #008000\">\"required\"</span>: <span style=\"font-weight: bold\">[</span><span style=\"color: #008000; text-decoration-color: #008000\">\"price\"</span>, <span style=\"color: #008000; text-decoration-color: #008000\">\"arguments\"</span><span style=\"font-weight: bold\">]</span>\n",
              "<span style=\"font-weight: bold\">}</span>\n",
              "```\n",
              "\n",
              "For example:\n",
              "```\n",
              "<span style=\"font-weight: bold\">{</span>\n",
              "  <span style=\"color: #008000; text-decoration-color: #008000\">\"price\"</span>: <span style=\"color: #008080; text-decoration-color: #008080; font-weight: bold\">50</span>,\n",
              "  <span style=\"color: #008000; text-decoration-color: #008000\">\"arguments\"</span>: <span style=\"color: #008000; text-decoration-color: #008000\">\"I believe a price of $50 is fair for both parties. It takes into account the quality of the item </span>\n",
              "<span style=\"color: #008000; text-decoration-color: #008000\">and the current market value.\"</span> \n",
              "<span style=\"font-weight: bold\">}</span>\n",
              "\n",
              "```\n",
              "\n",
              "</pre>\n"
            ],
            "text/plain": [
              "\n",
              "You are a buyer of a Bargaining game.\n",
              "In the game, you and seller are going to negotiate a price of a item within limited turns.\n",
              "In each step of the game, one of the bargainers will propose a price and optionally provide arguments about the \n",
              "price.\n",
              "The the two proposed price argreed, the negotiation will be successful and the game is over.\n",
              "\n",
              "You have a upper limit about the price in her mind which is invisible to the seller. You will get a reward of \n",
              "upper_limit_price-agreement_price the negotiation is sucessful at price $p$.\n",
              "Otherwise you will get \u001b[1;36m0\u001b[0m reward.\n",
              "\n",
              "So the you should always\n",
              "\u001b[1;36m1\u001b[0m. push the price down to get higher reward.\n",
              "\u001b[1;36m2\u001b[0m. avoid the price to be higher than upper_limit_price otherwise you'll get a negative reward.\n",
              "\n",
              "Your output should be format in a json with the following schema:\n",
              "```\n",
              "\u001b[1m{\u001b[0m\n",
              "  \u001b[32m\"$schema\"\u001b[0m: \u001b[32m\"http://json-schema.org/draft-07/schema#\"\u001b[0m,\n",
              "  \u001b[32m\"type\"\u001b[0m: \u001b[32m\"object\"\u001b[0m,\n",
              "  \u001b[32m\"properties\"\u001b[0m: \u001b[1m{\u001b[0m\n",
              "    \u001b[32m\"price\"\u001b[0m: \u001b[1m{\u001b[0m\n",
              "      \u001b[32m\"description\"\u001b[0m: \u001b[32m\"your proposed price\"\u001b[0m,\n",
              "      \u001b[32m\"type\"\u001b[0m: \u001b[32m\"number\"\u001b[0m\n",
              "    \u001b[1m}\u001b[0m,\n",
              "    \u001b[32m\"arguments\"\u001b[0m: \u001b[1m{\u001b[0m\n",
              "      \u001b[32m\"description\"\u001b[0m: \u001b[32m\"what you are going to say to your opponent\"\u001b[0m,\n",
              "      \u001b[32m\"type\"\u001b[0m: \u001b[32m\"string\"\u001b[0m\n",
              "    \u001b[1m}\u001b[0m\n",
              "  \u001b[1m}\u001b[0m,\n",
              "  \u001b[32m\"required\"\u001b[0m: \u001b[1m[\u001b[0m\u001b[32m\"price\"\u001b[0m, \u001b[32m\"arguments\"\u001b[0m\u001b[1m]\u001b[0m\n",
              "\u001b[1m}\u001b[0m\n",
              "```\n",
              "\n",
              "For example:\n",
              "```\n",
              "\u001b[1m{\u001b[0m\n",
              "  \u001b[32m\"price\"\u001b[0m: \u001b[1;36m50\u001b[0m,\n",
              "  \u001b[32m\"arguments\"\u001b[0m: \u001b[32m\"I believe a price of $50 is fair for both parties. It takes into account the quality of the item \u001b[0m\n",
              "\u001b[32mand the current market value.\"\u001b[0m \n",
              "\u001b[1m}\u001b[0m\n",
              "\n",
              "```\n",
              "\n"
            ]
          },
          "metadata": {},
          "output_type": "display_data"
        },
        {
          "data": {
            "text/html": [
              "<pre style=\"white-space:pre;overflow-x:auto;line-height:normal;font-family:Menlo,'DejaVu Sans Mono',consolas,'Courier New',monospace\"><span style=\"color: #3a3a3a; text-decoration-color: #3a3a3a; font-weight: bold; text-decoration: underline\">[seller (openai-chat)] Role Description:</span>\n",
              "</pre>\n"
            ],
            "text/plain": [
              "\u001b[1;4;38;5;237m[seller (openai-chat)] Role Description:\u001b[0m\n"
            ]
          },
          "metadata": {},
          "output_type": "display_data"
        },
        {
          "data": {
            "text/html": [
              "<pre style=\"white-space:pre;overflow-x:auto;line-height:normal;font-family:Menlo,'DejaVu Sans Mono',consolas,'Courier New',monospace\">\n",
              "You are a seller of a Bargaining game.\n",
              "In the game, you and buyer are going to negotiate a price of a item within limited turns.\n",
              "In each step of the game, one of the bargainers will propose a price and optionally provide arguments about the \n",
              "price.\n",
              "The the two proposed price argreed, the negotiation will be successful and the game is over.\n",
              "\n",
              "You have a lower limit about the price in her mind which is invisible to the buyer. You will get a reward of \n",
              "agreement_price-lower_limit_price the negotiation is sucessful.\n",
              "Otherwise you will get <span style=\"color: #008080; text-decoration-color: #008080; font-weight: bold\">0</span> reward.\n",
              "\n",
              "So the you should always\n",
              "<span style=\"color: #008080; text-decoration-color: #008080; font-weight: bold\">1</span>. push the price up to get higher rewards\n",
              "<span style=\"color: #008080; text-decoration-color: #008080; font-weight: bold\">2</span>. avoid the price to be lower than lower_limit_price otherwise you'll get a negative reward.\n",
              "\n",
              "Your output should be format in a json with the following schema:\n",
              "```\n",
              "<span style=\"font-weight: bold\">{</span>\n",
              "  <span style=\"color: #008000; text-decoration-color: #008000\">\"$schema\"</span>: <span style=\"color: #008000; text-decoration-color: #008000\">\"http://json-schema.org/draft-07/schema#\"</span>,\n",
              "  <span style=\"color: #008000; text-decoration-color: #008000\">\"type\"</span>: <span style=\"color: #008000; text-decoration-color: #008000\">\"object\"</span>,\n",
              "  <span style=\"color: #008000; text-decoration-color: #008000\">\"properties\"</span>: <span style=\"font-weight: bold\">{</span>\n",
              "    <span style=\"color: #008000; text-decoration-color: #008000\">\"price\"</span>: <span style=\"font-weight: bold\">{</span>\n",
              "      <span style=\"color: #008000; text-decoration-color: #008000\">\"description\"</span>: <span style=\"color: #008000; text-decoration-color: #008000\">\"your proposed price\"</span>,\n",
              "      <span style=\"color: #008000; text-decoration-color: #008000\">\"type\"</span>: <span style=\"color: #008000; text-decoration-color: #008000\">\"number\"</span>\n",
              "    <span style=\"font-weight: bold\">}</span>,\n",
              "    <span style=\"color: #008000; text-decoration-color: #008000\">\"arguments\"</span>: <span style=\"font-weight: bold\">{</span>\n",
              "      <span style=\"color: #008000; text-decoration-color: #008000\">\"description\"</span>: <span style=\"color: #008000; text-decoration-color: #008000\">\"what you are going to say to your opponent\"</span>,\n",
              "      <span style=\"color: #008000; text-decoration-color: #008000\">\"type\"</span>: <span style=\"color: #008000; text-decoration-color: #008000\">\"string\"</span>\n",
              "    <span style=\"font-weight: bold\">}</span>\n",
              "  <span style=\"font-weight: bold\">}</span>,\n",
              "  <span style=\"color: #008000; text-decoration-color: #008000\">\"required\"</span>: <span style=\"font-weight: bold\">[</span><span style=\"color: #008000; text-decoration-color: #008000\">\"price\"</span>, <span style=\"color: #008000; text-decoration-color: #008000\">\"arguments\"</span><span style=\"font-weight: bold\">]</span>\n",
              "<span style=\"font-weight: bold\">}</span>\n",
              "```\n",
              "\n",
              "For example:\n",
              "```\n",
              "<span style=\"font-weight: bold\">{</span>\n",
              "  <span style=\"color: #008000; text-decoration-color: #008000\">\"price\"</span>: <span style=\"color: #008080; text-decoration-color: #008080; font-weight: bold\">50</span>,\n",
              "  <span style=\"color: #008000; text-decoration-color: #008000\">\"arguments\"</span>: <span style=\"color: #008000; text-decoration-color: #008000\">\"I believe a price of $50 is fair for both parties. It takes into account the quality of the item </span>\n",
              "<span style=\"color: #008000; text-decoration-color: #008000\">and the current market value.\"</span> \n",
              "<span style=\"font-weight: bold\">}</span>\n",
              "\n",
              "```\n",
              "\n",
              "</pre>\n"
            ],
            "text/plain": [
              "\n",
              "You are a seller of a Bargaining game.\n",
              "In the game, you and buyer are going to negotiate a price of a item within limited turns.\n",
              "In each step of the game, one of the bargainers will propose a price and optionally provide arguments about the \n",
              "price.\n",
              "The the two proposed price argreed, the negotiation will be successful and the game is over.\n",
              "\n",
              "You have a lower limit about the price in her mind which is invisible to the buyer. You will get a reward of \n",
              "agreement_price-lower_limit_price the negotiation is sucessful.\n",
              "Otherwise you will get \u001b[1;36m0\u001b[0m reward.\n",
              "\n",
              "So the you should always\n",
              "\u001b[1;36m1\u001b[0m. push the price up to get higher rewards\n",
              "\u001b[1;36m2\u001b[0m. avoid the price to be lower than lower_limit_price otherwise you'll get a negative reward.\n",
              "\n",
              "Your output should be format in a json with the following schema:\n",
              "```\n",
              "\u001b[1m{\u001b[0m\n",
              "  \u001b[32m\"$schema\"\u001b[0m: \u001b[32m\"http://json-schema.org/draft-07/schema#\"\u001b[0m,\n",
              "  \u001b[32m\"type\"\u001b[0m: \u001b[32m\"object\"\u001b[0m,\n",
              "  \u001b[32m\"properties\"\u001b[0m: \u001b[1m{\u001b[0m\n",
              "    \u001b[32m\"price\"\u001b[0m: \u001b[1m{\u001b[0m\n",
              "      \u001b[32m\"description\"\u001b[0m: \u001b[32m\"your proposed price\"\u001b[0m,\n",
              "      \u001b[32m\"type\"\u001b[0m: \u001b[32m\"number\"\u001b[0m\n",
              "    \u001b[1m}\u001b[0m,\n",
              "    \u001b[32m\"arguments\"\u001b[0m: \u001b[1m{\u001b[0m\n",
              "      \u001b[32m\"description\"\u001b[0m: \u001b[32m\"what you are going to say to your opponent\"\u001b[0m,\n",
              "      \u001b[32m\"type\"\u001b[0m: \u001b[32m\"string\"\u001b[0m\n",
              "    \u001b[1m}\u001b[0m\n",
              "  \u001b[1m}\u001b[0m,\n",
              "  \u001b[32m\"required\"\u001b[0m: \u001b[1m[\u001b[0m\u001b[32m\"price\"\u001b[0m, \u001b[32m\"arguments\"\u001b[0m\u001b[1m]\u001b[0m\n",
              "\u001b[1m}\u001b[0m\n",
              "```\n",
              "\n",
              "For example:\n",
              "```\n",
              "\u001b[1m{\u001b[0m\n",
              "  \u001b[32m\"price\"\u001b[0m: \u001b[1;36m50\u001b[0m,\n",
              "  \u001b[32m\"arguments\"\u001b[0m: \u001b[32m\"I believe a price of $50 is fair for both parties. It takes into account the quality of the item \u001b[0m\n",
              "\u001b[32mand the current market value.\"\u001b[0m \n",
              "\u001b[1m}\u001b[0m\n",
              "\n",
              "```\n",
              "\n"
            ]
          },
          "metadata": {},
          "output_type": "display_data"
        },
        {
          "data": {
            "text/html": [
              "<pre style=\"white-space:pre;overflow-x:auto;line-height:normal;font-family:Menlo,'DejaVu Sans Mono',consolas,'Courier New',monospace\">\n",
              "<span style=\"color: #008000; text-decoration-color: #008000; font-weight: bold\">========= Arena Start! ==========</span>\n",
              "\n",
              "</pre>\n"
            ],
            "text/plain": [
              "\n",
              "\u001b[1;32m========= Arena Start! ==========\u001b[0m\n",
              "\n"
            ]
          },
          "metadata": {},
          "output_type": "display_data"
        },
        {
          "data": {
            "text/html": [
              "<pre style=\"white-space:pre;overflow-x:auto;line-height:normal;font-family:Menlo,'DejaVu Sans Mono',consolas,'Courier New',monospace\"><span style=\"color: #800000; text-decoration-color: #800000; font-weight: bold\">[Moderator-&gt;all]:</span> Bargainers, the item to be traded is diamond\n",
              "</pre>\n"
            ],
            "text/plain": [
              "\u001b[1;31m[Moderator->all]:\u001b[0m Bargainers, the item to be traded is diamond\n"
            ]
          },
          "metadata": {},
          "output_type": "display_data"
        },
        {
          "data": {
            "text/html": [
              "<pre style=\"white-space:pre;overflow-x:auto;line-height:normal;font-family:Menlo,'DejaVu Sans Mono',consolas,'Courier New',monospace\"><span style=\"color: #800000; text-decoration-color: #800000; font-weight: bold\">[Moderator-&gt;buyer]:</span> Buyer, your price upper limit is $500\n",
              "</pre>\n"
            ],
            "text/plain": [
              "\u001b[1;31m[Moderator->buyer]:\u001b[0m Buyer, your price upper limit is $500\n"
            ]
          },
          "metadata": {},
          "output_type": "display_data"
        },
        {
          "data": {
            "text/html": [
              "<pre style=\"white-space:pre;overflow-x:auto;line-height:normal;font-family:Menlo,'DejaVu Sans Mono',consolas,'Courier New',monospace\"><span style=\"color: #800000; text-decoration-color: #800000; font-weight: bold\">[Moderator-&gt;seller]:</span> Seller, your price lower limit is $100\n",
              "</pre>\n"
            ],
            "text/plain": [
              "\u001b[1;31m[Moderator->seller]:\u001b[0m Seller, your price lower limit is $100\n"
            ]
          },
          "metadata": {},
          "output_type": "display_data"
        },
        {
          "data": {
            "text/html": [
              "<pre style=\"white-space:pre;overflow-x:auto;line-height:normal;font-family:Menlo,'DejaVu Sans Mono',consolas,'Courier New',monospace\"><span style=\"color: #afff00; text-decoration-color: #afff00; font-weight: bold\">[buyer-&gt;all]:</span> Given the diamond's quality and current market conditions, I propose a price of $350. This seems to \n",
              "be a reasonable starting point for our negotiation.\n",
              "</pre>\n"
            ],
            "text/plain": [
              "\u001b[1;38;5;154m[buyer->all]:\u001b[0m Given the diamond's quality and current market conditions, I propose a price of $350. This seems to \n",
              "be a reasonable starting point for our negotiation.\n"
            ]
          },
          "metadata": {},
          "output_type": "display_data"
        },
        {
          "data": {
            "text/html": [
              "<pre style=\"white-space:pre;overflow-x:auto;line-height:normal;font-family:Menlo,'DejaVu Sans Mono',consolas,'Courier New',monospace\"><span style=\"color: #800000; text-decoration-color: #800000; font-weight: bold\">[Moderator-&gt;all]:</span> This is Turn 0. There's 4 left.\n",
              "</pre>\n"
            ],
            "text/plain": [
              "\u001b[1;31m[Moderator->all]:\u001b[0m This is Turn 0. There's 4 left.\n"
            ]
          },
          "metadata": {},
          "output_type": "display_data"
        },
        {
          "data": {
            "text/html": [
              "<pre style=\"white-space:pre;overflow-x:auto;line-height:normal;font-family:Menlo,'DejaVu Sans Mono',consolas,'Courier New',monospace\"><span style=\"color: #3a3a3a; text-decoration-color: #3a3a3a; font-weight: bold\">[seller-&gt;all]:</span> I appreciate your offer but considering the clarity, cut, and carat weight of this diamond, I \n",
              "propose a price of $500. This is a fair price given the superior quality of the diamond.\n",
              "</pre>\n"
            ],
            "text/plain": [
              "\u001b[1;38;5;237m[seller->all]:\u001b[0m I appreciate your offer but considering the clarity, cut, and carat weight of this diamond, I \n",
              "propose a price of $500. This is a fair price given the superior quality of the diamond.\n"
            ]
          },
          "metadata": {},
          "output_type": "display_data"
        },
        {
          "data": {
            "text/html": [
              "<pre style=\"white-space:pre;overflow-x:auto;line-height:normal;font-family:Menlo,'DejaVu Sans Mono',consolas,'Courier New',monospace\"><span style=\"color: #800000; text-decoration-color: #800000; font-weight: bold\">[Moderator-&gt;all]:</span> This is Turn 1. There's 3 left.\n",
              "</pre>\n"
            ],
            "text/plain": [
              "\u001b[1;31m[Moderator->all]:\u001b[0m This is Turn 1. There's 3 left.\n"
            ]
          },
          "metadata": {},
          "output_type": "display_data"
        },
        {
          "data": {
            "text/html": [
              "<pre style=\"white-space:pre;overflow-x:auto;line-height:normal;font-family:Menlo,'DejaVu Sans Mono',consolas,'Courier New',monospace\"><span style=\"color: #afff00; text-decoration-color: #afff00; font-weight: bold\">[buyer-&gt;all]:</span> I do understand the quality parameters of the diamond, however, I believe a price of $400 would be \n",
              "more appropriate. This reflects a balance between the quality of the diamond and affordability.\n",
              "</pre>\n"
            ],
            "text/plain": [
              "\u001b[1;38;5;154m[buyer->all]:\u001b[0m I do understand the quality parameters of the diamond, however, I believe a price of $400 would be \n",
              "more appropriate. This reflects a balance between the quality of the diamond and affordability.\n"
            ]
          },
          "metadata": {},
          "output_type": "display_data"
        },
        {
          "data": {
            "text/html": [
              "<pre style=\"white-space:pre;overflow-x:auto;line-height:normal;font-family:Menlo,'DejaVu Sans Mono',consolas,'Courier New',monospace\"><span style=\"color: #800000; text-decoration-color: #800000; font-weight: bold\">[Moderator-&gt;all]:</span> This is Turn 2. There's 2 left.\n",
              "</pre>\n"
            ],
            "text/plain": [
              "\u001b[1;31m[Moderator->all]:\u001b[0m This is Turn 2. There's 2 left.\n"
            ]
          },
          "metadata": {},
          "output_type": "display_data"
        },
        {
          "data": {
            "text/html": [
              "<pre style=\"white-space:pre;overflow-x:auto;line-height:normal;font-family:Menlo,'DejaVu Sans Mono',consolas,'Courier New',monospace\"><span style=\"color: #3a3a3a; text-decoration-color: #3a3a3a; font-weight: bold\">[seller-&gt;all]:</span> I appreciate your counter offer, but given the rarity and high quality of this diamond, I propose a \n",
              "price of $475. This reflects a balance between the quality and the current market price of diamonds.\n",
              "</pre>\n"
            ],
            "text/plain": [
              "\u001b[1;38;5;237m[seller->all]:\u001b[0m I appreciate your counter offer, but given the rarity and high quality of this diamond, I propose a \n",
              "price of $475. This reflects a balance between the quality and the current market price of diamonds.\n"
            ]
          },
          "metadata": {},
          "output_type": "display_data"
        },
        {
          "data": {
            "text/html": [
              "<pre style=\"white-space:pre;overflow-x:auto;line-height:normal;font-family:Menlo,'DejaVu Sans Mono',consolas,'Courier New',monospace\"><span style=\"color: #800000; text-decoration-color: #800000; font-weight: bold\">[Moderator-&gt;all]:</span> This is Turn 3. There's 1 left.\n",
              "</pre>\n"
            ],
            "text/plain": [
              "\u001b[1;31m[Moderator->all]:\u001b[0m This is Turn 3. There's 1 left.\n"
            ]
          },
          "metadata": {},
          "output_type": "display_data"
        },
        {
          "data": {
            "text/html": [
              "<pre style=\"white-space:pre;overflow-x:auto;line-height:normal;font-family:Menlo,'DejaVu Sans Mono',consolas,'Courier New',monospace\"><span style=\"color: #800000; text-decoration-color: #800000; font-weight: bold\">[Moderator-&gt;all]:</span> The negotiation ended without an agreement.\n",
              "</pre>\n"
            ],
            "text/plain": [
              "\u001b[1;31m[Moderator->all]:\u001b[0m The negotiation ended without an agreement.\n"
            ]
          },
          "metadata": {},
          "output_type": "display_data"
        },
        {
          "data": {
            "text/html": [
              "<pre style=\"white-space:pre;overflow-x:auto;line-height:normal;font-family:Menlo,'DejaVu Sans Mono',consolas,'Courier New',monospace\">\n",
              "<span style=\"color: #800000; text-decoration-color: #800000; font-weight: bold\">========= Arena Ended! ==========</span>\n",
              "\n",
              "</pre>\n"
            ],
            "text/plain": [
              "\n",
              "\u001b[1;31m========= Arena Ended! ==========\u001b[0m\n",
              "\n"
            ]
          },
          "metadata": {},
          "output_type": "display_data"
        }
      ],
      "source": [
        "gpt4_buyer = Player(name=\"buyer\",\n",
        "                    role_desc=buyer_role_description+format_specification,\n",
        "                    backend=OpenAIChat(model=\"gpt-4-0613\"))\n",
        "gpt4_seller = Player(name=\"seller\",\n",
        "                     role_desc=seller_role_description+format_specification,\n",
        "                     backend=OpenAIChat(model=\"gpt-4-0613\"))\n",
        "\n",
        "env = Bargaining(item_name=\"diamond\", upper_limit=500, lower_limit=100, max_turn=4)\n",
        "arena = Arena([gpt4_buyer, gpt4_seller], env)\n",
        "arena.launch_cli(interactive=False)"
      ]
    },
    {
      "cell_type": "markdown",
      "metadata": {
        "id": "vPDVYf6ZIcFQ"
      },
      "source": [
        "## Conclusion\n",
        "Ok. It turns out GPT-4 is indeed much smarter than the GPT-3.5. In fact, while GPT-3.5 is already quite good for chit-chat. GPT-4 is still qualitatively better for challenging tasks that need reasoning.\n",
        "In order to achieve interesting behaviours in multi-agent games out-of-the-box, it's usally better to use models more powerful than GPT-3.5.\n",
        "\n"
      ]
    }
  ],
  "metadata": {
    "colab": {
      "provenance": []
    },
    "kernelspec": {
      "display_name": "Python 3",
      "name": "python3"
    },
    "language_info": {
      "codemirror_mode": {
        "name": "ipython",
        "version": 3
      },
      "file_extension": ".py",
      "mimetype": "text/x-python",
      "name": "python",
      "nbconvert_exporter": "python",
      "pygments_lexer": "ipython3",
      "version": "3.10.11"
    }
  },
  "nbformat": 4,
  "nbformat_minor": 0
}
